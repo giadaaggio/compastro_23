{
 "cells": [
  {
   "cell_type": "markdown",
   "metadata": {},
   "source": [
    "### GAMALOS (GAlaxies MAking LOve Simulation)"
   ]
  },
  {
   "cell_type": "markdown",
   "metadata": {},
   "source": [
    "Report: write a short report containing:\n",
    "- a short introduction to the N-body problem, the difference between\n",
    "collisional and collisionless systems and the force estimate in\n",
    "collisionless simulations based on tree algorithms. Short general\n",
    "description of the fireworks package and its implementation.\n",
    "- Description of the methods (integrators, force estimator) used.\n",
    "- Description of the initial conditions and simulation setup.\n",
    "- Results and discussion. They depends on the specific project you\n",
    "chose, but I expect at least one plot showing the main conclusion of\n",
    "your analysis."
   ]
  },
  {
   "cell_type": "markdown",
   "metadata": {},
   "source": [
    "<div class='alert alert-danger' role='alert'>\n",
    "Inserisci info teoriche\n",
    "</div>"
   ]
  },
  {
   "cell_type": "markdown",
   "metadata": {},
   "source": [
    "### Computation"
   ]
  },
  {
   "cell_type": "code",
   "execution_count": 28,
   "metadata": {},
   "outputs": [],
   "source": [
    "#first of all, we import all the packages for Particles, integrators, ic...\n",
    "\n",
    "import numpy as np\n",
    "import pandas as pd\n",
    "from fireworks.ic import ic_two_body\n",
    "import matplotlib.pyplot as plt\n",
    "from fireworks.nbodylib.integrators import integrator_euler, integrator_leapfrog, integrator_rungekutta\n",
    "from fireworks.nbodylib.dynamics import acceleration_direct_vectorized #, acceleration_direct, acceleration_pyfalcon, acceleration_jerk_direct\n",
    "from fireworks.particles import Particles\n",
    "from typing import Optional, Tuple, Callable, Union\n",
    "import time\n",
    "\n",
    "#from mpl_toolkits.mplot3d import Axes3D\n",
    "\n",
    "%matplotlib widget"
   ]
  },
  {
   "cell_type": "markdown",
   "metadata": {},
   "source": [
    "We can import the data of one galaxy at first. The units are still Nbody units."
   ]
  },
  {
   "cell_type": "code",
   "execution_count": 29,
   "metadata": {},
   "outputs": [
    {
     "name": "stdout",
     "output_type": "stream",
     "text": [
      "                mass          x         y    z        vx        vy   vz\n",
      "0       1.000000e+00   0.000000  0.000000  0.0  0.000000  0.000000  0.0\n",
      "1       1.000000e-11  -3.419583 -1.901788  0.0  0.118878 -0.213752  0.0\n",
      "2       1.000000e-11 -14.046839 -2.403541  0.0  0.040952 -0.239330  0.0\n",
      "3       1.000000e-11  -4.618003  6.269821  0.0 -0.222721 -0.164044  0.0\n",
      "4       1.000000e-11  -6.045516  0.257974  0.0 -0.011730 -0.274897  0.0\n",
      "...              ...        ...       ...  ...       ...       ...  ...\n",
      "99996   1.000000e-11  -6.351708 -6.128203  0.0  0.189681 -0.196599  0.0\n",
      "99997   1.000000e-11  -5.904495 -6.226256  0.0  0.198940 -0.188659  0.0\n",
      "99998   1.000000e-11   2.474930  6.513013  0.0 -0.259340  0.098548  0.0\n",
      "99999   1.000000e-11  -2.877171 -4.125827  0.0  0.218440 -0.152330  0.0\n",
      "100000  1.000000e-11   4.043463  0.039636  0.0 -0.002431  0.247963  0.0\n",
      "\n",
      "[100001 rows x 7 columns]\n"
     ]
    }
   ],
   "source": [
    "df = pd.read_csv(\"data_cvs/Nbody_disc.csv\")\n",
    "print(df)"
   ]
  },
  {
   "cell_type": "code",
   "execution_count": 31,
   "metadata": {},
   "outputs": [],
   "source": [
    "#I create a class with the mass, pos, vel of each element of the Galaxy\n",
    "\n",
    "masses = df[['mass']]\n",
    "positions = df[['x', 'y', 'z']]\n",
    "velocities = df[['vx', 'vy', 'vz']]\n",
    "Galaxy1 = Particles(positions.values, velocities.values, masses.values)"
   ]
  },
  {
   "cell_type": "code",
   "execution_count": 37,
   "metadata": {},
   "outputs": [
    {
     "name": "stdout",
     "output_type": "stream",
     "text": [
      "[[  0.           0.           0.        ]\n",
      " [ -3.41958304  -1.90178796   0.        ]\n",
      " [-14.04683878  -2.40354145   0.        ]\n",
      " ...\n",
      " [  2.4749302    6.51301345   0.        ]\n",
      " [ -2.87717096  -4.12582673   0.        ]\n",
      " [  4.04346311   0.03963641   0.        ]]\n"
     ]
    }
   ],
   "source": [
    "print(positions.values)"
   ]
  },
  {
   "cell_type": "code",
   "execution_count": 44,
   "metadata": {},
   "outputs": [],
   "source": [
    "#I can do the same for the other Galaxy. This second galaxy is the same as the first one, but translated by a certain value. In particular I have\n",
    "pos_translation = np.array((40., 20., 0.))\n",
    "vel_translation = np.array((-0.2, 0., 0.))\n",
    "#So, I just apply this translation to find the second galaxy\n",
    "positions_gal_2 = positions.values + pos_translation\n",
    "velocities_gal_2 = velocities.values + vel_translation\n",
    "Galaxy2 = Particles(positions_gal_2, velocities_gal_2, masses.values)"
   ]
  },
  {
   "cell_type": "code",
   "execution_count": 47,
   "metadata": {},
   "outputs": [
    {
     "name": "stdout",
     "output_type": "stream",
     "text": [
      "[[  0.           0.           0.        ]\n",
      " [ -3.41958304  -1.90178796   0.        ]\n",
      " [-14.04683878  -2.40354145   0.        ]\n",
      " ...\n",
      " [  2.4749302    6.51301345   0.        ]\n",
      " [ -2.87717096  -4.12582673   0.        ]\n",
      " [  4.04346311   0.03963641   0.        ]]\n",
      "[[40.         20.          0.        ]\n",
      " [36.58041696 18.09821204  0.        ]\n",
      " [25.95316122 17.59645855  0.        ]\n",
      " ...\n",
      " [42.4749302  26.51301345  0.        ]\n",
      " [37.12282904 15.87417327  0.        ]\n",
      " [44.04346311 20.03963641  0.        ]]\n",
      "[[ 0.          0.          0.        ]\n",
      " [ 0.11887751 -0.21375228  0.        ]\n",
      " [ 0.04095161 -0.23933043  0.        ]\n",
      " ...\n",
      " [-0.25933956  0.09854844  0.        ]\n",
      " [ 0.2184396  -0.15233022  0.        ]\n",
      " [-0.00243068  0.24796345  0.        ]]\n",
      "[[-0.2         0.          0.        ]\n",
      " [-0.08112249 -0.21375228  0.        ]\n",
      " [-0.15904839 -0.23933043  0.        ]\n",
      " ...\n",
      " [-0.45933956  0.09854844  0.        ]\n",
      " [ 0.0184396  -0.15233022  0.        ]\n",
      " [-0.20243068  0.24796345  0.        ]]\n"
     ]
    }
   ],
   "source": [
    "print(Galaxy1.pos)\n",
    "print(Galaxy2.pos)\n",
    "print(Galaxy1.vel)\n",
    "print(Galaxy2.vel)"
   ]
  }
 ],
 "metadata": {
  "kernelspec": {
   "display_name": "base",
   "language": "python",
   "name": "python3"
  },
  "language_info": {
   "codemirror_mode": {
    "name": "ipython",
    "version": 3
   },
   "file_extension": ".py",
   "mimetype": "text/x-python",
   "name": "python",
   "nbconvert_exporter": "python",
   "pygments_lexer": "ipython3",
   "version": "3.10.12"
  }
 },
 "nbformat": 4,
 "nbformat_minor": 2
}
