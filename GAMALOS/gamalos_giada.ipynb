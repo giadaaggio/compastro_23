{
 "cells": [
  {
   "cell_type": "markdown",
   "metadata": {},
   "source": [
    "# GAMALOS (GAlaxies MAking LOve Simulation)"
   ]
  },
  {
   "cell_type": "markdown",
   "metadata": {},
   "source": [
    "## Theoric remarks"
   ]
  },
  {
   "cell_type": "markdown",
   "metadata": {},
   "source": [
    "Report: write a short report containing:\n",
    "- a short introduction to the N-body problem, the difference between\n",
    "collisional and collisionless systems and the force estimate in\n",
    "collisionless simulations based on tree algorithms. Short general\n",
    "description of the fireworks package and its implementation.\n",
    "- Description of the methods (integrators, force estimator) used.\n",
    "- Description of the initial conditions and simulation setup.\n",
    "- Results and discussion. They depends on the specific project you\n",
    "chose, but I expect at least one plot showing the main conclusion of\n",
    "your analysis."
   ]
  },
  {
   "cell_type": "markdown",
   "metadata": {},
   "source": [
    "<div class='alert alert-danger' role='alert'>\n",
    "Inserisci info teoriche\n",
    "</div>"
   ]
  },
  {
   "cell_type": "markdown",
   "metadata": {},
   "source": [
    "## Computation"
   ]
  },
  {
   "cell_type": "code",
   "execution_count": 1,
   "metadata": {},
   "outputs": [],
   "source": [
    "#first of all, we import all the packages for Particles, integrators, ic...\n",
    "\n",
    "import numpy as np\n",
    "import pandas as pd\n",
    "from fireworks.ic import ic_two_body\n",
    "import matplotlib.pyplot as plt\n",
    "from fireworks.nbodylib.integrators import integrator_euler, integrator_leapfrog, integrator_rungekutta\n",
    "from fireworks.nbodylib.dynamics import acceleration_direct_vectorized #, acceleration_direct, acceleration_pyfalcon, acceleration_jerk_direct\n",
    "from fireworks.particles import Particles\n",
    "from typing import Optional, Tuple, Callable, Union\n",
    "import time\n",
    "\n",
    "#from mpl_toolkits.mplot3d import Axes3D\n",
    "\n",
    "%matplotlib widget"
   ]
  },
  {
   "cell_type": "markdown",
   "metadata": {},
   "source": [
    "We can import the data of one galaxy at first. The units are still Nbody units."
   ]
  },
  {
   "cell_type": "code",
   "execution_count": 2,
   "metadata": {},
   "outputs": [
    {
     "name": "stdout",
     "output_type": "stream",
     "text": [
      "                mass          x         y    z        vx        vy   vz\n",
      "0       1.000000e+00   0.000000  0.000000  0.0  0.000000  0.000000  0.0\n",
      "1       1.000000e-11  -3.419583 -1.901788  0.0  0.118878 -0.213752  0.0\n",
      "2       1.000000e-11 -14.046839 -2.403541  0.0  0.040952 -0.239330  0.0\n",
      "3       1.000000e-11  -4.618003  6.269821  0.0 -0.222721 -0.164044  0.0\n",
      "4       1.000000e-11  -6.045516  0.257974  0.0 -0.011730 -0.274897  0.0\n",
      "...              ...        ...       ...  ...       ...       ...  ...\n",
      "99996   1.000000e-11  -6.351708 -6.128203  0.0  0.189681 -0.196599  0.0\n",
      "99997   1.000000e-11  -5.904495 -6.226256  0.0  0.198940 -0.188659  0.0\n",
      "99998   1.000000e-11   2.474930  6.513013  0.0 -0.259340  0.098548  0.0\n",
      "99999   1.000000e-11  -2.877171 -4.125827  0.0  0.218440 -0.152330  0.0\n",
      "100000  1.000000e-11   4.043463  0.039636  0.0 -0.002431  0.247963  0.0\n",
      "\n",
      "[100001 rows x 7 columns]\n"
     ]
    }
   ],
   "source": [
    "df = pd.read_csv(\"data_cvs/Nbody_disc.csv\")\n",
    "print(df)"
   ]
  },
  {
   "cell_type": "markdown",
   "metadata": {},
   "source": [
    "### 1. Initial conditions\n",
    "We generated a Particles instance for each galaxy"
   ]
  },
  {
   "cell_type": "code",
   "execution_count": 3,
   "metadata": {},
   "outputs": [],
   "source": [
    "# create a class with the mass, pos, vel of each element of the Galaxy\n",
    "\n",
    "masses = df[['mass']]\n",
    "positions = df[['x', 'y', 'z']]\n",
    "velocities = df[['vx', 'vy', 'vz']]\n",
    "Galaxy1 = Particles(positions.values, velocities.values, masses.values)"
   ]
  },
  {
   "cell_type": "code",
   "execution_count": 4,
   "metadata": {},
   "outputs": [
    {
     "name": "stdout",
     "output_type": "stream",
     "text": [
      "[[  0.           0.           0.        ]\n",
      " [ -3.41958304  -1.90178796   0.        ]\n",
      " [-14.04683878  -2.40354145   0.        ]\n",
      " ...\n",
      " [  2.4749302    6.51301345   0.        ]\n",
      " [ -2.87717096  -4.12582673   0.        ]\n",
      " [  4.04346311   0.03963641   0.        ]]\n"
     ]
    }
   ],
   "source": [
    "print(positions.values)"
   ]
  },
  {
   "cell_type": "code",
   "execution_count": 5,
   "metadata": {},
   "outputs": [],
   "source": [
    "# do the same for the other galaxy\n",
    "# this second galaxy is the same as the first one, but translated by a certain value\n",
    "\n",
    "pos_translation = np.array((40., 20., 0.))\n",
    "vel_translation = np.array((-0.2, 0., 0.))\n",
    "\n",
    "# apply this translation to find the second galaxy\n",
    "\n",
    "positions_gal_2 = positions.values + pos_translation\n",
    "velocities_gal_2 = velocities.values + vel_translation\n",
    "Galaxy2 = Particles(positions_gal_2, velocities_gal_2, masses.values)"
   ]
  },
  {
   "cell_type": "code",
   "execution_count": 6,
   "metadata": {},
   "outputs": [
    {
     "name": "stdout",
     "output_type": "stream",
     "text": [
      "[[  0.           0.           0.        ]\n",
      " [ -3.41958304  -1.90178796   0.        ]\n",
      " [-14.04683878  -2.40354145   0.        ]\n",
      " ...\n",
      " [  2.4749302    6.51301345   0.        ]\n",
      " [ -2.87717096  -4.12582673   0.        ]\n",
      " [  4.04346311   0.03963641   0.        ]]\n",
      "[[40.         20.          0.        ]\n",
      " [36.58041696 18.09821204  0.        ]\n",
      " [25.95316122 17.59645855  0.        ]\n",
      " ...\n",
      " [42.4749302  26.51301345  0.        ]\n",
      " [37.12282904 15.87417327  0.        ]\n",
      " [44.04346311 20.03963641  0.        ]]\n",
      "[[ 0.          0.          0.        ]\n",
      " [ 0.11887751 -0.21375228  0.        ]\n",
      " [ 0.04095161 -0.23933043  0.        ]\n",
      " ...\n",
      " [-0.25933956  0.09854844  0.        ]\n",
      " [ 0.2184396  -0.15233022  0.        ]\n",
      " [-0.00243068  0.24796345  0.        ]]\n",
      "[[-0.2         0.          0.        ]\n",
      " [-0.08112249 -0.21375228  0.        ]\n",
      " [-0.15904839 -0.23933043  0.        ]\n",
      " ...\n",
      " [-0.45933956  0.09854844  0.        ]\n",
      " [ 0.0184396  -0.15233022  0.        ]\n",
      " [-0.20243068  0.24796345  0.        ]]\n"
     ]
    }
   ],
   "source": [
    "# check if the particles class worked properly\n",
    "\n",
    "print(Galaxy1.pos)\n",
    "print(Galaxy2.pos)\n",
    "print(Galaxy1.vel)\n",
    "print(Galaxy2.vel)"
   ]
  },
  {
   "cell_type": "markdown",
   "metadata": {},
   "source": [
    "### 2. Rotation curve\n",
    "The rotation curve of a galaxy shows the azimuthal velocity as function of the cylindrical radius . To estimate the azimuthal velocity for each particle we transform the Cartesian coordinates to cylindrical: \n",
    "\n",
    "$$\n",
    "\\begin{cases}\n",
    "R = \\sqrt(x^2+y^2) \\\\\n",
    "\\phi = \\arctan(\\frac{y}{x}) \\\\\n",
    "z=z\n",
    "\\end{cases}\n",
    "$$\n",
    "\n",
    "We then computed the azymuthal velocity for all the particles using: \n",
    "$$\n",
    "V_\\phi = V_y \\cdot \\cos(\\phi) - V_x\\cdot \\sin(\\phi)\n",
    "$$\n",
    "\n",
    "We then plotted $V_\\phi$ vs $R$ to obtain the rotation curve of the galaxy. \n"
   ]
  },
  {
   "cell_type": "code",
   "execution_count": 26,
   "metadata": {},
   "outputs": [
    {
     "data": {
      "application/vnd.jupyter.widget-view+json": {
       "model_id": "cc2190599cdb4855b8faf725957f60a6",
       "version_major": 2,
       "version_minor": 0
      },
      "image/png": "[encoded data removed]",
      "text/html": [
       "\n",
       "            <div style=\"display: inline-block;\">\n",
       "                <div class=\"jupyter-widgets widget-label\" style=\"text-align: center;\">\n",
       "                    Figure\n",
       "                </div>\n",
       "                <img src='data:image/png;base64,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' width=640.0/>\n",
       "            </div>\n",
       "        "
      ],
      "text/plain": [
       "Canvas(toolbar=Toolbar(toolitems=[('Home', 'Reset original view', 'home', 'home'), ('Back', 'Back to previous …"
      ]
     },
     "metadata": {},
     "output_type": "display_data"
    }
   ],
   "source": [
    "# convert to cylindrical coordinates\n",
    "\n",
    "Rcyl = np.sqrt(Galaxy1.pos[:, 0] ** 2 + Galaxy1.pos[:, 1] ** 2)\n",
    "phi = np.arctan2(Galaxy1.pos[:, 1], Galaxy1.pos[:, 0])\n",
    "z = Galaxy1.pos[:, 2]\n",
    "\n",
    "vel_phi = Galaxy1.vel[:, 1] * np.cos(phi) - Galaxy1.vel[:, 0] * np.sin(phi)\n",
    "\n",
    "plt.figure()\n",
    "plt.plot(Rcyl, vel_phi, 'o', markersize=1)\n",
    "plt.xlabel(\"Rcyl [Nbody]\")\n",
    "plt.ylabel(\"Vphi [Nbody]\")\n",
    "plt.title(\"Rotation Curve Galaxy 1\")\n",
    "plt.show()\n"
   ]
  },
  {
   "cell_type": "markdown",
   "metadata": {},
   "source": [
    "### 3. Surface profile density"
   ]
  }
 ],
 "metadata": {
  "kernelspec": {
   "display_name": "base",
   "language": "python",
   "name": "python3"
  },
  "language_info": {
   "codemirror_mode": {
    "name": "ipython",
    "version": 3
   },
   "file_extension": ".py",
   "mimetype": "text/x-python",
   "name": "python",
   "nbconvert_exporter": "python",
   "pygments_lexer": "ipython3",
   "version": "3.10.12"
  }
 },
 "nbformat": 4,
 "nbformat_minor": 2
}
