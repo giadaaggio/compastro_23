{
 "cells": [
  {
   "cell_type": "markdown",
   "metadata": {},
   "source": [
    "# GAMALOS (GAlaxies MAking LOve Simulation)"
   ]
  },
  {
   "cell_type": "markdown",
   "metadata": {},
   "source": [
    "# Theoric remarks"
   ]
  },
  {
   "cell_type": "markdown",
   "metadata": {},
   "source": [
    "Report: write a short report containing:\n",
    "- a short introduction to the N-body problem, the difference between\n",
    "collisional and collisionless systems and the force estimate in\n",
    "collisionless simulations based on tree algorithms. Short general\n",
    "description of the fireworks package and its implementation.\n",
    "- Description of the methods (integrators, force estimator) used.\n",
    "- Description of the initial conditions and simulation setup.\n",
    "- Results and discussion. They depends on the specific project you\n",
    "chose, but I expect at least one plot showing the main conclusion of\n",
    "your analysis."
   ]
  },
  {
   "cell_type": "markdown",
   "metadata": {},
   "source": [
    "<div class='alert alert-danger' role='alert'>\n",
    "Inserisci info teoriche\n",
    "</div>"
   ]
  },
  {
   "cell_type": "markdown",
   "metadata": {},
   "source": [
    "# Computation"
   ]
  },
  {
   "cell_type": "markdown",
   "metadata": {},
   "source": [
    "## Import the packages and the data"
   ]
  },
  {
   "cell_type": "code",
   "execution_count": 1,
   "metadata": {},
   "outputs": [],
   "source": [
    "import numpy as np\n",
    "import pandas as pd\n",
    "from fireworks.ic import ic_two_body\n",
    "import matplotlib.pyplot as plt\n",
    "from fireworks.nbodylib.integrators import integrator_leapfrog_galaxy, integrator_leapfrog, integrator_leapfrog_galaxy_encounter, integrator_tsunami\n",
    "from fireworks.nbodylib.dynamics import acceleration_pyfalcon\n",
    "from fireworks.nbodylib.timesteps import adaptive_timestep_r\n",
    "from fireworks.particles import Particles\n",
    "from typing import Optional, Tuple, Callable, Union\n",
    "import time\n",
    "\n",
    "from mpl_toolkits.mplot3d import Axes3D\n",
    "\n",
    "%matplotlib widget"
   ]
  },
  {
   "cell_type": "markdown",
   "metadata": {},
   "source": [
    "We can import the data of one galaxy at first. The units are still Nbody units."
   ]
  },
  {
   "cell_type": "markdown",
   "metadata": {},
   "source": [
    "<div class='alert alert-block alert-warning'>\n",
    "occhio che ho preso 1e4 particelle!!\n",
    "</div>"
   ]
  },
  {
   "cell_type": "code",
   "execution_count": 2,
   "metadata": {},
   "outputs": [
    {
     "data": {
      "text/html": [
       "<div>\n",
       "<style scoped>\n",
       "    .dataframe tbody tr th:only-of-type {\n",
       "        vertical-align: middle;\n",
       "    }\n",
       "\n",
       "    .dataframe tbody tr th {\n",
       "        vertical-align: top;\n",
       "    }\n",
       "\n",
       "    .dataframe thead th {\n",
       "        text-align: right;\n",
       "    }\n",
       "</style>\n",
       "<table border=\"1\" class=\"dataframe\">\n",
       "  <thead>\n",
       "    <tr style=\"text-align: right;\">\n",
       "      <th></th>\n",
       "      <th>mass</th>\n",
       "      <th>x</th>\n",
       "      <th>y</th>\n",
       "      <th>z</th>\n",
       "      <th>vx</th>\n",
       "      <th>vy</th>\n",
       "      <th>vz</th>\n",
       "    </tr>\n",
       "  </thead>\n",
       "  <tbody>\n",
       "    <tr>\n",
       "      <th>0</th>\n",
       "      <td>1.000000e+00</td>\n",
       "      <td>0.000000</td>\n",
       "      <td>0.000000</td>\n",
       "      <td>0.0</td>\n",
       "      <td>0.000000</td>\n",
       "      <td>0.000000</td>\n",
       "      <td>0.0</td>\n",
       "    </tr>\n",
       "    <tr>\n",
       "      <th>1</th>\n",
       "      <td>1.000000e-11</td>\n",
       "      <td>-3.419583</td>\n",
       "      <td>-1.901788</td>\n",
       "      <td>0.0</td>\n",
       "      <td>0.118878</td>\n",
       "      <td>-0.213752</td>\n",
       "      <td>0.0</td>\n",
       "    </tr>\n",
       "    <tr>\n",
       "      <th>2</th>\n",
       "      <td>1.000000e-11</td>\n",
       "      <td>-14.046839</td>\n",
       "      <td>-2.403541</td>\n",
       "      <td>0.0</td>\n",
       "      <td>0.040952</td>\n",
       "      <td>-0.239330</td>\n",
       "      <td>0.0</td>\n",
       "    </tr>\n",
       "    <tr>\n",
       "      <th>3</th>\n",
       "      <td>1.000000e-11</td>\n",
       "      <td>-4.618003</td>\n",
       "      <td>6.269821</td>\n",
       "      <td>0.0</td>\n",
       "      <td>-0.222721</td>\n",
       "      <td>-0.164044</td>\n",
       "      <td>0.0</td>\n",
       "    </tr>\n",
       "    <tr>\n",
       "      <th>4</th>\n",
       "      <td>1.000000e-11</td>\n",
       "      <td>-6.045516</td>\n",
       "      <td>0.257974</td>\n",
       "      <td>0.0</td>\n",
       "      <td>-0.011730</td>\n",
       "      <td>-0.274897</td>\n",
       "      <td>0.0</td>\n",
       "    </tr>\n",
       "    <tr>\n",
       "      <th>5</th>\n",
       "      <td>1.000000e-11</td>\n",
       "      <td>-1.393104</td>\n",
       "      <td>1.578234</td>\n",
       "      <td>0.0</td>\n",
       "      <td>-0.124900</td>\n",
       "      <td>-0.110249</td>\n",
       "      <td>0.0</td>\n",
       "    </tr>\n",
       "    <tr>\n",
       "      <th>6</th>\n",
       "      <td>1.000000e-11</td>\n",
       "      <td>-1.150877</td>\n",
       "      <td>-1.762433</td>\n",
       "      <td>0.0</td>\n",
       "      <td>0.139480</td>\n",
       "      <td>-0.091081</td>\n",
       "      <td>0.0</td>\n",
       "    </tr>\n",
       "    <tr>\n",
       "      <th>7</th>\n",
       "      <td>1.000000e-11</td>\n",
       "      <td>0.593887</td>\n",
       "      <td>-1.003781</td>\n",
       "      <td>0.0</td>\n",
       "      <td>0.086283</td>\n",
       "      <td>0.051049</td>\n",
       "      <td>0.0</td>\n",
       "    </tr>\n",
       "    <tr>\n",
       "      <th>8</th>\n",
       "      <td>1.000000e-11</td>\n",
       "      <td>2.423492</td>\n",
       "      <td>-10.266498</td>\n",
       "      <td>0.0</td>\n",
       "      <td>0.257402</td>\n",
       "      <td>0.060762</td>\n",
       "      <td>0.0</td>\n",
       "    </tr>\n",
       "    <tr>\n",
       "      <th>9</th>\n",
       "      <td>1.000000e-11</td>\n",
       "      <td>-3.279328</td>\n",
       "      <td>5.118040</td>\n",
       "      <td>0.0</td>\n",
       "      <td>-0.231783</td>\n",
       "      <td>-0.148512</td>\n",
       "      <td>0.0</td>\n",
       "    </tr>\n",
       "  </tbody>\n",
       "</table>\n",
       "</div>"
      ],
      "text/plain": [
       "           mass          x          y    z        vx        vy   vz\n",
       "0  1.000000e+00   0.000000   0.000000  0.0  0.000000  0.000000  0.0\n",
       "1  1.000000e-11  -3.419583  -1.901788  0.0  0.118878 -0.213752  0.0\n",
       "2  1.000000e-11 -14.046839  -2.403541  0.0  0.040952 -0.239330  0.0\n",
       "3  1.000000e-11  -4.618003   6.269821  0.0 -0.222721 -0.164044  0.0\n",
       "4  1.000000e-11  -6.045516   0.257974  0.0 -0.011730 -0.274897  0.0\n",
       "5  1.000000e-11  -1.393104   1.578234  0.0 -0.124900 -0.110249  0.0\n",
       "6  1.000000e-11  -1.150877  -1.762433  0.0  0.139480 -0.091081  0.0\n",
       "7  1.000000e-11   0.593887  -1.003781  0.0  0.086283  0.051049  0.0\n",
       "8  1.000000e-11   2.423492 -10.266498  0.0  0.257402  0.060762  0.0\n",
       "9  1.000000e-11  -3.279328   5.118040  0.0 -0.231783 -0.148512  0.0"
      ]
     },
     "execution_count": 2,
     "metadata": {},
     "output_type": "execute_result"
    }
   ],
   "source": [
    "df_0 = pd.read_csv(\"data_cvs/Nbody_disc.csv\")\n",
    "\n",
    "# slice dataframe\n",
    "num_trackers = 1e3\n",
    "df = df_0.iloc[:int(num_trackers)]\n",
    "\n",
    "df.head(10)"
   ]
  },
  {
   "cell_type": "markdown",
   "metadata": {},
   "source": [
    "## Initial conditions\n",
    "We generated a Particles instance for each galaxy to differentiate them. "
   ]
  },
  {
   "cell_type": "code",
   "execution_count": 3,
   "metadata": {},
   "outputs": [],
   "source": [
    "# create a class with the mass, pos, vel of each element of the Galaxy\n",
    "\n",
    "masses = df[['mass']]\n",
    "positions = df[['x', 'y', 'z']]\n",
    "velocities = df[['vx', 'vy', 'vz']]\n",
    "\n",
    "# reshape mass array as 1D array\n",
    "masses = masses.values.reshape(-1)\n",
    "\n",
    "Galaxy1 = Particles(positions.values, velocities.values, masses)\n",
    "\n",
    "# do the same for the other galaxy\n",
    "# this second galaxy is the same as the first one, but translated by a certain value\n",
    "\n",
    "pos_translation = np.array((40., 20., 0.))\n",
    "vel_translation = np.array((-0.2, 0., 0.))\n",
    "\n",
    "# apply this translation to find the second galaxy\n",
    "\n",
    "positions_gal_2 = positions.values + pos_translation\n",
    "velocities_gal_2 = velocities.values + vel_translation\n",
    "Galaxy2 = Particles(positions_gal_2, velocities_gal_2, masses)\n"
   ]
  },
  {
   "cell_type": "markdown",
   "metadata": {},
   "source": [
    "## Rotation curve and Surface density profile\n",
    "Let's plot the rotation curve and the surface density profile for one galaxy, in particular for Galaxy 1. \n",
    "\n",
    "The **rotation curve** of a galaxy shows the azimuthal velocity as function of the cylindrical radius . To estimate the azimuthal velocity for each particle we transform the Cartesian coordinates to cylindrical: \n",
    "\n",
    "$$\n",
    "\\begin{cases}\n",
    "R_{\\text{cyl}} = \\sqrt(x^2+y^2) \\\\\n",
    "\\phi = \\arctan(\\frac{y}{x}) \\\\\n",
    "z=z\n",
    "\\end{cases}\n",
    "$$\n",
    "\n",
    "We then computed the azymuthal velocity for all the particles using: \n",
    "$$\n",
    "V_\\phi = V_y \\cdot \\cos(\\phi) - V_x\\cdot \\sin(\\phi)\n",
    "$$\n",
    "\n",
    "We then plotted $V_\\phi$ vs $R$ to obtain the rotation curve of the galaxy. \n",
    "\n",
    "The **surface density profile** $\\Sigma$ shows the amount of mass in a cylindrical ring divided by the area of the ring. To estimate it we bin the particles on the cylindrical radius $R_{\\text{cyl}}$, then we sum all the masses of the particles to obtain $M_{\\text{tot, ring}}$ and then the area of the ring is given by $\\pi (R^2_{\\text{outer}}-R^2_{\\text{inner}})$ where $R_{\\text{inner}}$ and $R_{\\text{outer}}$ are the borders of the considered bin. Finally $\\Sigma_{\\text{ring}}=M_{\\text{tot, ring}}/A_{\\text{ring}}$. \n",
    "\n",
    "We plotted the initial number suface density of the disc, which means that we use the number of particles instead of the total mass of the ring, as function of the cylindrical radius. \n",
    "\n",
    "---"
   ]
  },
  {
   "cell_type": "markdown",
   "metadata": {},
   "source": [
    "## Helper functions\n",
    "Let's define some helper functions: \n",
    "* `rotation_curve_rescaled`: takes as input the class and the particle we defined as the galactic center and outputs the cylindrical radius and the azimuthal velocity (rescaled to the galactic center);\n",
    "* `surface_density`: computes the numerical surface density taking as input the cylindrical radius;\n",
    "* `ìntegration_leapfrog`: integrates the galaxy over the time of the simulation using the integrator leapfrog, moreover computes the cyclindrical radius and the azimuthal velocity using `rotation_curve_rescaled`."
   ]
  },
  {
   "cell_type": "code",
   "execution_count": 4,
   "metadata": {},
   "outputs": [],
   "source": [
    "def rotation_curve_rescaled(galaxy: Particles, GC: float):\n",
    "    \n",
    "    # rescale the position and velocity of the particles\n",
    "    # GC is the particle assumed as the center of the galaxy\n",
    "    dx = galaxy.pos[:,0] - galaxy.pos[GC,0]\n",
    "    dy = galaxy.pos[:,1] - galaxy.pos[GC,1]\n",
    "    dz = galaxy.pos[:,2] - galaxy.pos[GC,2]\n",
    "\n",
    "    dvx = galaxy.vel[:,0] - galaxy.vel[GC,0]\n",
    "    dvy = galaxy.vel[:,1] - galaxy.vel[GC,1]\n",
    "    dvz = galaxy.vel[:,2] - galaxy.vel[GC,2]\n",
    "\n",
    "    # compute the cylindrical radius and azimuthal angle\n",
    "    Rcyl = np.sqrt(dx**2 + dy**2)                   # cylindrical radius\n",
    "    phi = np.arctan2(dy, dx)                        # azimuthal angle\n",
    "    z = dz                                          # z-coordinate\n",
    "\n",
    "    # compute velocities    \n",
    "    vel_phi = dvy * np.cos(phi) - dvx * np.sin(phi) + dvz       # azimuthal velocity\n",
    "    vel_r = np.cos(phi) * dvx + np.sin(phi) * dvy + dvz   # radial velocity\n",
    "    vel_z = dvz                                           # vertical velocity\n",
    "\n",
    "    return Rcyl, dz, vel_phi, vel_r, vel_z\n",
    "\n",
    "def surface_density(Rcyl):\n",
    "    H, edge = np.histogram(Rcyl, bins=20)                                          # histogram of the cylindrical radius\n",
    "    area =  np.pi * (edge[1:]**2 - edge[0:-1]**2)                                  # area of every bin (every concentric ring) \n",
    "    mid = 0.5 * (edge[1:] + edge[0:-1])                                            # midpoint of every bin  \n",
    "\n",
    "    return mid, H, area"
   ]
  },
  {
   "cell_type": "code",
   "execution_count": 5,
   "metadata": {},
   "outputs": [],
   "source": [
    "def integration_leapfrog(galaxy: Particles, h: float, tsimulation: float, t: float, soft: float, GC: float):\n",
    "    N = int((tsimulation - t) / h)  # number of time steps\n",
    "    num_particles = len(galaxy.mass)  # number of particles in the galaxy\n",
    "    path = np.empty((N, num_particles, 3))  # array to store the position of the galaxy\n",
    "    velocity = np.empty((N, num_particles, 3))  # array to store the velocity of the galaxy\n",
    "    time = np.empty(N)\n",
    "    timestep = np.empty(N)\n",
    "    \n",
    "    R_cyl, _, V_phi, V_r, V_z = rotation_curve_rescaled(galaxy, GC)\n",
    "    R_cyl = [R_cyl]\n",
    "    V_phi = [V_phi]\n",
    "    V_r = [V_r]\n",
    "    V_z = [V_z]\n",
    "\n",
    "    i = 0\n",
    "    while t < tsimulation - h:\n",
    "        updated_galaxy, _,  updated_acc, _, _ = integrator_leapfrog(particles=galaxy, tstep=h, acceleration_estimator=acceleration_pyfalcon, softening=soft)\n",
    "        path[i] = updated_galaxy.pos\n",
    "        velocity[i] = updated_galaxy.vel\n",
    "            \n",
    "        R, z, Vphi, Vr, Vz = rotation_curve_rescaled(updated_galaxy, GC)\n",
    "\n",
    "        timestep[i] = h\n",
    "        t += h\n",
    "        time[i] = t\n",
    "\n",
    "        R_cyl.append(R)\n",
    "        V_phi.append(Vphi) \n",
    "        V_r.append(Vr)\n",
    "        V_z.append(Vz)\n",
    "\n",
    "        i += 1\n",
    "\n",
    "    R_cyl = np.array(R_cyl)\n",
    "    V_phi = np.array(V_phi)\n",
    "    V_r = np.array(V_r)\n",
    "    V_z = np.array(V_z)\n",
    "\n",
    "    return path, velocity, time, R_cyl, V_phi, V_r, V_z"
   ]
  },
  {
   "cell_type": "markdown",
   "metadata": {},
   "source": [
    "----"
   ]
  },
  {
   "cell_type": "markdown",
   "metadata": {},
   "source": [
    "## Galaxy 1\n",
    "Let's try an orbital simulation of the first galaxy to see if the integration works (in this test we used the leap-frog method)."
   ]
  },
  {
   "cell_type": "code",
   "execution_count": 6,
   "metadata": {},
   "outputs": [
    {
     "name": "stdout",
     "output_type": "stream",
     "text": [
      "Period of the galaxy (approximately): 104.8239304318399\n",
      "(10000, 1000, 3)\n"
     ]
    }
   ],
   "source": [
    "# compute the orbital period with T = 2*pi*sqrt(a^3/GM)\n",
    "\n",
    "G = 1.                                                                   # gravitational constant in n-body units\n",
    "plummer_scale_lenght = 5.                                                # scale lenght of the plummer sphere (softening)\n",
    "\n",
    "radius = np.sqrt(np.sum((Galaxy1.pos-Galaxy1.pos[0])**2., axis=1))  # radius array\n",
    "\n",
    "central_mass = Galaxy1.mass[0]                                           # central mass of the galaxy\n",
    "\n",
    "T = 2 * np.pi * np.sqrt(radius**3 / (G * central_mass))        # period of the galaxy using radius array  \n",
    "T = np.mean(T)                                                           # mean period of the galaxy\n",
    "\n",
    "print(f'Period of the galaxy (approximately): {T}')\n",
    "\n",
    "# define the time of simulation and the number of steps\n",
    "\n",
    "t0 = 0.                         # initial time\n",
    "tsimulation = 1*T               # time of simulation (one period)\n",
    "N = int(1e3)                    # number of steps\n",
    "h = (tsimulation - t0)/N        # time steps\n",
    "\n",
    "Galaxy1_test = Galaxy1.copy()\n",
    "\n",
    "Galaxy1_orbit, Galaxy1_stars_vel, Galaxy1_time, Galaxy1_Rcyl, Galaxy1_Vphi, Galaxy1_Vr, Galaxy1_Vz = integration_leapfrog(galaxy=Galaxy1_test, h=h, \n",
    "                                                                                            tsimulation=tsimulation, t=t0, soft=plummer_scale_lenght, GC=0)\n",
    "\n",
    "print(Galaxy1_orbit.shape)\n",
    "# (iterations, particles, coordinates)"
   ]
  },
  {
   "cell_type": "code",
   "execution_count": 7,
   "metadata": {},
   "outputs": [
    {
     "data": {
      "application/vnd.jupyter.widget-view+json": {
       "model_id": "f0d909d837fb407c80d85c43cbfa7bb3",
       "version_major": 2,
       "version_minor": 0
      },
      "image/png": "[encoded data removed]",
      "text/html": [
       "\n",
       "            <div style=\"display: inline-block;\">\n",
       "                <div class=\"jupyter-widgets widget-label\" style=\"text-align: center;\">\n",
       "                    Figure\n",
       "                </div>\n",
       "                <img src='data:image/png;base64,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' width=500.0/>\n",
       "            </div>\n",
       "        "
      ],
      "text/plain": [
       "Canvas(toolbar=Toolbar(toolitems=[('Home', 'Reset original view', 'home', 'home'), ('Back', 'Back to previous …"
      ]
     },
     "metadata": {},
     "output_type": "display_data"
    }
   ],
   "source": [
    "# plot of the orbit of the galaxy\n",
    "\n",
    "plt.figure(figsize=(5,5))\n",
    "plt.scatter(Galaxy1_orbit[:,1:,0], Galaxy1_orbit[:,1:,1], s=0.005, color='b', alpha=0.1)\n",
    "plt.plot(Galaxy1_orbit[0,1:,0], Galaxy1_orbit[0,1:,1], 'o', markersize=0.5, c='b', label='initial position', alpha=0.5)\n",
    "plt.plot(Galaxy1_orbit[-1,1:,0], Galaxy1_orbit[-1,1:,1], 'o', markersize=1, c='g', label='final position', alpha=0.5, zorder=10)\n",
    "plt.scatter(Galaxy1_orbit[:,0,0], Galaxy1_orbit[:,0,1], s=10, color='r', label='GC', zorder=10)\n",
    "plt.xlabel('X [Nbody]')\n",
    "plt.ylabel('Y [Nbody]')\n",
    "plt.title('Orbit of Galaxy1')\n",
    "plt.legend(loc='upper right', fontsize=8)\n",
    "plt.grid(True, alpha=0.5)\n",
    "plt.show()"
   ]
  },
  {
   "cell_type": "markdown",
   "metadata": {},
   "source": [
    "### Stability of the rotation curve and of the surface density\n",
    "\n",
    "We check that both the rotation curve and the surface density of the galaxy after running one simulation remain stable after a timescale defined as the mean period of the galaxy"
   ]
  },
  {
   "cell_type": "code",
   "execution_count": null,
   "metadata": {},
   "outputs": [],
   "source": [
    "plt.figure(figsize=(5, 5))\n",
    "n = Galaxy1_Rcyl.shape[0]\n",
    "snapshots = np.arange(0, n, n//2)\n",
    "title = ['initial', 'mid', 'final']\n",
    "for i in range (len(snapshots)):\n",
    "    plt.scatter(Galaxy1_Rcyl[snapshots[i],:], Galaxy1_Vphi[snapshots[i],:], s=0.5, label=title[i], alpha=0.5)\n",
    "    \n",
    "plt.xlabel('$R_{cycl}$')\n",
    "plt.ylabel('$V_{\\phi}$')\n",
    "plt.title('Tangential velocity Galaxy 1')\n",
    "plt.legend(loc='lower right')\n",
    "plt.show()  "
   ]
  },
  {
   "cell_type": "code",
   "execution_count": null,
   "metadata": {},
   "outputs": [],
   "source": [
    "# intial surface density\n",
    "mid, H, area = surface_density(Galaxy1_Rcyl[0])\n",
    "\n",
    "# final surface density\n",
    "mid_end, H_end, area_end = surface_density(Galaxy1_Rcyl[-1])"
   ]
  },
  {
   "cell_type": "code",
   "execution_count": null,
   "metadata": {},
   "outputs": [],
   "source": [
    "# plot the surface density of the initial and final galaxy\n",
    "plt.figure(figsize=(5,5))\n",
    "plt.plot(mid, H / area, label='initial')\n",
    "plt.plot(mid_end, H_end / area_end, label='final')\n",
    "plt.yscale('log')\n",
    "plt.xlabel(\"Rcyl [Nbody]\")  \n",
    "plt.ylabel(\"Surface Number Density [Nbody]\")\n",
    "plt.title(\"Surface Density Profile Galaxy 1\")\n",
    "plt.legend()\n",
    "plt.show()"
   ]
  },
  {
   "cell_type": "markdown",
   "metadata": {},
   "source": [
    "## Galaxy 2\n",
    "\n",
    "### Stability of the rotation curve and of the surface density\n",
    "We do the same check for the other galaxy, so first we run a simulation and then we check the stability of the rotation curve and of the surface density. "
   ]
  },
  {
   "cell_type": "code",
   "execution_count": null,
   "metadata": {},
   "outputs": [],
   "source": [
    "# compute the orbital period with T = 2*pi*sqrt(a^3/GM)\n",
    "\n",
    "G = 1.                                                                   # gravitational constant in n-body units\n",
    "plummer_scale_lenght = 5.                                                # scale lenght of the plummer sphere (softening)\n",
    "\n",
    "central_mass2 = Galaxy1.mass[0]                                           # central mass of the galaxy\n",
    "radius = np.sqrt(np.sum((Galaxy2.pos-Galaxy2.pos[0])**2., axis=1))  # radius array\n",
    "\n",
    "T = 2 * np.pi * np.sqrt(radius**3 / (G * central_mass))        # period of the galaxy using radius array  \n",
    "T = np.mean(T)                                                           # mean period of the galaxy\n",
    "\n",
    "print(f'Period of the galaxy (approximately): {T}')\n",
    "\n",
    "# define the time of simulation and the number of steps\n",
    "\n",
    "t0 = 0.                         # initial time\n",
    "tsimulation = 1*T               # time of simulation (one period)\n",
    "N = int(1e3)                    # number of steps\n",
    "h = (tsimulation - t0)/N        # time steps\n",
    "\n",
    "Galaxy2_test = Galaxy2.copy()\n",
    "\n",
    "Galaxy2_orbit, Galaxy2_stars_vel, Galaxy2_time, Galaxy2_Rcyl, Galaxy2_Vphi, Galaxy2_Vr, Galaxy2_Vz = integration_leapfrog(galaxy=Galaxy2_test, h=h, \n",
    "                                                                                            tsimulation=tsimulation, t=t0, soft=plummer_scale_lenght, GC=0)\n"
   ]
  },
  {
   "cell_type": "code",
   "execution_count": null,
   "metadata": {},
   "outputs": [],
   "source": [
    "plt.figure(figsize=(5, 5))\n",
    "n = Galaxy2_Rcyl.shape[0]\n",
    "snapshots = np.arange(0, n, n//2)\n",
    "title = ['initial', 'mid', 'final']\n",
    "for i in range (len(snapshots)):\n",
    "    plt.scatter(Galaxy2_Rcyl[snapshots[i],:], Galaxy2_Vphi[snapshots[i],:], s=0.5, label=title[i], alpha=0.5)\n",
    "    \n",
    "plt.xlabel('$R_{cycl}$')\n",
    "plt.ylabel('$V_{\\phi}$')\n",
    "plt.title('Tangential velocity Galaxy 2')\n",
    "plt.legend(loc='lower right')\n",
    "plt.show()  "
   ]
  },
  {
   "cell_type": "code",
   "execution_count": null,
   "metadata": {},
   "outputs": [],
   "source": [
    "# intial surface density\n",
    "mid, H, area = surface_density(Galaxy2_Rcyl[0])\n",
    "\n",
    "# final surface density\n",
    "mid_end, H_end, area_end = surface_density(Galaxy2_Rcyl[-1])"
   ]
  },
  {
   "cell_type": "code",
   "execution_count": null,
   "metadata": {},
   "outputs": [],
   "source": [
    "# plot the surface density of the initial and final galaxy\n",
    "plt.figure(figsize=(5,5))\n",
    "plt.plot(mid, H / area, label='initial')\n",
    "plt.plot(mid_end, H_end / area_end, label='final')\n",
    "plt.yscale('log')\n",
    "plt.xlabel(\"Rcyl [Nbody]\")  \n",
    "plt.ylabel(\"Surface Number Density [Nbody]\")\n",
    "plt.title(\"Surface Density Profile Galaxy 2\")\n",
    "plt.legend()\n",
    "plt.show()"
   ]
  },
  {
   "cell_type": "markdown",
   "metadata": {},
   "source": [
    "----    "
   ]
  },
  {
   "cell_type": "markdown",
   "metadata": {},
   "source": [
    "## Galaxy encounter\n",
    "\n",
    "We run a galaxy encounter and then show how the rotation curve and the disc surface profile evolve with time. \n",
    "First of all, we make a single class with both galaxies. "
   ]
  },
  {
   "cell_type": "code",
   "execution_count": null,
   "metadata": {},
   "outputs": [],
   "source": [
    "# Combine Galaxy1 and Galaxy2 into a single Particles class\n",
    "combined_pos = np.concatenate((Galaxy1.pos, Galaxy2.pos))\n",
    "combined_vel = np.concatenate((Galaxy1.vel, Galaxy2.vel))\n",
    "combined_mass = np.concatenate((Galaxy1.mass, Galaxy2.mass))\n",
    "\n",
    "Combined_Galaxies = Particles(combined_pos, combined_vel, combined_mass)\n",
    "\n",
    "div = int(num_trackers) # first index of the second galaxy"
   ]
  },
  {
   "cell_type": "markdown",
   "metadata": {},
   "source": [
    "We define another function for the integration `integration_leapfrog_encounter` to differentiate the rescaling for the two galaxies based on the ID of the particles. "
   ]
  },
  {
   "cell_type": "code",
   "execution_count": null,
   "metadata": {},
   "outputs": [],
   "source": [
    "def integration_leapfrog_encounter(galaxy: Particles, h: float, tsimulation: float, t: float, soft: float):\n",
    "    N = int((tsimulation - t) / h)  # number of time steps\n",
    "    num_particles = len(galaxy.mass)  # number of particles in the galaxy\n",
    "    path = np.empty((N, num_particles, 3))  # array to store the position of the galaxy\n",
    "    velocity = np.empty((N, num_particles, 3))  # array to store the velocity of the galaxy\n",
    "    time = np.empty(N)\n",
    "    timestep = np.empty(N)\n",
    "    \n",
    "    R_cyl, _, V_phi, V_r, V_z = rotation_curve_rescaled(galaxy, GC=np.where(galaxy.ID < (len(galaxy.ID)//2), 0, len(galaxy.ID)//2))\n",
    "    R_cyl = [R_cyl]\n",
    "    V_phi = [V_phi]\n",
    "    V_r = [V_r]\n",
    "    V_z = [V_z]\n",
    "\n",
    "    i = 0\n",
    "    while t < tsimulation:\n",
    "        updated_galaxy, _,  updated_acc, _, _ = integrator_leapfrog(particles=galaxy, tstep=h, acceleration_estimator=acceleration_pyfalcon, softening=soft)\n",
    "        path[i] = updated_galaxy.pos\n",
    "        velocity[i] = updated_galaxy.vel\n",
    "            \n",
    "        R, z, Vphi, Vr, Vz = rotation_curve_rescaled(updated_galaxy, GC=np.where(updated_galaxy.ID < (len(updated_galaxy.ID)//2), 0, len(updated_galaxy.ID)//2))\n",
    "\n",
    "        timestep[i] = h\n",
    "        t += h\n",
    "        time[i] = t\n",
    "\n",
    "        R_cyl.append(R)\n",
    "        V_phi.append(Vphi) \n",
    "        V_r.append(Vr)\n",
    "        V_z.append(Vz)\n",
    "\n",
    "        i += 1\n",
    "\n",
    "    R_cyl = np.array(R_cyl)\n",
    "    V_phi = np.array(V_phi)\n",
    "    V_r = np.array(V_r)\n",
    "    V_z = np.array(V_z)\n",
    "\n",
    "    return path, velocity, time, R_cyl, V_phi, V_r, V_z"
   ]
  },
  {
   "cell_type": "markdown",
   "metadata": {},
   "source": [
    "Then we run the simulation for the encounter using $T=210$ as time of the simulation."
   ]
  },
  {
   "cell_type": "code",
   "execution_count": null,
   "metadata": {},
   "outputs": [],
   "source": [
    "# just keep the same tsimulation and N as before\n",
    "G = 1.                                                                   # gravitational constant in n-body units\n",
    "T_sim = 210\n",
    "plummer_scale_lenght = 5.                                                # scale lenght of the plummer sphere (softening)\n",
    "t0 = 0.\n",
    "tsimulation = T_sim\n",
    "N = int(1e3)\n",
    "h = (tsimulation - t0)/N\n",
    "\n",
    "Combined_Galaxies_test = Combined_Galaxies.copy()\n",
    "\n",
    "Combined_Galaxies_orbit, Combined_Galaxies_stars_vel, Combined_Galaxies_time, Combined_Galaxies_Rcyl, Combined_Galaxies_Vphi, Combined_Galaxies_Vr, Combined_Galaxies_Vz = integration_leapfrog_encounter(galaxy=Combined_Galaxies_test, h=h, \n",
    "                                                                                                                                                                            tsimulation=tsimulation, t=t0, soft=plummer_scale_lenght)"
   ]
  },
  {
   "cell_type": "markdown",
   "metadata": {},
   "source": [
    "### Plot of the whole evolution\n",
    "We make a plot showing the whole evolution of the galaxies, namely the trajectories of the trackers and of the galactic centers. We display even the initial and final positions of the galaxies. "
   ]
  },
  {
   "cell_type": "code",
   "execution_count": null,
   "metadata": {},
   "outputs": [],
   "source": [
    "plt.figure(figsize=(8,8))\n",
    "\n",
    "# stars trajectory\n",
    "plt.scatter(Combined_Galaxies_orbit[:,1:div,0], Combined_Galaxies_orbit[:,1:div,1], s=0.005, color='lightblue',  alpha=0.05)\n",
    "plt.scatter(Combined_Galaxies_orbit[:,(div+1):,0],  Combined_Galaxies_orbit[:,(div+1):,1],  s=0.005, color='lightgreen', alpha=0.05)\n",
    "\n",
    "# initial and final position of galaxy 1\n",
    "plt.plot(Combined_Galaxies_orbit[0,1:div,0],  Combined_Galaxies_orbit[0,1:div,1],  'o', markersize=2, c='cornflowerblue', label='initial position of Gal1', alpha=0.3)\n",
    "plt.plot(Combined_Galaxies_orbit[-1,1:div,0], Combined_Galaxies_orbit[-1,1:div,1], '*', markersize=3, c='b', label='final position of Gal1',   alpha=0.3)\n",
    "\n",
    "# initial and final position of galaxy 2\n",
    "plt.plot(Combined_Galaxies_orbit[0,(div+1):,0],  Combined_Galaxies_orbit[0,(div+1):,1],  'o', markersize=2, c='limegreen', label='initial position of Gal2', alpha=0.3)\n",
    "plt.plot(Combined_Galaxies_orbit[-1,(div+1):,0], Combined_Galaxies_orbit[-1,(div+1):,1], '*', markersize=3, c='g', label='final position of Gal2',   alpha=0.3)\n",
    "\n",
    "# initial and final position of GC1\n",
    "plt.plot(Combined_Galaxies_orbit[0,0,0],  Combined_Galaxies_orbit[0,0,1],  'o', markersize=4, color='r', label='GC 1', zorder=10)\n",
    "plt.plot(Combined_Galaxies_orbit[-1,0,0], Combined_Galaxies_orbit[-1,0,1], 'o', markersize=4, color='r',               zorder=10)\n",
    "\n",
    "# initial and final position of GC2\n",
    "plt.plot(Combined_Galaxies_orbit[0,div,0],  Combined_Galaxies_orbit[0,div,1],  'o', markersize=4, color='orange', label='GC 2', zorder=10)\n",
    "plt.plot(Combined_Galaxies_orbit[-1,div,0], Combined_Galaxies_orbit[-1,div,1], 'o', markersize=4, color='orange',               zorder=10)\n",
    "\n",
    "# trajectory of GC1\n",
    "plt.scatter(Combined_Galaxies_orbit[:,0,0],    Combined_Galaxies_orbit[:,0,1],    s=0.05, color='r',      zorder=10, alpha=0.5)\n",
    "# trajectory of GC2\n",
    "plt.scatter(Combined_Galaxies_orbit[:,div,0], Combined_Galaxies_orbit[:,div,1], s=0.05, color='orange', zorder=10, alpha=0.5)\n",
    "\n",
    "plt.xlabel('X [Nbody]')\n",
    "plt.ylabel('Y [Nbody]')\n",
    "plt.title('Galaxies Encounter')\n",
    "plt.legend(loc='lower right', fontsize=8)\n",
    "plt.grid(True, alpha=0.5)\n",
    "plt.show()"
   ]
  },
  {
   "cell_type": "markdown",
   "metadata": {},
   "source": [
    "### Final situation\n",
    "We make a plot showing the final configuration of the galaxies after the encounter. "
   ]
  },
  {
   "cell_type": "code",
   "execution_count": null,
   "metadata": {},
   "outputs": [],
   "source": [
    "plt.subplots(1,3,figsize=(12,4), sharey=True)\n",
    "\n",
    "plt.subplot(1, 3, 1)\n",
    "# final position of galaxy 1\n",
    "plt.plot(Combined_Galaxies_orbit[-1,1:div,0], Combined_Galaxies_orbit[-1,1:div,1], 'o', markersize=1, c='b', label='final position of Gal1',   alpha=0.5)\n",
    "# position of GC1\n",
    "plt.plot(Combined_Galaxies_orbit[-1,0,0], Combined_Galaxies_orbit[-1,0,1], 'o', markersize=4, color='r', label='GC 1', zorder=10)\n",
    "# final position of galaxy 2\n",
    "plt.plot(Combined_Galaxies_orbit[-1,(div+1):,0], Combined_Galaxies_orbit[-1,(div+1):,1], 'o', markersize=1, c='g', label='final position of Gal2',   alpha=0.5)\n",
    "# position of GC2\n",
    "plt.plot(Combined_Galaxies_orbit[-1,div,0], Combined_Galaxies_orbit[-1,div,1], 'o', markersize=4, color='orange', label='GC 2', zorder=10)\n",
    "\n",
    "plt.xlabel('X [Nbody]')\n",
    "plt.ylabel('Y [Nbody]')\n",
    "plt.title('Final position of the Galaxies')\n",
    "plt.legend(loc='lower right', fontsize=8)\n",
    "plt.grid(True, alpha=0.5)\n",
    "\n",
    "plt.subplot(1, 3, 2)\n",
    "# final position of galaxy 1\n",
    "plt.plot(Combined_Galaxies_orbit[-1,1:div,0], Combined_Galaxies_orbit[-1,1:div,1], 'o', markersize=1, c='b', label='final position of Gal1',   alpha=0.5)\n",
    "# position of GC1\n",
    "plt.plot(Combined_Galaxies_orbit[-1,0,0], Combined_Galaxies_orbit[-1,0,1], 'o', markersize=4, color='r', label='GC 1', zorder=10)\n",
    "\n",
    "plt.xlabel('X [Nbody]')\n",
    "plt.title('Galaxy 1')\n",
    "plt.legend(loc='lower right', fontsize=8)\n",
    "plt.grid(True, alpha=0.5)\n",
    "\n",
    "plt.subplot(1, 3, 3)\n",
    "# final position of galaxy 2   \n",
    "plt.plot(Combined_Galaxies_orbit[-1,(div+1):,0], Combined_Galaxies_orbit[-1,(div+1):,1], 'o', markersize=1, c='g', label='final position of Gal2',   alpha=0.5)\n",
    "# position of GC2\n",
    "plt.plot(Combined_Galaxies_orbit[-1,div,0], Combined_Galaxies_orbit[-1,div,1], 'o', markersize=4, color='orange', label='GC 2', zorder=10)\n",
    "\n",
    "plt.xlabel('X [Nbody]')\n",
    "plt.title('Galaxy 2')\n",
    "plt.legend(loc='lower right', fontsize=8)\n",
    "plt.grid(True, alpha=0.5)\n",
    "\n",
    "plt.tight_layout()\n",
    "plt.show()"
   ]
  },
  {
   "cell_type": "markdown",
   "metadata": {},
   "source": [
    "### Evolution of the rotation curve\n",
    "Check how the rotation curves of the galaxies evolve after the encounter.  "
   ]
  },
  {
   "cell_type": "code",
   "execution_count": null,
   "metadata": {},
   "outputs": [],
   "source": [
    "plt.subplots(1,3,figsize=(12,4), sharey=True)\n",
    "\n",
    "plt.subplot(1, 3, 1)\n",
    "plt.scatter(Combined_Galaxies_Rcyl[-1,1:div], Combined_Galaxies_Vphi[-1,1:div], s=0.5, color='r', label='final', alpha=0.5)\n",
    "plt.scatter(Combined_Galaxies_Rcyl[0,1:div], Combined_Galaxies_Vphi[0,1:div], s=0.5, color='b', label='initial', alpha=0.5)\n",
    "plt.legend(loc='best')\n",
    "plt.xlabel('$R_{cycl}$')\n",
    "plt.ylabel('$V_{\\phi}$')\n",
    "plt.title('Rotation curve Galaxy 1')\n",
    "\n",
    "plt.subplot(1, 3, 2)\n",
    "plt.scatter(Combined_Galaxies_Rcyl[-1,(div+1):], Combined_Galaxies_Vphi[-1,(div+1):], s=0.5, color='g', label='final', alpha=0.5)\n",
    "plt.scatter(Combined_Galaxies_Rcyl[0,(div+1):], Combined_Galaxies_Vphi[0,(div+1):], s=0.5, color='b', label='initial', alpha=0.5)\n",
    "plt.legend(loc='best')\n",
    "plt.xlabel('$R_{cycl}$')\n",
    "plt.title('Rotation curve Galaxy 2')\n",
    "\n",
    "plt.subplot(1, 3, 3)\n",
    "plt.scatter(Combined_Galaxies_Rcyl[-1,1:div], Combined_Galaxies_Vphi[-1,1:div], s=0.5, color='r', label='final G1', alpha=0.5)\n",
    "plt.scatter(Combined_Galaxies_Rcyl[-1,(div+1):], Combined_Galaxies_Vphi[-1,(div+1):], s=0.5, color='g', label='final G2', alpha=0.5)\n",
    "plt.scatter(Combined_Galaxies_Rcyl[0,1:div], Combined_Galaxies_Vphi[0,1:div], s=0.5, color='b', label='initial G1 and G2', alpha=0.5)\n",
    "plt.legend(loc='best')\n",
    "plt.xlabel('$R_{cycl}$')\n",
    "plt.title('Rotation curve of both Galaxies')\n",
    "\n",
    "plt.tight_layout()\n",
    "plt.show()"
   ]
  },
  {
   "cell_type": "markdown",
   "metadata": {},
   "source": [
    "### Evolution of the surface density\n",
    "Check the evolution of the surface density of both galaxies after the encounter."
   ]
  },
  {
   "cell_type": "code",
   "execution_count": null,
   "metadata": {},
   "outputs": [],
   "source": [
    "# intial surface density G1\n",
    "mid_in_1, H_in_1, area_in_1 = surface_density(Combined_Galaxies_Rcyl[0,:div])\n",
    "\n",
    "# final surface density G1\n",
    "mid_end_1, H_end_1, area_end_1 = surface_density(Combined_Galaxies_Rcyl[-1,:div])\n",
    "\n",
    "# intial surface density G2 \n",
    "mid_in_2, H_in_2, area_in_2 = surface_density(Combined_Galaxies_Rcyl[0,div:])\n",
    "\n",
    "# final surface density G2\n",
    "mid_end_2, H_end_2, area_end_2 = surface_density(Combined_Galaxies_Rcyl[-1,div:])"
   ]
  },
  {
   "cell_type": "markdown",
   "metadata": {},
   "source": [
    "## Final plots after the encounter\n",
    "Let's make a single plot containing the final situation of the galaxies, the evolution of their rotation curve and the one of their surface density. "
   ]
  },
  {
   "cell_type": "code",
   "execution_count": null,
   "metadata": {},
   "outputs": [],
   "source": [
    "plt.subplots(3,3,figsize=(12,12))\n",
    "\n",
    "plt.subplot(3, 3, 1)\n",
    "# final position of galaxy 1\n",
    "plt.plot(Combined_Galaxies_orbit[-1,1:div,0], Combined_Galaxies_orbit[-1,1:div,1], 'o', markersize=1, c='b', label='final position of Gal1',   alpha=0.5)\n",
    "# position of GC1\n",
    "plt.plot(Combined_Galaxies_orbit[-1,0,0], Combined_Galaxies_orbit[-1,0,1], 'o', markersize=4, color='r', label='GC 1', zorder=10)\n",
    "# final position of galaxy 2\n",
    "plt.plot(Combined_Galaxies_orbit[-1,(div+1):,0], Combined_Galaxies_orbit[-1,(div+1):,1], 'o', markersize=1, c='g', label='final position of Gal2',   alpha=0.5)\n",
    "# position of GC2\n",
    "plt.plot(Combined_Galaxies_orbit[-1,div,0], Combined_Galaxies_orbit[-1,div,1], 'o', markersize=4, color='orange', label='GC 2', zorder=10)\n",
    "\n",
    "plt.xlabel('X [Nbody]')\n",
    "plt.ylabel('Y [Nbody]')\n",
    "plt.title('Final position of the Galaxies')\n",
    "plt.legend(loc='lower right', fontsize=8)\n",
    "\n",
    "plt.subplot(3, 3, 2)\n",
    "# final position of galaxy 1\n",
    "plt.plot(Combined_Galaxies_orbit[-1,1:div,0], Combined_Galaxies_orbit[-1,1:div,1], 'o', markersize=1, c='b', label='final position of Gal1',   alpha=0.5)\n",
    "# position of GC1\n",
    "plt.plot(Combined_Galaxies_orbit[-1,0,0], Combined_Galaxies_orbit[-1,0,1], 'o', markersize=4, color='r', label='GC 1', zorder=10)\n",
    "\n",
    "plt.xlabel('X [Nbody]')\n",
    "plt.ylabel('Y [Nbody]')\n",
    "plt.title('Galaxy 1')\n",
    "plt.legend(loc='lower right', fontsize=8)\n",
    "\n",
    "plt.subplot(3, 3, 3)\n",
    "# final position of galaxy 2   \n",
    "plt.plot(Combined_Galaxies_orbit[-1,(div+1):,0], Combined_Galaxies_orbit[-1,(div+1):,1], 'o', markersize=1, c='g', label='final position of Gal2',   alpha=0.5)\n",
    "# position of GC2\n",
    "plt.plot(Combined_Galaxies_orbit[-1,div,0], Combined_Galaxies_orbit[-1,div,1], 'o', markersize=4, color='orange', label='GC 2', zorder=10)\n",
    "\n",
    "plt.xlabel('X [Nbody]')\n",
    "plt.ylabel('Y [Nbody]')\n",
    "plt.title('Galaxy 2')\n",
    "plt.legend(loc='lower right', fontsize=8)\n",
    "\n",
    "plt.subplot(3, 3, 5)\n",
    "plt.scatter(Combined_Galaxies_Rcyl[-1,1:div], Combined_Galaxies_Vphi[-1,1:div], s=0.5, color='r', label='final', alpha=0.5)\n",
    "plt.scatter(Combined_Galaxies_Rcyl[0,1:div], Combined_Galaxies_Vphi[0,1:div], s=0.5, color='b', label='initial', alpha=0.5)\n",
    "plt.legend(loc='best', fontsize=8)\n",
    "plt.xlabel('$R_{cycl}$')\n",
    "plt.ylabel('$V_{\\phi}$')\n",
    "plt.title('Rotation curve Galaxy 1')\n",
    "\n",
    "plt.subplot(3, 3, 6)\n",
    "plt.scatter(Combined_Galaxies_Rcyl[-1,(div+1):], Combined_Galaxies_Vphi[-1,(div+1):], s=0.5, color='g', label='final', alpha=0.5)\n",
    "plt.scatter(Combined_Galaxies_Rcyl[0,(div+1):], Combined_Galaxies_Vphi[0,(div+1):], s=0.5, color='b', label='initial', alpha=0.5)\n",
    "plt.legend(loc='best', fontsize=8)\n",
    "plt.xlabel('$R_{cycl}$')\n",
    "plt.ylabel('$V_{\\phi}$')\n",
    "plt.title('Rotation curve Galaxy 2')\n",
    "\n",
    "plt.subplot(3, 3, 4)\n",
    "plt.scatter(Combined_Galaxies_Rcyl[-1,1:div], Combined_Galaxies_Vphi[-1,1:div], s=0.5, color='r', label='final G1', alpha=0.5)\n",
    "plt.scatter(Combined_Galaxies_Rcyl[-1,(div+1):], Combined_Galaxies_Vphi[-1,(div+1):], s=0.5, color='g', label='final G2', alpha=0.5)\n",
    "plt.scatter(Combined_Galaxies_Rcyl[0,1:div], Combined_Galaxies_Vphi[0,1:div], s=0.5, color='b', label='initial G1 and G2', alpha=0.5)\n",
    "plt.legend(loc='best', fontsize=8)\n",
    "plt.xlabel('$R_{cycl}$')\n",
    "plt.ylabel('$V_{\\phi}$')\n",
    "plt.title('Rotation curve (G1 and G2)')\n",
    "\n",
    "plt.subplot(3, 3, 7)\n",
    "plt.plot(mid_in_1, H_in_1 / area_in_1, label='initial G1 and G2', c='b')\n",
    "plt.plot(mid_end_1, H_end_1 / area_end_1, label='final G1', c='r')\n",
    "plt.plot(mid_end_2, H_end_2 / area_end_2, label='final G2', c='g')\n",
    "plt.yscale('log')\n",
    "plt.xlabel(\"Rcyl [Nbody]\")  \n",
    "plt.ylabel(\"Surface Number Density [Nbody]\")\n",
    "plt.legend(loc='best', fontsize=8)\n",
    "plt.title(\"Surface Density Profile (G1 and G2)\")\n",
    "\n",
    "plt.subplot(3, 3, 8)\n",
    "plt.plot(mid_in_1, H_in_1 / area_in_1, label='initial', c='b')\n",
    "plt.plot(mid_end_1, H_end_1 / area_end_1, label='final', c='r')\n",
    "plt.yscale('log')\n",
    "plt.xlabel(\"Rcyl [Nbody]\")  \n",
    "plt.ylabel(\"Surface Number Density [Nbody]\")\n",
    "plt.legend(loc='best', fontsize=8)\n",
    "plt.title(\"Surface Density Profile Galaxy 1\")\n",
    "\n",
    "plt.subplot(3, 3, 9)\n",
    "plt.plot(mid_in_2, H_in_2 / area_in_2, label='initial', c='b')\n",
    "plt.plot(mid_end_2, H_end_2 / area_end_2, label='final', c='g')\n",
    "plt.yscale('log')\n",
    "plt.xlabel(\"Rcyl [Nbody]\")  \n",
    "plt.ylabel(\"Surface Number Density [Nbody]\")\n",
    "plt.legend(loc='best', fontsize=8)\n",
    "plt.title(\"Surface Density Profile Galaxy 2\")\n",
    "\n",
    "\n",
    "plt.tight_layout()\n",
    "plt.show()"
   ]
  },
  {
   "cell_type": "markdown",
   "metadata": {},
   "source": [
    "### Evolution of radial and vertical velocity"
   ]
  },
  {
   "cell_type": "code",
   "execution_count": null,
   "metadata": {},
   "outputs": [],
   "source": [
    "plt.subplots(1,3,figsize=(12,4), sharey=True)\n",
    "\n",
    "plt.subplot(1, 3, 2)\n",
    "plt.scatter(Combined_Galaxies_Rcyl[-1,1:div], Combined_Galaxies_Vr[-1,1:div], s=0.5, color='r', label='final', alpha=0.5)\n",
    "plt.scatter(Combined_Galaxies_Rcyl[0,1:div], Combined_Galaxies_Vr[0,1:div], s=0.5, color='b', label='initial', alpha=0.5)\n",
    "plt.legend(loc='best')\n",
    "plt.xlabel('$R_{cycl}$')\n",
    "plt.ylabel('$V_{r}$')\n",
    "plt.title('Radial velocity Galaxy 1')\n",
    "\n",
    "plt.subplot(1, 3, 3)\n",
    "plt.scatter(Combined_Galaxies_Rcyl[-1,(div+1):], Combined_Galaxies_Vr[-1,(div+1):], s=0.5, color='g', label='final', alpha=0.5)\n",
    "plt.scatter(Combined_Galaxies_Rcyl[0,(div+1):], Combined_Galaxies_Vr[0,(div+1):], s=0.5, color='b', label='initial', alpha=0.5)\n",
    "plt.legend(loc='best')\n",
    "plt.xlabel('$R_{cycl}$')\n",
    "plt.title('Radial velocity Galaxy 2')\n",
    "\n",
    "plt.subplot(1, 3, 1)\n",
    "plt.scatter(Combined_Galaxies_Rcyl[-1,1:div], Combined_Galaxies_Vr[-1,1:div], s=0.5, color='r', label='final G1', alpha=0.5)\n",
    "plt.scatter(Combined_Galaxies_Rcyl[-1,(div+1):], Combined_Galaxies_Vr[-1,(div+1):], s=0.5, color='g', label='final G2', alpha=0.5)\n",
    "plt.scatter(Combined_Galaxies_Rcyl[0,1:div], Combined_Galaxies_Vr[0,1:div], s=0.5, color='b', label='initial G1 and G2', alpha=0.5)\n",
    "plt.legend(loc='best')\n",
    "plt.xlabel('$R_{cycl}$')\n",
    "plt.title('Radial velocity of both Galaxies')\n",
    "\n",
    "plt.tight_layout()\n",
    "plt.show()"
   ]
  },
  {
   "cell_type": "code",
   "execution_count": null,
   "metadata": {},
   "outputs": [],
   "source": [
    "plt.subplots(1,3,figsize=(12,4), sharey=True)\n",
    "\n",
    "plt.subplot(1, 3, 2)\n",
    "plt.scatter(Combined_Galaxies_Rcyl[-1,1:div], Combined_Galaxies_Vz[-1,1:div], s=0.5, color='r', label='final', alpha=0.5)\n",
    "plt.scatter(Combined_Galaxies_Rcyl[0,1:div], Combined_Galaxies_Vz[0,1:div], s=0.5, color='b', label='initial', alpha=0.5)\n",
    "plt.legend(loc='best')\n",
    "plt.xlabel('$R_{cycl}$')\n",
    "plt.ylabel('$V_{z}$')\n",
    "plt.title('Vertical velocity Galaxy 1')\n",
    "\n",
    "plt.subplot(1, 3, 3)\n",
    "plt.scatter(Combined_Galaxies_Rcyl[-1,(div+1):], Combined_Galaxies_Vz[-1,(div+1):], s=0.5, color='g', label='final', alpha=0.5)\n",
    "plt.scatter(Combined_Galaxies_Rcyl[0,(div+1):], Combined_Galaxies_Vz[0,(div+1):], s=0.5, color='b', label='initial', alpha=0.5)\n",
    "plt.legend(loc='best')\n",
    "plt.xlabel('$R_{cycl}$')\n",
    "plt.title('Vertical velocity Galaxy 2')\n",
    "\n",
    "plt.subplot(1, 3, 1)\n",
    "plt.scatter(Combined_Galaxies_Rcyl[-1,1:div], Combined_Galaxies_Vz[-1,1:div], s=0.5, color='r', label='final G1', alpha=0.5)\n",
    "plt.scatter(Combined_Galaxies_Rcyl[-1,(div+1):], Combined_Galaxies_Vz[-1,(div+1):], s=0.5, color='g', label='final G2', alpha=0.5)\n",
    "plt.scatter(Combined_Galaxies_Rcyl[0,1:div], Combined_Galaxies_Vz[0,1:div], s=0.5, color='b', label='initial G1 and G2', alpha=0.5)\n",
    "plt.legend(loc='best')\n",
    "plt.xlabel('$R_{cycl}$')\n",
    "plt.title('Vertical velocity of both Galaxies')\n",
    "\n",
    "plt.tight_layout()\n",
    "plt.show()"
   ]
  },
  {
   "cell_type": "markdown",
   "metadata": {},
   "source": [
    "While the radial velocity changes, the vertical velocity remains zero meaning that the trackers are moving only in a plane. "
   ]
  },
  {
   "cell_type": "markdown",
   "metadata": {},
   "source": [
    "## Counter-rotating galaxies"
   ]
  },
  {
   "cell_type": "code",
   "execution_count": null,
   "metadata": {},
   "outputs": [],
   "source": [
    "# invert the velocity of the second galaxy\n",
    "Combined_Galaxies_counter = Combined_Galaxies.copy()\n",
    "Combined_Galaxies_counter.vel[div:] = -Combined_Galaxies_counter.vel[div:]\n"
   ]
  },
  {
   "cell_type": "code",
   "execution_count": null,
   "metadata": {},
   "outputs": [],
   "source": [
    "# just keep the same tsimulation and N as before\n",
    "G = 1.                                                                   # gravitational constant in n-body units\n",
    "T_sim = 210\n",
    "plummer_scale_lenght = 5.                                                # scale lenght of the plummer sphere (softening)\n",
    "t0 = 0.\n",
    "tsimulation = T_sim\n",
    "N = int(1e3)\n",
    "h = (tsimulation - t0)/N\n",
    "\n",
    "Counter_Galaxies_test = Combined_Galaxies_counter.copy()\n",
    "\n",
    "Counter_Galaxies_orbit, Counter_Galaxies_stars_vel, Counter_Galaxies_time, Counter_Galaxies_Rcyl, Counter_Galaxies_Vphi, Counter_Galaxies_Vr, Counter_Galaxies_Vz = integration_leapfrog_encounter(galaxy=Counter_Galaxies_test, h=h, \n",
    "                                                                                                                                                                            tsimulation=tsimulation, t=t0, soft=plummer_scale_lenght)"
   ]
  },
  {
   "cell_type": "code",
   "execution_count": null,
   "metadata": {},
   "outputs": [],
   "source": [
    "plt.figure(figsize=(8,8))\n",
    "\n",
    "# stars trajectory\n",
    "plt.scatter(Counter_Galaxies_orbit[:,1:div,0], Counter_Galaxies_orbit[:,1:div,1], s=0.005, color='lightblue',  alpha=0.05)\n",
    "plt.scatter(Counter_Galaxies_orbit[:,(div+1):,0],  Counter_Galaxies_orbit[:,(div+1):,1],  s=0.005, color='lightgreen', alpha=0.05)\n",
    "\n",
    "# initial and final position of galaxy 1\n",
    "plt.plot(Counter_Galaxies_orbit[0,1:div,0],  Counter_Galaxies_orbit[0,1:div,1],  'o', markersize=2, c='cornflowerblue', label='initial position of Gal1', alpha=0.3)\n",
    "plt.plot(Counter_Galaxies_orbit[-1,1:div,0], Counter_Galaxies_orbit[-1,1:div,1], '*', markersize=3, c='b', label='final position of Gal1',   alpha=0.3)\n",
    "\n",
    "# initial and final position of galaxy 2\n",
    "plt.plot(Counter_Galaxies_orbit[0,(div+1):,0],  Counter_Galaxies_orbit[0,(div+1):,1],  'o', markersize=2, c='limegreen', label='initial position of Gal2', alpha=0.3)\n",
    "plt.plot(Counter_Galaxies_orbit[-1,(div+1):,0], Counter_Galaxies_orbit[-1,(div+1):,1], '*', markersize=3, c='g', label='final position of Gal2',   alpha=0.3)\n",
    "\n",
    "# initial and final position of GC1\n",
    "plt.plot(Counter_Galaxies_orbit[0,0,0],  Counter_Galaxies_orbit[0,0,1],  'o', markersize=4, color='r', label='GC 1', zorder=10)\n",
    "plt.plot(Counter_Galaxies_orbit[-1,0,0], Counter_Galaxies_orbit[-1,0,1], 'o', markersize=4, color='r',               zorder=10)\n",
    "\n",
    "# initial and final position of GC2\n",
    "plt.plot(Counter_Galaxies_orbit[0,div,0],  Counter_Galaxies_orbit[0,div,1],  'o', markersize=4, color='orange', label='GC 2', zorder=10)\n",
    "plt.plot(Counter_Galaxies_orbit[-1,div,0], Counter_Galaxies_orbit[-1,div,1], 'o', markersize=4, color='orange',               zorder=10)\n",
    "\n",
    "# trajectory of GC1\n",
    "plt.scatter(Counter_Galaxies_orbit[:,0,0],    Counter_Galaxies_orbit[:,0,1],    s=0.05, color='r',      zorder=10, alpha=0.5)\n",
    "# trajectory of GC2\n",
    "plt.scatter(Counter_Galaxies_orbit[:,div,0], Counter_Galaxies_orbit[:,div,1], s=0.05, color='orange', zorder=10, alpha=0.5)\n",
    "\n",
    "plt.xlabel('X [Nbody]')\n",
    "plt.ylabel('Y [Nbody]')\n",
    "plt.title('Counter-rotating Galaxies Encounter')\n",
    "plt.legend(loc='lower right', fontsize=8)\n",
    "plt.grid(True, alpha=0.5)\n",
    "plt.show()"
   ]
  }
 ],
 "metadata": {
  "kernelspec": {
   "display_name": "base",
   "language": "python",
   "name": "python3"
  },
  "language_info": {
   "codemirror_mode": {
    "name": "ipython",
    "version": 3
   },
   "file_extension": ".py",
   "mimetype": "text/x-python",
   "name": "python",
   "nbconvert_exporter": "python",
   "pygments_lexer": "ipython3",
   "version": "3.10.12"
  }
 },
 "nbformat": 4,
 "nbformat_minor": 2
}
