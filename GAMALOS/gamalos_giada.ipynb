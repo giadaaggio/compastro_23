{
 "cells": [
  {
   "cell_type": "markdown",
   "metadata": {},
   "source": [
    "# GAMALOS (GAlaxies MAking LOve Simulation)"
   ]
  },
  {
   "cell_type": "markdown",
   "metadata": {},
   "source": [
    "# Theoric remarks"
   ]
  },
  {
   "cell_type": "markdown",
   "metadata": {},
   "source": [
    "Report: write a short report containing:\n",
    "- a short introduction to the N-body problem, the difference between\n",
    "collisional and collisionless systems and the force estimate in\n",
    "collisionless simulations based on tree algorithms. Short general\n",
    "description of the fireworks package and its implementation.\n",
    "- Description of the methods (integrators, force estimator) used.\n",
    "- Description of the initial conditions and simulation setup.\n",
    "- Results and discussion. They depends on the specific project you\n",
    "chose, but I expect at least one plot showing the main conclusion of\n",
    "your analysis."
   ]
  },
  {
   "cell_type": "markdown",
   "metadata": {},
   "source": [
    "<div class='alert alert-danger' role='alert'>\n",
    "Inserisci info teoriche\n",
    "</div>"
   ]
  },
  {
   "cell_type": "markdown",
   "metadata": {},
   "source": [
    "# Computation"
   ]
  },
  {
   "cell_type": "markdown",
   "metadata": {},
   "source": [
    "## Import the packages and the data"
   ]
  },
  {
   "cell_type": "code",
   "execution_count": 1,
   "metadata": {},
   "outputs": [],
   "source": [
    "import numpy as np\n",
    "import pandas as pd\n",
    "from fireworks.ic import ic_two_body\n",
    "import matplotlib.pyplot as plt\n",
    "from fireworks.nbodylib.integrators import integrator_leapfrog_galaxy, integrator_leapfrog, integrator_leapfrog_galaxy_encounter, integrator_tsunami\n",
    "from fireworks.nbodylib.dynamics import acceleration_pyfalcon\n",
    "from fireworks.nbodylib.timesteps import adaptive_timestep_r\n",
    "from fireworks.particles import Particles\n",
    "from typing import Optional, Tuple, Callable, Union\n",
    "import time\n",
    "\n",
    "#from mpl_toolkits.mplot3d import Axes3D\n",
    "\n",
    "%matplotlib widget"
   ]
  },
  {
   "cell_type": "markdown",
   "metadata": {},
   "source": [
    "We can import the data of one galaxy at first. The units are still Nbody units."
   ]
  },
  {
   "cell_type": "markdown",
   "metadata": {},
   "source": [
    "<div class='alert alert-block alert-warning'>\n",
    "occhio che ho preso 1e4 particelle!!\n",
    "</div>"
   ]
  },
  {
   "cell_type": "code",
   "execution_count": 2,
   "metadata": {},
   "outputs": [
    {
     "data": {
      "text/html": [
       "<div>\n",
       "<style scoped>\n",
       "    .dataframe tbody tr th:only-of-type {\n",
       "        vertical-align: middle;\n",
       "    }\n",
       "\n",
       "    .dataframe tbody tr th {\n",
       "        vertical-align: top;\n",
       "    }\n",
       "\n",
       "    .dataframe thead th {\n",
       "        text-align: right;\n",
       "    }\n",
       "</style>\n",
       "<table border=\"1\" class=\"dataframe\">\n",
       "  <thead>\n",
       "    <tr style=\"text-align: right;\">\n",
       "      <th></th>\n",
       "      <th>mass</th>\n",
       "      <th>x</th>\n",
       "      <th>y</th>\n",
       "      <th>z</th>\n",
       "      <th>vx</th>\n",
       "      <th>vy</th>\n",
       "      <th>vz</th>\n",
       "    </tr>\n",
       "  </thead>\n",
       "  <tbody>\n",
       "    <tr>\n",
       "      <th>0</th>\n",
       "      <td>1.000000e+00</td>\n",
       "      <td>0.000000</td>\n",
       "      <td>0.000000</td>\n",
       "      <td>0.0</td>\n",
       "      <td>0.000000</td>\n",
       "      <td>0.000000</td>\n",
       "      <td>0.0</td>\n",
       "    </tr>\n",
       "    <tr>\n",
       "      <th>1</th>\n",
       "      <td>1.000000e-11</td>\n",
       "      <td>-3.419583</td>\n",
       "      <td>-1.901788</td>\n",
       "      <td>0.0</td>\n",
       "      <td>0.118878</td>\n",
       "      <td>-0.213752</td>\n",
       "      <td>0.0</td>\n",
       "    </tr>\n",
       "    <tr>\n",
       "      <th>2</th>\n",
       "      <td>1.000000e-11</td>\n",
       "      <td>-14.046839</td>\n",
       "      <td>-2.403541</td>\n",
       "      <td>0.0</td>\n",
       "      <td>0.040952</td>\n",
       "      <td>-0.239330</td>\n",
       "      <td>0.0</td>\n",
       "    </tr>\n",
       "    <tr>\n",
       "      <th>3</th>\n",
       "      <td>1.000000e-11</td>\n",
       "      <td>-4.618003</td>\n",
       "      <td>6.269821</td>\n",
       "      <td>0.0</td>\n",
       "      <td>-0.222721</td>\n",
       "      <td>-0.164044</td>\n",
       "      <td>0.0</td>\n",
       "    </tr>\n",
       "    <tr>\n",
       "      <th>4</th>\n",
       "      <td>1.000000e-11</td>\n",
       "      <td>-6.045516</td>\n",
       "      <td>0.257974</td>\n",
       "      <td>0.0</td>\n",
       "      <td>-0.011730</td>\n",
       "      <td>-0.274897</td>\n",
       "      <td>0.0</td>\n",
       "    </tr>\n",
       "    <tr>\n",
       "      <th>5</th>\n",
       "      <td>1.000000e-11</td>\n",
       "      <td>-1.393104</td>\n",
       "      <td>1.578234</td>\n",
       "      <td>0.0</td>\n",
       "      <td>-0.124900</td>\n",
       "      <td>-0.110249</td>\n",
       "      <td>0.0</td>\n",
       "    </tr>\n",
       "    <tr>\n",
       "      <th>6</th>\n",
       "      <td>1.000000e-11</td>\n",
       "      <td>-1.150877</td>\n",
       "      <td>-1.762433</td>\n",
       "      <td>0.0</td>\n",
       "      <td>0.139480</td>\n",
       "      <td>-0.091081</td>\n",
       "      <td>0.0</td>\n",
       "    </tr>\n",
       "    <tr>\n",
       "      <th>7</th>\n",
       "      <td>1.000000e-11</td>\n",
       "      <td>0.593887</td>\n",
       "      <td>-1.003781</td>\n",
       "      <td>0.0</td>\n",
       "      <td>0.086283</td>\n",
       "      <td>0.051049</td>\n",
       "      <td>0.0</td>\n",
       "    </tr>\n",
       "    <tr>\n",
       "      <th>8</th>\n",
       "      <td>1.000000e-11</td>\n",
       "      <td>2.423492</td>\n",
       "      <td>-10.266498</td>\n",
       "      <td>0.0</td>\n",
       "      <td>0.257402</td>\n",
       "      <td>0.060762</td>\n",
       "      <td>0.0</td>\n",
       "    </tr>\n",
       "    <tr>\n",
       "      <th>9</th>\n",
       "      <td>1.000000e-11</td>\n",
       "      <td>-3.279328</td>\n",
       "      <td>5.118040</td>\n",
       "      <td>0.0</td>\n",
       "      <td>-0.231783</td>\n",
       "      <td>-0.148512</td>\n",
       "      <td>0.0</td>\n",
       "    </tr>\n",
       "  </tbody>\n",
       "</table>\n",
       "</div>"
      ],
      "text/plain": [
       "           mass          x          y    z        vx        vy   vz\n",
       "0  1.000000e+00   0.000000   0.000000  0.0  0.000000  0.000000  0.0\n",
       "1  1.000000e-11  -3.419583  -1.901788  0.0  0.118878 -0.213752  0.0\n",
       "2  1.000000e-11 -14.046839  -2.403541  0.0  0.040952 -0.239330  0.0\n",
       "3  1.000000e-11  -4.618003   6.269821  0.0 -0.222721 -0.164044  0.0\n",
       "4  1.000000e-11  -6.045516   0.257974  0.0 -0.011730 -0.274897  0.0\n",
       "5  1.000000e-11  -1.393104   1.578234  0.0 -0.124900 -0.110249  0.0\n",
       "6  1.000000e-11  -1.150877  -1.762433  0.0  0.139480 -0.091081  0.0\n",
       "7  1.000000e-11   0.593887  -1.003781  0.0  0.086283  0.051049  0.0\n",
       "8  1.000000e-11   2.423492 -10.266498  0.0  0.257402  0.060762  0.0\n",
       "9  1.000000e-11  -3.279328   5.118040  0.0 -0.231783 -0.148512  0.0"
      ]
     },
     "execution_count": 2,
     "metadata": {},
     "output_type": "execute_result"
    }
   ],
   "source": [
    "df_0 = pd.read_csv(\"data_cvs/Nbody_disc.csv\")\n",
    "\n",
    "# slice dataframe\n",
    "num_particles = 1e4\n",
    "df = df_0.iloc[:int(num_particles)]\n",
    "\n",
    "df.head(10)"
   ]
  },
  {
   "cell_type": "markdown",
   "metadata": {},
   "source": [
    "## Initial conditions\n",
    "We generated a Particles instance for each galaxy to differentiate them. "
   ]
  },
  {
   "cell_type": "code",
   "execution_count": 3,
   "metadata": {},
   "outputs": [],
   "source": [
    "# create a class with the mass, pos, vel of each element of the Galaxy\n",
    "\n",
    "masses = df[['mass']]\n",
    "positions = df[['x', 'y', 'z']]\n",
    "velocities = df[['vx', 'vy', 'vz']]\n",
    "\n",
    "# reshape mass array as 1D array\n",
    "masses = masses.values.reshape(-1)\n",
    "\n",
    "Galaxy1 = Particles(positions.values, velocities.values, masses)\n",
    "\n",
    "# do the same for the other galaxy\n",
    "# this second galaxy is the same as the first one, but translated by a certain value\n",
    "\n",
    "pos_translation = np.array((40., 20., 0.))\n",
    "vel_translation = np.array((-0.2, 0., 0.))\n",
    "\n",
    "# apply this translation to find the second galaxy\n",
    "\n",
    "positions_gal_2 = positions.values + pos_translation\n",
    "velocities_gal_2 = velocities.values + vel_translation\n",
    "Galaxy2 = Particles(positions_gal_2, velocities_gal_2, masses)\n"
   ]
  },
  {
   "cell_type": "markdown",
   "metadata": {},
   "source": [
    "## Rotation curve and Surface density profile\n",
    "Let's plot the rotation curve and the surface density profile for one galaxy, in particular for Galaxy 1. \n",
    "\n",
    "The **rotation curve** of a galaxy shows the azimuthal velocity as function of the cylindrical radius . To estimate the azimuthal velocity for each particle we transform the Cartesian coordinates to cylindrical: \n",
    "\n",
    "$$\n",
    "\\begin{cases}\n",
    "R_{\\text{cyl}} = \\sqrt(x^2+y^2) \\\\\n",
    "\\phi = \\arctan(\\frac{y}{x}) \\\\\n",
    "z=z\n",
    "\\end{cases}\n",
    "$$\n",
    "\n",
    "We then computed the azymuthal velocity for all the particles using: \n",
    "$$\n",
    "V_\\phi = V_y \\cdot \\cos(\\phi) - V_x\\cdot \\sin(\\phi)\n",
    "$$\n",
    "\n",
    "We then plotted $V_\\phi$ vs $R$ to obtain the rotation curve of the galaxy. \n",
    "\n",
    "The **surface density profile** $\\Sigma$ shows the amount of mass in a cylindrical ring divided by the area of the ring. To estimate it we bin the particles on the cylindrical radius $R_{\\text{cyl}}$, then we sum all the masses of the particles to obtain $M_{\\text{tot, ring}}$ and then the area of the ring is given by $\\pi (R^2_{\\text{outer}}-R^2_{\\text{inner}})$ where $R_{\\text{inner}}$ and $R_{\\text{outer}}$ are the borders of the considered bin. Finally $\\Sigma_{\\text{ring}}=M_{\\text{tot, ring}}/A_{\\text{ring}}$. \n",
    "\n",
    "We plotted the initial number suface density of the disc, which means that we use the number of particles instead of the total mass of the ring, as function of the cylindrical radius. \n",
    "\n",
    "---"
   ]
  },
  {
   "cell_type": "markdown",
   "metadata": {},
   "source": [
    "## Helper functions\n",
    "Let's define some helper functions: \n",
    "* `rotation_curve_rescaled`: takes as input the class and the particle we defined as the galactic center and outputs the cylindrical radius and the azimuthal velocity (rescaled to the galactic center);\n",
    "* `surface_density`: computes the numerical surface density taking as input the cylindrical radius;\n",
    "* `ìntegration_leapfrog`: integrates the galaxy over the time of the simulation using the integrator leapfrog, moreover computes the cyclindrical radius and the azimuthal velocity using `rotation_curve_rescaled`."
   ]
  },
  {
   "cell_type": "code",
   "execution_count": 4,
   "metadata": {},
   "outputs": [],
   "source": [
    "def rotation_curve_rescaled(galaxy: Particles, GC: float):\n",
    "    \n",
    "    # rescale the position and velocity of the particles\n",
    "    # GC is the particle assumed as the center of the galaxy\n",
    "    dx = galaxy.pos[:,0] - galaxy.pos[GC,0]\n",
    "    dy = galaxy.pos[:,1] - galaxy.pos[GC,1]\n",
    "    dz = galaxy.pos[:,2] - galaxy.pos[GC,2]\n",
    "\n",
    "    dvx = galaxy.vel[:,0] - galaxy.vel[GC,0]\n",
    "    dvy = galaxy.vel[:,1] - galaxy.vel[GC,1]\n",
    "    dvz = galaxy.vel[:,2] - galaxy.vel[GC,2]\n",
    "\n",
    "    # compute the cylindrical radius and azimuthal angle\n",
    "    Rcyl = np.sqrt(dx**2 + dy**2)                   # cylindrical radius\n",
    "    phi = np.arctan2(dy, dx)                        # azimuthal angle\n",
    "    z = dz                                          # z-coordinate\n",
    "\n",
    "    # compute azimuthal velocity    \n",
    "    vel_phi = dvy * np.cos(phi) - dvx * np.sin(phi)     # azimuthal velocity\n",
    "\n",
    "    return Rcyl, dz, vel_phi\n",
    "\n",
    "def surface_density(Rcyl):\n",
    "    H, edge = np.histogram(Rcyl, bins=20)                                          # histogram of the cylindrical radius\n",
    "    area =  np.pi * (edge[1:]**2 - edge[0:-1]**2)                                  # area of every bin (every concentric ring) \n",
    "    mid = 0.5 * (edge[1:] + edge[0:-1])                                            # midpoint of every bin  \n",
    "\n",
    "    return mid, H, area"
   ]
  },
  {
   "cell_type": "code",
   "execution_count": 5,
   "metadata": {},
   "outputs": [],
   "source": [
    "def integration_leapfrog(galaxy: Particles, h: float, tsimulation: float, t: float, soft: float, GC: float):\n",
    "    N = int((tsimulation - t) / h)  # number of time steps\n",
    "    num_particles = len(galaxy.mass)  # number of particles in the galaxy\n",
    "    path = np.empty((N, num_particles, 3))  # array to store the position of the galaxy\n",
    "    velocity = np.empty((N, num_particles, 3))  # array to store the velocity of the galaxy\n",
    "    time = np.empty(N)\n",
    "    timestep = np.empty(N)\n",
    "    \n",
    "    R_cyl, _, V_phi = rotation_curve_rescaled(galaxy, GC)\n",
    "    R_cyl = [R_cyl]\n",
    "    V_phi = [V_phi]\n",
    "\n",
    "    i = 0\n",
    "    while t < tsimulation - h:\n",
    "        updated_galaxy, _,  updated_acc, _, _ = integrator_leapfrog(particles=galaxy, tstep=h, acceleration_estimator=acceleration_pyfalcon, softening=soft)\n",
    "        path[i] = updated_galaxy.pos\n",
    "        velocity[i] = updated_galaxy.vel\n",
    "            \n",
    "        R, z, V = rotation_curve_rescaled(updated_galaxy, GC)\n",
    "\n",
    "        timestep[i] = h\n",
    "        t += h\n",
    "        time[i] = t\n",
    "\n",
    "        R_cyl.append(R)\n",
    "        V_phi.append(V) \n",
    "\n",
    "        i += 1\n",
    "\n",
    "    R_cyl = np.array(R_cyl)\n",
    "    V_phi = np.array(V_phi)\n",
    "\n",
    "    return path, velocity, time, R_cyl, V_phi"
   ]
  },
  {
   "cell_type": "markdown",
   "metadata": {},
   "source": [
    "----"
   ]
  },
  {
   "cell_type": "markdown",
   "metadata": {},
   "source": [
    "## Galaxy 1\n",
    "Let's try an orbital simulation of the first galaxy to see if the integration works (in this test we used the leap-frog method)."
   ]
  },
  {
   "cell_type": "code",
   "execution_count": 6,
   "metadata": {},
   "outputs": [
    {
     "name": "stdout",
     "output_type": "stream",
     "text": [
      "Period of the galaxy (approximately): 107.52206736218666\n"
     ]
    },
    {
     "ename": "",
     "evalue": "",
     "output_type": "error",
     "traceback": [
      "\u001b[1;31mThe Kernel crashed while executing code in the the current cell or a previous cell. Please review the code in the cell(s) to identify a possible cause of the failure. Click <a href='https://aka.ms/vscodeJupyterKernelCrash'>here</a> for more info. View Jupyter <a href='command:jupyter.viewOutput'>log</a> for further details."
     ]
    }
   ],
   "source": [
    "# compute the orbital period with T = 2*pi*sqrt(a^3/GM)\n",
    "\n",
    "G = 1.                                                                   # gravitational constant in n-body units\n",
    "plummer_scale_lenght = 5.                                                # scale lenght of the plummer sphere (softening)\n",
    "\n",
    "radius = np.sqrt(np.sum((Galaxy1.pos-Galaxy1.pos[0])**2., axis=1))  # radius array\n",
    "\n",
    "central_mass = Galaxy1.mass[0]                                           # central mass of the galaxy\n",
    "\n",
    "T = 2 * np.pi * np.sqrt(radius**3 / (G * central_mass))        # period of the galaxy using radius array  \n",
    "T = np.mean(T)                                                           # mean period of the galaxy\n",
    "\n",
    "print(f'Period of the galaxy (approximately): {T}')\n",
    "\n",
    "# define the time of simulation and the number of steps\n",
    "\n",
    "t0 = 0.                         # initial time\n",
    "tsimulation = 1*T               # time of simulation (one period)\n",
    "N = int(1e3)                    # number of steps\n",
    "h = (tsimulation - t0)/N        # time steps\n",
    "\n",
    "Galaxy1_test = Galaxy1.copy()\n",
    "\n",
    "Galaxy1_orbit, Galaxy1_stars_vel, Galaxy1_time, Galaxy1_Rcyl, Galaxy1_Vphi = integration_leapfrog(galaxy=Galaxy1_test, h=h, \n",
    "                                                                                            tsimulation=tsimulation, t=t0, soft=plummer_scale_lenght, GC=0)\n",
    "\n",
    "print(Galaxy1_orbit.shape)\n",
    "# (iterations, particles, coordinates)"
   ]
  },
  {
   "cell_type": "code",
   "execution_count": null,
   "metadata": {},
   "outputs": [],
   "source": [
    "# plot of the orbit of the galaxy\n",
    "\n",
    "plt.figure(figsize=(5,5))\n",
    "plt.scatter(Galaxy1_orbit[:,1:,0], Galaxy1_orbit[:,1:,1], s=0.005, color='b', alpha=0.1)\n",
    "plt.plot(Galaxy1_orbit[0,1:,0], Galaxy1_orbit[0,1:,1], 'o', markersize=0.5, c='b', label='initial position', alpha=0.5)\n",
    "plt.plot(Galaxy1_orbit[-1,1:,0], Galaxy1_orbit[-1,1:,1], 'o', markersize=1, c='g', label='final position', alpha=0.5, zorder=10)\n",
    "plt.scatter(Galaxy1_orbit[:,0,0], Galaxy1_orbit[:,0,1], s=10, color='r', label='GC', zorder=10)\n",
    "plt.xlabel('X [Nbody]')\n",
    "plt.ylabel('Y [Nbody]')\n",
    "plt.title('Orbit of Galaxy1')\n",
    "plt.legend(loc='upper right', fontsize=8)\n",
    "plt.grid(True, alpha=0.5)\n",
    "plt.show()"
   ]
  },
  {
   "cell_type": "markdown",
   "metadata": {},
   "source": [
    "### Stability of the rotation curve and of the surface density\n",
    "\n",
    "We check that both the rotation curve and the surface density of the galaxy after running one simulation remain stable after a timescale defined as the mean period of the galaxy"
   ]
  },
  {
   "cell_type": "code",
   "execution_count": null,
   "metadata": {},
   "outputs": [],
   "source": [
    "plt.figure(figsize=(5, 5))\n",
    "n = Galaxy1_Rcyl.shape[0]\n",
    "snapshots = np.arange(0, n, n//2)\n",
    "title = ['initial', 'mid', 'final']\n",
    "for i in range (len(snapshots)):\n",
    "    plt.scatter(Galaxy1_Rcyl[snapshots[i],:], Galaxy1_Vphi[snapshots[i],:], s=0.5, label=title[i], alpha=0.5)\n",
    "    \n",
    "plt.xlabel('$R_{cycl}$')\n",
    "plt.ylabel('$V_{\\phi}$')\n",
    "plt.title('Tangential velocity Galaxy 1')\n",
    "plt.legend(loc='lower right')\n",
    "plt.show()  "
   ]
  },
  {
   "cell_type": "code",
   "execution_count": null,
   "metadata": {},
   "outputs": [],
   "source": [
    "# intial surface density\n",
    "mid, H, area = surface_density(Galaxy1_Rcyl[0])\n",
    "\n",
    "# final surface density\n",
    "mid_end, H_end, area_end = surface_density(Galaxy1_Rcyl[-1])"
   ]
  },
  {
   "cell_type": "code",
   "execution_count": null,
   "metadata": {},
   "outputs": [],
   "source": [
    "# plot the surface density of the initial and final galaxy\n",
    "plt.figure(figsize=(5,5))\n",
    "plt.plot(mid, H / area, label='initial')\n",
    "plt.plot(mid_end, H_end / area_end, label='final')\n",
    "plt.yscale('log')\n",
    "plt.xlabel(\"Rcyl [Nbody]\")  \n",
    "plt.ylabel(\"Surface Number Density [Nbody]\")\n",
    "plt.title(\"Surface Density Profile Galaxy 1\")\n",
    "plt.legend()\n",
    "plt.show()"
   ]
  },
  {
   "cell_type": "markdown",
   "metadata": {},
   "source": [
    "## Galaxy 2\n",
    "\n",
    "### Stability of the rotation curve and of the surface density\n",
    "We do the same check for the other galaxy, so first we run a simulation and then we check the stability of the rotation curve and of the surface density. "
   ]
  },
  {
   "cell_type": "code",
   "execution_count": null,
   "metadata": {},
   "outputs": [],
   "source": [
    "# compute the orbital period with T = 2*pi*sqrt(a^3/GM)\n",
    "\n",
    "G = 1.                                                                   # gravitational constant in n-body units\n",
    "plummer_scale_lenght = 5.                                                # scale lenght of the plummer sphere (softening)\n",
    "\n",
    "central_mass2 = Galaxy1.mass[0]                                           # central mass of the galaxy\n",
    "radius = np.sqrt(np.sum((Galaxy2.pos-Galaxy2.pos[0])**2., axis=1))  # radius array\n",
    "\n",
    "T = 2 * np.pi * np.sqrt(radius**3 / (G * central_mass))        # period of the galaxy using radius array  \n",
    "T = np.mean(T)                                                           # mean period of the galaxy\n",
    "\n",
    "print(f'Period of the galaxy (approximately): {T}')\n",
    "\n",
    "# define the time of simulation and the number of steps\n",
    "\n",
    "t0 = 0.                         # initial time\n",
    "tsimulation = 1*T               # time of simulation (one period)\n",
    "N = int(1e3)                    # number of steps\n",
    "h = (tsimulation - t0)/N        # time steps\n",
    "\n",
    "Galaxy2_test = Galaxy2.copy()\n",
    "\n",
    "Galaxy2_orbit, Galaxy2_stars_vel, Galaxy2_time, Galaxy2_Rcyl, Galaxy2_Vphi = integration_leapfrog(galaxy=Galaxy2_test, h=h, \n",
    "                                                                                            tsimulation=tsimulation, t=t0, soft=plummer_scale_lenght, GC=0)"
   ]
  },
  {
   "cell_type": "code",
   "execution_count": null,
   "metadata": {},
   "outputs": [],
   "source": [
    "plt.figure(figsize=(5, 5))\n",
    "n = Galaxy2_Rcyl.shape[0]\n",
    "snapshots = np.arange(0, n, n//2)\n",
    "title = ['initial', 'mid', 'final']\n",
    "for i in range (len(snapshots)):\n",
    "    plt.scatter(Galaxy2_Rcyl[snapshots[i],:], Galaxy2_Vphi[snapshots[i],:], s=0.5, label=title[i], alpha=0.5)\n",
    "    \n",
    "plt.xlabel('$R_{cycl}$')\n",
    "plt.ylabel('$V_{\\phi}$')\n",
    "plt.title('Tangential velocity Galaxy 2')\n",
    "plt.legend(loc='lower right')\n",
    "plt.show()  "
   ]
  },
  {
   "cell_type": "code",
   "execution_count": null,
   "metadata": {},
   "outputs": [],
   "source": [
    "# intial surface density\n",
    "mid, H, area = surface_density(Galaxy2_Rcyl[0])\n",
    "\n",
    "# final surface density\n",
    "mid_end, H_end, area_end = surface_density(Galaxy2_Rcyl[-1])"
   ]
  },
  {
   "cell_type": "code",
   "execution_count": null,
   "metadata": {},
   "outputs": [],
   "source": [
    "# plot the surface density of the initial and final galaxy\n",
    "plt.figure(figsize=(5,5))\n",
    "plt.plot(mid, H / area, label='initial')\n",
    "plt.plot(mid_end, H_end / area_end, label='final')\n",
    "plt.yscale('log')\n",
    "plt.xlabel(\"Rcyl [Nbody]\")  \n",
    "plt.ylabel(\"Surface Number Density [Nbody]\")\n",
    "plt.title(\"Surface Density Profile Galaxy 2\")\n",
    "plt.legend()\n",
    "plt.show()"
   ]
  },
  {
   "cell_type": "markdown",
   "metadata": {},
   "source": [
    "----    "
   ]
  },
  {
   "cell_type": "markdown",
   "metadata": {},
   "source": [
    "## Galaxy encounter\n",
    "\n",
    "We run a galaxy encounter and then show how the rotation curve and the disc surface profile evolve with time. \n",
    "First of all, we make a single class with both galaxies. "
   ]
  },
  {
   "cell_type": "code",
   "execution_count": null,
   "metadata": {},
   "outputs": [],
   "source": [
    "# Combine Galaxy1 and Galaxy2 into a single Particles class\n",
    "combined_pos = np.concatenate((Galaxy1.pos, Galaxy2.pos))\n",
    "combined_vel = np.concatenate((Galaxy1.vel, Galaxy2.vel))\n",
    "combined_mass = np.concatenate((Galaxy1.mass, Galaxy2.mass))\n",
    "\n",
    "Combined_Galaxies = Particles(combined_pos, combined_vel, combined_mass)\n",
    "\n",
    "div = 10000 # first index of the second galaxy"
   ]
  },
  {
   "cell_type": "markdown",
   "metadata": {},
   "source": [
    "We define another function for the integration `integration_leapfrog_encounter` to differentiate the rescaling for the two galaxies based on the ID of the particles. "
   ]
  },
  {
   "cell_type": "code",
   "execution_count": null,
   "metadata": {},
   "outputs": [],
   "source": [
    "def integration_leapfrog_encounter(galaxy: Particles, h: float, tsimulation: float, t: float, soft: float):\n",
    "    N = int((tsimulation - t) / h)  # number of time steps\n",
    "    num_particles = len(galaxy.mass)  # number of particles in the galaxy\n",
    "    path = np.empty((N, num_particles, 3))  # array to store the position of the galaxy\n",
    "    velocity = np.empty((N, num_particles, 3))  # array to store the velocity of the galaxy\n",
    "    time = np.empty(N)\n",
    "    timestep = np.empty(N)\n",
    "    \n",
    "    R_cyl, _, V_phi = rotation_curve_rescaled(galaxy, GC=np.where(galaxy.ID < (len(galaxy.ID)//2), 0, len(galaxy.ID)//2))\n",
    "    R_cyl = [R_cyl]\n",
    "    V_phi = [V_phi]\n",
    "\n",
    "    i = 0\n",
    "    while t < tsimulation:\n",
    "        updated_galaxy, _,  updated_acc, _, _ = integrator_leapfrog(particles=galaxy, tstep=h, acceleration_estimator=acceleration_pyfalcon, softening=soft)\n",
    "        path[i] = updated_galaxy.pos\n",
    "        velocity[i] = updated_galaxy.vel\n",
    "            \n",
    "        R, z, V = rotation_curve_rescaled(updated_galaxy, GC=np.where(updated_galaxy.ID < (len(updated_galaxy.ID)//2), 0, len(updated_galaxy.ID)//2))\n",
    "\n",
    "        timestep[i] = h\n",
    "        t += h\n",
    "        time[i] = t\n",
    "\n",
    "        R_cyl.append(R)\n",
    "        V_phi.append(V) \n",
    "\n",
    "        i += 1\n",
    "\n",
    "    R_cyl = np.array(R_cyl)\n",
    "    V_phi = np.array(V_phi)\n",
    "\n",
    "    return path, velocity, time, R_cyl, V_phi"
   ]
  },
  {
   "cell_type": "markdown",
   "metadata": {},
   "source": [
    "Then we run the simulation for the encounter using $T=210$ as time of the simulation."
   ]
  },
  {
   "cell_type": "code",
   "execution_count": null,
   "metadata": {},
   "outputs": [],
   "source": [
    "# just keep the same tsimulation and N as before\n",
    "G = 1.                                                                   # gravitational constant in n-body units\n",
    "T_sim = 210\n",
    "plummer_scale_lenght = 5.                                                # scale lenght of the plummer sphere (softening)\n",
    "t0 = 0.\n",
    "tsimulation = T_sim\n",
    "N = int(1e3)\n",
    "h = (tsimulation - t0)/N\n",
    "\n",
    "Combined_Galaxies_test = Combined_Galaxies.copy()\n",
    "\n",
    "Combined_Galaxies_orbit, Combined_Galaxies_stars_vel, Combined_Galaxies_time, Combined_Galaxies_Rcyl, Combined_Galaxies_Vphi = integration_leapfrog_encounter(galaxy=Combined_Galaxies_test, h=h, \n",
    "                                                                                                                                                                            tsimulation=tsimulation, t=t0, soft=plummer_scale_lenght)"
   ]
  },
  {
   "cell_type": "markdown",
   "metadata": {},
   "source": [
    "### Plot of the whole evolution\n",
    "We make a plot showing the whole evolution of the galaxies, namely the trajectories of the trackers and of the galactic centers. We display even the initial and final positions of the galaxies. "
   ]
  },
  {
   "cell_type": "code",
   "execution_count": null,
   "metadata": {},
   "outputs": [],
   "source": [
    "plt.figure(figsize=(8,8))\n",
    "\n",
    "# stars trajectory\n",
    "plt.scatter(Combined_Galaxies_orbit[:,1:div,0], Combined_Galaxies_orbit[:,1:div,1], s=0.005, color='lightblue',  alpha=0.05)\n",
    "plt.scatter(Combined_Galaxies_orbit[:,(div+1):,0],  Combined_Galaxies_orbit[:,(div+1):,1],  s=0.005, color='lightgreen', alpha=0.05)\n",
    "\n",
    "# initial and final position of galaxy 1\n",
    "plt.plot(Combined_Galaxies_orbit[0,1:div,0],  Combined_Galaxies_orbit[0,1:div,1],  'o', markersize=2, c='cornflowerblue', label='initial position of Gal1', alpha=0.5)\n",
    "plt.plot(Combined_Galaxies_orbit[-1,1:div,0], Combined_Galaxies_orbit[-1,1:div,1], '*', markersize=3, c='midnightblue', label='final position of Gal1',   alpha=0.5)\n",
    "\n",
    "# initial and final position of galaxy 2\n",
    "plt.plot(Combined_Galaxies_orbit[0,(div+1):,0],  Combined_Galaxies_orbit[0,(div+1):,1],  'o', markersize=2, c='limegreen', label='initial position of Gal2', alpha=0.5)\n",
    "plt.plot(Combined_Galaxies_orbit[-1,(div+1):,0], Combined_Galaxies_orbit[-1,(div+1):,1], '*', markersize=3, c='darkgreen', label='final position of Gal2',   alpha=0.5)\n",
    "\n",
    "# initial and final position of GC1\n",
    "plt.plot(Combined_Galaxies_orbit[0,0,0],  Combined_Galaxies_orbit[0,0,1],  'o', markersize=4, color='r', label='GC 1', zorder=10)\n",
    "plt.plot(Combined_Galaxies_orbit[-1,0,0], Combined_Galaxies_orbit[-1,0,1], 'o', markersize=4, color='r',               zorder=10)\n",
    "\n",
    "# initial and final position of GC2\n",
    "plt.plot(Combined_Galaxies_orbit[0,div,0],  Combined_Galaxies_orbit[0,div,1],  'o', markersize=4, color='orange', label='GC 2', zorder=10)\n",
    "plt.plot(Combined_Galaxies_orbit[-1,div,0], Combined_Galaxies_orbit[-1,div,1], 'o', markersize=4, color='orange',               zorder=10)\n",
    "\n",
    "# trajectory of GC1\n",
    "plt.scatter(Combined_Galaxies_orbit[:,0,0],    Combined_Galaxies_orbit[:,0,1],    s=0.05, color='r',      zorder=10, alpha=0.5)\n",
    "# trajectory of GC2\n",
    "plt.scatter(Combined_Galaxies_orbit[:,div,0], Combined_Galaxies_orbit[:,div,1], s=0.05, color='orange', zorder=10, alpha=0.5)\n",
    "\n",
    "plt.xlabel('X [Nbody]')\n",
    "plt.ylabel('Y [Nbody]')\n",
    "plt.title('Galaxies Encounter')\n",
    "plt.legend(loc='lower right', fontsize=8)\n",
    "plt.grid(True, alpha=0.5)\n",
    "plt.show()"
   ]
  },
  {
   "cell_type": "markdown",
   "metadata": {},
   "source": [
    "### Final situation\n",
    "We make a plot showing the final configuration of the galaxies after the encounter. "
   ]
  },
  {
   "cell_type": "code",
   "execution_count": null,
   "metadata": {},
   "outputs": [],
   "source": [
    "plt.subplots(1,3,figsize=(12,4), sharey=True)\n",
    "\n",
    "plt.subplot(1, 3, 1)\n",
    "# final position of galaxy 1\n",
    "plt.plot(Combined_Galaxies_orbit[-1,1:div,0], Combined_Galaxies_orbit[-1,1:div,1], 'o', markersize=1, c='midnightblue', label='final position of Gal1',   alpha=0.5)\n",
    "# position of GC1\n",
    "plt.plot(Combined_Galaxies_orbit[-1,0,0], Combined_Galaxies_orbit[-1,0,1], 'o', markersize=4, color='r', label='GC 1', zorder=10)\n",
    "# final position of galaxy 2\n",
    "plt.plot(Combined_Galaxies_orbit[-1,(div+1):,0], Combined_Galaxies_orbit[-1,(div+1):,1], 'o', markersize=1, c='g', label='final position of Gal2',   alpha=0.5)\n",
    "# position of GC2\n",
    "plt.plot(Combined_Galaxies_orbit[-1,div,0], Combined_Galaxies_orbit[-1,div,1], 'o', markersize=4, color='orange', label='GC 2', zorder=10)\n",
    "\n",
    "plt.xlabel('X [Nbody]')\n",
    "plt.ylabel('Y [Nbody]')\n",
    "plt.title('Final position of the Galaxies')\n",
    "plt.legend(loc='lower right', fontsize=8)\n",
    "plt.grid(True, alpha=0.5)\n",
    "\n",
    "plt.subplot(1, 3, 2)\n",
    "# final position of galaxy 1\n",
    "plt.plot(Combined_Galaxies_orbit[-1,1:div,0], Combined_Galaxies_orbit[-1,1:div,1], 'o', markersize=1, c='midnightblue', label='final position of Gal1',   alpha=0.5)\n",
    "# position of GC1\n",
    "plt.plot(Combined_Galaxies_orbit[-1,0,0], Combined_Galaxies_orbit[-1,0,1], 'o', markersize=4, color='r', label='GC 1', zorder=10)\n",
    "\n",
    "plt.xlabel('X [Nbody]')\n",
    "plt.title('Galaxy 1')\n",
    "plt.legend(loc='lower right', fontsize=8)\n",
    "plt.grid(True, alpha=0.5)\n",
    "\n",
    "plt.subplot(1, 3, 3)\n",
    "# final position of galaxy 2   \n",
    "plt.plot(Combined_Galaxies_orbit[-1,(div+1):,0], Combined_Galaxies_orbit[-1,(div+1):,1], 'o', markersize=1, c='g', label='final position of Gal2',   alpha=0.5)\n",
    "# position of GC2\n",
    "plt.plot(Combined_Galaxies_orbit[-1,div,0], Combined_Galaxies_orbit[-1,div,1], 'o', markersize=4, color='orange', label='GC 2', zorder=10)\n",
    "\n",
    "plt.xlabel('X [Nbody]')\n",
    "plt.title('Galaxy 2')\n",
    "plt.legend(loc='lower right', fontsize=8)\n",
    "plt.grid(True, alpha=0.5)\n",
    "\n",
    "plt.tight_layout()\n",
    "plt.show()"
   ]
  },
  {
   "cell_type": "markdown",
   "metadata": {},
   "source": [
    "### Evolution of the rotation curve\n",
    "Check how the rotation curves of the galaxies evolve after the encounter.  "
   ]
  },
  {
   "cell_type": "code",
   "execution_count": null,
   "metadata": {},
   "outputs": [],
   "source": [
    "plt.subplots(1,3,figsize=(12,4), sharey=True)\n",
    "\n",
    "plt.subplot(1, 3, 1)\n",
    "plt.scatter(Combined_Galaxies_Rcyl[-1,1:div], Combined_Galaxies_Vphi[-1,1:div], s=0.5, color='r', label='final', alpha=0.5)\n",
    "plt.scatter(Combined_Galaxies_Rcyl[0,1:div], Combined_Galaxies_Vphi[0,1:div], s=0.5, color='b', label='initial', alpha=0.5)\n",
    "plt.legend(loc='best')\n",
    "plt.xlabel('$R_{cycl}$')\n",
    "plt.ylabel('$V_{\\phi}$')\n",
    "plt.title('Rotation curve Galaxy 1')\n",
    "\n",
    "plt.subplot(1, 3, 2)\n",
    "plt.scatter(Combined_Galaxies_Rcyl[-1,(div+1):], Combined_Galaxies_Vphi[-1,(div+1):], s=0.5, color='g', label='final', alpha=0.5)\n",
    "plt.scatter(Combined_Galaxies_Rcyl[0,(div+1):], Combined_Galaxies_Vphi[0,(div+1):], s=0.5, color='b', label='initial', alpha=0.5)\n",
    "plt.legend(loc='best')\n",
    "plt.xlabel('$R_{cycl}$')\n",
    "plt.title('Rotation curve Galaxy 2')\n",
    "\n",
    "plt.subplot(1, 3, 3)\n",
    "plt.scatter(Combined_Galaxies_Rcyl[-1,1:div], Combined_Galaxies_Vphi[-1,1:div], s=0.5, color='r', label='final G1', alpha=0.5)\n",
    "plt.scatter(Combined_Galaxies_Rcyl[-1,(div+1):], Combined_Galaxies_Vphi[-1,(div+1):], s=0.5, color='g', label='final G2', alpha=0.5)\n",
    "plt.scatter(Combined_Galaxies_Rcyl[0,1:div], Combined_Galaxies_Vphi[0,1:div], s=0.5, color='b', label='initial G1 and G2', alpha=0.5)\n",
    "plt.legend(loc='best')\n",
    "plt.xlabel('$R_{cycl}$')\n",
    "plt.title('Rotation curve of both Galaxies')\n",
    "\n",
    "plt.tight_layout()\n",
    "plt.show()"
   ]
  },
  {
   "cell_type": "markdown",
   "metadata": {},
   "source": [
    "### Evolution of the surface density\n",
    "Check the evolution of the surface density of both galaxies after the encounter."
   ]
  },
  {
   "cell_type": "code",
   "execution_count": null,
   "metadata": {},
   "outputs": [],
   "source": [
    "# intial surface density G1\n",
    "mid_in_1, H_in_1, area_in_1 = surface_density(Combined_Galaxies_Rcyl[0,:div])\n",
    "\n",
    "# final surface density G1\n",
    "mid_end_1, H_end_1, area_end_1 = surface_density(Combined_Galaxies_Rcyl[-1,:div])\n",
    "\n",
    "# intial surface density G2 \n",
    "mid_in_2, H_in_2, area_in_2 = surface_density(Combined_Galaxies_Rcyl[0,div:])\n",
    "\n",
    "# final surface density G2\n",
    "mid_end_2, H_end_2, area_end_2 = surface_density(Combined_Galaxies_Rcyl[-1,div:])"
   ]
  },
  {
   "cell_type": "markdown",
   "metadata": {},
   "source": [
    "## Final plots after the encounter\n",
    "Let's make a single plot containing the final situation of the galaxies, the evolution of their rotation curve and the one of their surface density. "
   ]
  },
  {
   "cell_type": "code",
   "execution_count": null,
   "metadata": {},
   "outputs": [],
   "source": [
    "plt.subplots(3,3,figsize=(12,12))\n",
    "\n",
    "plt.subplot(3, 3, 1)\n",
    "# final position of galaxy 1\n",
    "plt.plot(Combined_Galaxies_orbit[-1,1:div,0], Combined_Galaxies_orbit[-1,1:div,1], 'o', markersize=1, c='midnightblue', label='final position of Gal1',   alpha=0.5)\n",
    "# position of GC1\n",
    "plt.plot(Combined_Galaxies_orbit[-1,0,0], Combined_Galaxies_orbit[-1,0,1], 'o', markersize=4, color='r', label='GC 1', zorder=10)\n",
    "# final position of galaxy 2\n",
    "plt.plot(Combined_Galaxies_orbit[-1,(div+1):,0], Combined_Galaxies_orbit[-1,(div+1):,1], 'o', markersize=1, c='g', label='final position of Gal2',   alpha=0.5)\n",
    "# position of GC2\n",
    "plt.plot(Combined_Galaxies_orbit[-1,div,0], Combined_Galaxies_orbit[-1,div,1], 'o', markersize=4, color='orange', label='GC 2', zorder=10)\n",
    "\n",
    "plt.xlabel('X [Nbody]')\n",
    "plt.ylabel('Y [Nbody]')\n",
    "plt.title('Final position of the Galaxies')\n",
    "plt.legend(loc='lower right', fontsize=8)\n",
    "\n",
    "plt.subplot(3, 3, 2)\n",
    "# final position of galaxy 1\n",
    "plt.plot(Combined_Galaxies_orbit[-1,1:div,0], Combined_Galaxies_orbit[-1,1:div,1], 'o', markersize=1, c='midnightblue', label='final position of Gal1',   alpha=0.5)\n",
    "# position of GC1\n",
    "plt.plot(Combined_Galaxies_orbit[-1,0,0], Combined_Galaxies_orbit[-1,0,1], 'o', markersize=4, color='r', label='GC 1', zorder=10)\n",
    "\n",
    "plt.xlabel('X [Nbody]')\n",
    "plt.ylabel('Y [Nbody]')\n",
    "plt.title('Galaxy 1')\n",
    "plt.legend(loc='lower right', fontsize=8)\n",
    "\n",
    "plt.subplot(3, 3, 3)\n",
    "# final position of galaxy 2   \n",
    "plt.plot(Combined_Galaxies_orbit[-1,(div+1):,0], Combined_Galaxies_orbit[-1,(div+1):,1], 'o', markersize=1, c='g', label='final position of Gal2',   alpha=0.5)\n",
    "# position of GC2\n",
    "plt.plot(Combined_Galaxies_orbit[-1,div,0], Combined_Galaxies_orbit[-1,div,1], 'o', markersize=4, color='orange', label='GC 2', zorder=10)\n",
    "\n",
    "plt.xlabel('X [Nbody]')\n",
    "plt.ylabel('Y [Nbody]')\n",
    "plt.title('Galaxy 2')\n",
    "plt.legend(loc='lower right', fontsize=8)\n",
    "\n",
    "plt.subplot(3, 3, 5)\n",
    "plt.scatter(Combined_Galaxies_Rcyl[-1,1:div], Combined_Galaxies_Vphi[-1,1:div], s=0.5, color='r', label='final', alpha=0.5)\n",
    "plt.scatter(Combined_Galaxies_Rcyl[0,1:div], Combined_Galaxies_Vphi[0,1:div], s=0.5, color='b', label='initial', alpha=0.5)\n",
    "plt.legend(loc='best', fontsize=8)\n",
    "plt.xlabel('$R_{cycl}$')\n",
    "plt.ylabel('$V_{\\phi}$')\n",
    "plt.title('Rotation curve Galaxy 1')\n",
    "\n",
    "plt.subplot(3, 3, 6)\n",
    "plt.scatter(Combined_Galaxies_Rcyl[-1,(div+1):], Combined_Galaxies_Vphi[-1,(div+1):], s=0.5, color='g', label='final', alpha=0.5)\n",
    "plt.scatter(Combined_Galaxies_Rcyl[0,(div+1):], Combined_Galaxies_Vphi[0,(div+1):], s=0.5, color='b', label='initial', alpha=0.5)\n",
    "plt.legend(loc='best', fontsize=8)\n",
    "plt.xlabel('$R_{cycl}$')\n",
    "plt.ylabel('$V_{\\phi}$')\n",
    "plt.title('Rotation curve Galaxy 2')\n",
    "\n",
    "plt.subplot(3, 3, 4)\n",
    "plt.scatter(Combined_Galaxies_Rcyl[-1,1:div], Combined_Galaxies_Vphi[-1,1:div], s=0.5, color='r', label='final G1', alpha=0.5)\n",
    "plt.scatter(Combined_Galaxies_Rcyl[-1,(div+1):], Combined_Galaxies_Vphi[-1,(div+1):], s=0.5, color='g', label='final G2', alpha=0.5)\n",
    "plt.scatter(Combined_Galaxies_Rcyl[0,1:div], Combined_Galaxies_Vphi[0,1:div], s=0.5, color='b', label='initial G1 and G2', alpha=0.5)\n",
    "plt.legend(loc='best', fontsize=8)\n",
    "plt.xlabel('$R_{cycl}$')\n",
    "plt.ylabel('$V_{\\phi}$')\n",
    "plt.title('Rotation curve (G1 and G2)')\n",
    "\n",
    "plt.subplot(3, 3, 7)\n",
    "plt.plot(mid_in_1, H_in_1 / area_in_1, label='initial G1 and G2', c='b')\n",
    "plt.plot(mid_end_1, H_end_1 / area_end_1, label='final G1', c='r')\n",
    "plt.plot(mid_end_2, H_end_2 / area_end_2, label='final G2', c='g')\n",
    "plt.yscale('log')\n",
    "plt.xlabel(\"Rcyl [Nbody]\")  \n",
    "plt.ylabel(\"Surface Number Density [Nbody]\")\n",
    "plt.legend(loc='best', fontsize=8)\n",
    "plt.title(\"Surface Density Profile (G1 and G2)\")\n",
    "\n",
    "plt.subplot(3, 3, 8)\n",
    "plt.plot(mid_in_1, H_in_1 / area_in_1, label='initial', c='b')\n",
    "plt.plot(mid_end_1, H_end_1 / area_end_1, label='final', c='r')\n",
    "plt.yscale('log')\n",
    "plt.xlabel(\"Rcyl [Nbody]\")  \n",
    "plt.ylabel(\"Surface Number Density [Nbody]\")\n",
    "plt.legend(loc='best', fontsize=8)\n",
    "plt.title(\"Surface Density Profile Galaxy 1\")\n",
    "\n",
    "plt.subplot(3, 3, 9)\n",
    "plt.plot(mid_in_2, H_in_2 / area_in_2, label='initial', c='b')\n",
    "plt.plot(mid_end_2, H_end_2 / area_end_2, label='final', c='g')\n",
    "plt.yscale('log')\n",
    "plt.xlabel(\"Rcyl [Nbody]\")  \n",
    "plt.ylabel(\"Surface Number Density [Nbody]\")\n",
    "plt.legend(loc='best', fontsize=8)\n",
    "plt.title(\"Surface Density Profile Galaxy 2\")\n",
    "\n",
    "\n",
    "plt.tight_layout()\n",
    "plt.show()"
   ]
  }
 ],
 "metadata": {
  "kernelspec": {
   "display_name": "base",
   "language": "python",
   "name": "python3"
  },
  "language_info": {
   "codemirror_mode": {
    "name": "ipython",
    "version": 3
   },
   "file_extension": ".py",
   "mimetype": "text/x-python",
   "name": "python",
   "nbconvert_exporter": "python",
   "pygments_lexer": "ipython3",
   "version": "3.10.12"
  }
 },
 "nbformat": 4,
 "nbformat_minor": 2
}
