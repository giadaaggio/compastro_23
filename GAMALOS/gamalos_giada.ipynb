{
 "cells": [
  {
   "cell_type": "markdown",
   "metadata": {},
   "source": [
    "# GAMALOS (GAlaxies MAking LOve Simulation)"
   ]
  },
  {
   "cell_type": "markdown",
   "metadata": {},
   "source": [
    "## Theoric remarks"
   ]
  },
  {
   "cell_type": "markdown",
   "metadata": {},
   "source": [
    "Report: write a short report containing:\n",
    "- a short introduction to the N-body problem, the difference between\n",
    "collisional and collisionless systems and the force estimate in\n",
    "collisionless simulations based on tree algorithms. Short general\n",
    "description of the fireworks package and its implementation.\n",
    "- Description of the methods (integrators, force estimator) used.\n",
    "- Description of the initial conditions and simulation setup.\n",
    "- Results and discussion. They depends on the specific project you\n",
    "chose, but I expect at least one plot showing the main conclusion of\n",
    "your analysis."
   ]
  },
  {
   "cell_type": "markdown",
   "metadata": {},
   "source": [
    "<div class='alert alert-danger' role='alert'>\n",
    "Inserisci info teoriche\n",
    "</div>"
   ]
  },
  {
   "cell_type": "markdown",
   "metadata": {},
   "source": [
    "## Computation"
   ]
  },
  {
   "cell_type": "code",
   "execution_count": null,
   "metadata": {},
   "outputs": [],
   "source": [
    "#first of all, we import all the packages for Particles, integrators, ic...\n",
    "\n",
    "import numpy as np\n",
    "import pandas as pd\n",
    "from fireworks.ic import ic_two_body\n",
    "import matplotlib.pyplot as plt\n",
    "from fireworks.nbodylib.integrators import integrator_leapfrog_galaxy, integrator_leapfrog\n",
    "from fireworks.nbodylib.dynamics import acceleration_pyfalcon\n",
    "from fireworks.nbodylib.timesteps import adaptive_timestep_r\n",
    "from fireworks.particles import Particles\n",
    "from typing import Optional, Tuple, Callable, Union\n",
    "import time\n",
    "\n",
    "#from mpl_toolkits.mplot3d import Axes3D\n",
    "\n",
    "%matplotlib widget"
   ]
  },
  {
   "cell_type": "markdown",
   "metadata": {},
   "source": [
    "We can import the data of one galaxy at first. The units are still Nbody units."
   ]
  },
  {
   "cell_type": "code",
   "execution_count": null,
   "metadata": {},
   "outputs": [],
   "source": [
    "df_0 = pd.read_csv(\"data_cvs/Nbody_disc.csv\")\n",
    "\n",
    "# slice dataframe\n",
    "num_particles = 1e3\n",
    "df = df_0.iloc[:int(num_particles)]\n",
    "\n",
    "df.head(10)"
   ]
  },
  {
   "cell_type": "markdown",
   "metadata": {},
   "source": [
    "### 1. Initial conditions\n",
    "We generated a Particles instance for each galaxy"
   ]
  },
  {
   "cell_type": "code",
   "execution_count": null,
   "metadata": {},
   "outputs": [],
   "source": [
    "# create a class with the mass, pos, vel of each element of the Galaxy\n",
    "\n",
    "masses = df[['mass']]\n",
    "positions = df[['x', 'y', 'z']]\n",
    "velocities = df[['vx', 'vy', 'vz']]\n",
    "\n",
    "# reshape mass array as 1D array\n",
    "masses = masses.values.reshape(-1)\n",
    "\n",
    "Galaxy1 = Particles(positions.values, velocities.values, masses)\n",
    "print(Galaxy1.pos.shape)"
   ]
  },
  {
   "cell_type": "code",
   "execution_count": null,
   "metadata": {},
   "outputs": [],
   "source": [
    "# do the same for the other galaxy\n",
    "# this second galaxy is the same as the first one, but translated by a certain value\n",
    "\n",
    "pos_translation = np.array((40., 20., 0.))\n",
    "vel_translation = np.array((-0.2, 0., 0.))\n",
    "\n",
    "# apply this translation to find the second galaxy\n",
    "\n",
    "positions_gal_2 = positions.values + pos_translation\n",
    "velocities_gal_2 = velocities.values + vel_translation\n",
    "Galaxy2 = Particles(positions_gal_2, velocities_gal_2, masses)"
   ]
  },
  {
   "cell_type": "markdown",
   "metadata": {},
   "source": [
    "### Rotation curve and Surface density profile\n",
    "Let's plot the rotation curve and the surface density profile for one galaxy, in particular for Galaxy 1. \n",
    "\n",
    "The **rotation curve** of a galaxy shows the azimuthal velocity as function of the cylindrical radius . To estimate the azimuthal velocity for each particle we transform the Cartesian coordinates to cylindrical: \n",
    "\n",
    "$$\n",
    "\\begin{cases}\n",
    "R_{\\text{cyl}} = \\sqrt(x^2+y^2) \\\\\n",
    "\\phi = \\arctan(\\frac{y}{x}) \\\\\n",
    "z=z\n",
    "\\end{cases}\n",
    "$$\n",
    "\n",
    "We then computed the azymuthal velocity for all the particles using: \n",
    "$$\n",
    "V_\\phi = V_y \\cdot \\cos(\\phi) - V_x\\cdot \\sin(\\phi)\n",
    "$$\n",
    "\n",
    "We then plotted $V_\\phi$ vs $R$ to obtain the rotation curve of the galaxy. \n",
    "\n",
    "The **surface density profile** $\\Sigma$ shows the amount of mass in a cylindrical ring divided by the area of the ring. To estimate it we bin the particles on the cylindrical radius $R_{\\text{cyl}}$, then we sum all the masses of the particles to obtain $M_{\\text{tot, ring}}$ and then the area of the ring is given by $\\pi (R^2_{\\text{outer}}-R^2_{\\text{inner}})$ where $R_{\\text{inner}}$ and $R_{\\text{outer}}$ are the borders of the considered bin. Finally $\\Sigma_{\\text{ring}}=M_{\\text{tot, ring}}/A_{\\text{ring}}$. \n",
    "\n",
    "We plotted the initial number suface density of the disc, which means that we use the number of particles instead of the total mass of the ring, as function of the cylindrical radius. "
   ]
  },
  {
   "cell_type": "code",
   "execution_count": null,
   "metadata": {},
   "outputs": [],
   "source": [
    "def rotation_curve(x, y, z, vx, vy):\n",
    "    # convert to cylindrical coordinates\n",
    "    Rcyl = np.sqrt(x ** 2 + y ** 2)                   # cylindrical radius\n",
    "    phi = np.arctan2(y, x)                            # azimuthal angle\n",
    "    z = z                                             # z-coordinate\n",
    "\n",
    "    # compute azimuthal velocity    \n",
    "    vel_phi = vy * np.cos(phi) - vx * np.sin(phi)     # azimuthal velocity\n",
    "\n",
    "    return Rcyl, vel_phi\n",
    "\n",
    "def surface_density(Rcyl):\n",
    "    H, edge = np.histogram(Rcyl, bins=20)                                          # histogram of the cylindrical radius\n",
    "    area =  np.pi * (edge[1:]**2 - edge[0:-1]**2)                                  # area of every bin (every concentric ring) \n",
    "    mid = 0.5 * (edge[1:] + edge[0:-1])                                            # midpoint of every bin  \n",
    "\n",
    "    return mid, H, area"
   ]
  },
  {
   "cell_type": "code",
   "execution_count": null,
   "metadata": {},
   "outputs": [],
   "source": [
    "# compute rotation curve and surface density\n",
    "Rcyl, vel_phi = rotation_curve(Galaxy1.pos[:, 0], Galaxy1.pos[:, 1], Galaxy1.pos[:, 2], Galaxy1.vel[:, 0], Galaxy1.vel[:, 1])\n",
    "mid, H, area = surface_density(Rcyl)\n",
    "\n",
    "# rotation curve plot\n",
    "plt.figure(figsize=(8, 5))\n",
    "plt.subplot(1, 2, 1)\n",
    "plt.plot(Rcyl, vel_phi, 'o', markersize=1, c='b')\n",
    "plt.xlabel(\"Rcyl [Nbody]\")\n",
    "plt.ylabel(\"Vphi [Nbody]\")\n",
    "plt.title(\"Rotation Curve\")\n",
    "\n",
    "# surface density plot\n",
    "plt.subplot(1, 2, 2)\n",
    "#plt.yscale('log')\n",
    "plt.plot(mid, H / area, c='b')\n",
    "plt.xlabel(\"Rcyl [Nbody]\")\n",
    "plt.ylabel(\"Surface Number Density [Nbody]\")\n",
    "plt.title(\"Surface Density Profile\")\n",
    "\n",
    "plt.tight_layout()\n",
    "plt.show()  \n"
   ]
  },
  {
   "cell_type": "markdown",
   "metadata": {},
   "source": [
    "### Initial configuration of the galaxies"
   ]
  },
  {
   "cell_type": "code",
   "execution_count": null,
   "metadata": {},
   "outputs": [],
   "source": [
    "plt.figure()\n",
    "plt.plot(Galaxy1.pos[1:,0], Galaxy1.pos[1:,1], 'o', markersize=1, c='b', label='Disc Galaxy 1', alpha=0.5)\n",
    "plt.plot(Galaxy1.pos[0,0], Galaxy1.pos[0,1], '*', markersize=7, c='r', label='GC Galaxy 1')\n",
    "\n",
    "plt.plot(Galaxy2.pos[1:,0], Galaxy2.pos[1:,1], 'o', markersize=1, c='g', label='Disc Galaxy 2', alpha=0.5)\n",
    "plt.plot(Galaxy2.pos[0,0], Galaxy2.pos[0,1], '*', markersize=7, c='orange', label='GC Galaxy 2') \n",
    "plt.legend()\n",
    "\n",
    "plt.xlabel('x [Nbody]')\n",
    "plt.ylabel('y [Nbody]')\n",
    "plt.title('Galaxies 1 and 2 - intial positions')"
   ]
  },
  {
   "cell_type": "markdown",
   "metadata": {},
   "source": [
    "### Orbital integration of Galaxy 1\n",
    "Let's try an orbital simulation of the first galaxy to see if the integration works (in this test we used the leap-frog method)."
   ]
  },
  {
   "cell_type": "markdown",
   "metadata": {},
   "source": [
    "<div class = 'alert alert-block alert-warning'>\n",
    "integrato con N=1e2 per velocizzare i vari test\n",
    "</div>"
   ]
  },
  {
   "cell_type": "code",
   "execution_count": null,
   "metadata": {},
   "outputs": [],
   "source": [
    "# compute the orbital period with T = 2*pi*sqrt(a^3/GM)\n",
    "\n",
    "G = 1.                                                                   # gravitational constant in n-body units\n",
    "plummer_scale_lenght = 5.                                                # scale lenght of the plummer sphere\n",
    "radii = np.sqrt(np.sum(Galaxy1.pos**2, axis=1))                          # radius of the galaxy\n",
    "a = np.average(radii)                                                    # semi-major axis of the galaxy\n",
    "print(f'average radius of the galaxy: {a}')\n",
    "\n",
    "central_mass = Galaxy1.mass[0]                                           # central mass of the galaxy\n",
    "\n",
    "T = 2 * np.pi * np.sqrt(a**3 / (G * central_mass))                       # period of the galaxy\n",
    "\n",
    "print(f'Period of the galaxy (approximately): {T}')\n",
    "\n",
    "# define the time of simulation and the number of steps\n",
    "\n",
    "t0 = 0.                         # initial time\n",
    "tsimulation = 1*T               # time of simulation (one period)\n",
    "N = int(1e3)                    # number of steps\n",
    "h = (tsimulation - t0)/N        # time steps\n",
    "\n",
    "\n",
    "def integration_leapfrog_adaptive(galaxy: Particles, h: float, tsimulation: float, t: float, soft: float):\n",
    "\n",
    "    N = len(galaxy.mass)         # number of particles in the galaxy\n",
    "    path = [galaxy.pos]\n",
    "    velocity = [galaxy.vel]\n",
    "    time = [t]\n",
    "    timestep = [h]\n",
    "    \n",
    "    Etot_leapfrog = []\n",
    "    Ekin_leapfrog = []\n",
    "    Epot_leapfrog = []\n",
    "\n",
    "    while t < tsimulation:\n",
    "        result = integrator_leapfrog_galaxy(particles=galaxy, tstep=h, acceleration_estimator=acceleration_pyfalcon, softening=soft)\n",
    "        updated_galaxy, updated_acc, _, _ = result\n",
    "        path.append(updated_galaxy.pos)\n",
    "        velocity.append(updated_galaxy.vel)\n",
    "            \n",
    "        Etot_n, Ekin_n, Epot_n = updated_galaxy.Etot_vett()\n",
    "        Etot_leapfrog.append(Etot_n)\n",
    "        Ekin_leapfrog.append(Ekin_n)\n",
    "        Epot_leapfrog.append(Epot_n)\n",
    "        \n",
    "        #ts_1, _, _ = adaptive_timestep_r(galaxy)\n",
    "        #h = ts_1\n",
    "        timestep.append(h)\n",
    "        t += h\n",
    "        time.append(t)\n",
    "\n",
    "\n",
    "    path = np.array(path)\n",
    "    velocity = np.array(velocity)\n",
    "    time   = np.array(time)\n",
    "    timestep  = np.array(timestep)\n",
    "\n",
    "    Etot_leapfrog = np.array(Etot_leapfrog)\n",
    "    Ekin_leapfrog = np.array(Ekin_leapfrog)\n",
    "    Etot_leapfrog = np.array(Epot_leapfrog)\n",
    "\n",
    "    return path, velocity, Etot_leapfrog, Ekin_leapfrog, Epot_leapfrog, time, timestep\n",
    "                                                                                          "
   ]
  },
  {
   "cell_type": "code",
   "execution_count": null,
   "metadata": {},
   "outputs": [],
   "source": [
    "Galaxy1_test = Galaxy1.copy()\n",
    "\n",
    "Galaxy1_orbit, Galaxy1_stars_vel, Galaxy1_Etot, Galaxy1_Ekin, Galaxy1_Epot, Galaxy1_time, Galaxy1_timestep = integration_leapfrog_adaptive(galaxy=Galaxy1_test, h=h, \n",
    "                                                                                            tsimulation=tsimulation, t=t0, soft=plummer_scale_lenght)"
   ]
  },
  {
   "cell_type": "code",
   "execution_count": null,
   "metadata": {},
   "outputs": [],
   "source": [
    "print(Galaxy1_orbit.shape)\n",
    "# (iterations, particles, coordinates)"
   ]
  },
  {
   "cell_type": "code",
   "execution_count": null,
   "metadata": {},
   "outputs": [],
   "source": [
    "plt.figure(figsize=(5,5))\n",
    "plt.scatter(Galaxy1_orbit[:,1:,0], Galaxy1_orbit[:,1:,1], s=0.5, color='C0', label='stars', alpha=0.1)\n",
    "plt.scatter(Galaxy1_orbit[0,0,0], Galaxy1_orbit[0,0,1], s=20, color='C1', label='GC')\n",
    "plt.xlabel('x')\n",
    "plt.ylabel('y')\n",
    "plt.title('Orbit of the Galaxy1')\n",
    "plt.legend(loc='upper right')\n",
    "plt.show()"
   ]
  },
  {
   "cell_type": "markdown",
   "metadata": {},
   "source": [
    "We check the total energy error of our simulation. We define a general function we can use for all the simulations. "
   ]
  },
  {
   "cell_type": "code",
   "execution_count": null,
   "metadata": {},
   "outputs": [],
   "source": [
    "def total_energy_error(Etot, initial_t, tsimulation, h):\n",
    "    energy_error = np.zeros_like(Etot)\n",
    "\n",
    "    for i in range(len(Etot)):\n",
    "        energy_error[i] = np.abs((Etot[i] - Etot[0])/Etot[0])\n",
    "\n",
    "    time = np.arange(0, tsimulation, h)\n",
    "\n",
    "    return energy_error, time"
   ]
  },
  {
   "cell_type": "code",
   "execution_count": null,
   "metadata": {},
   "outputs": [],
   "source": [
    "'''\n",
    "# calculate the error of the total energy for Galaxy1\n",
    "\n",
    "energy_error, time = total_energy_error(Etot=Galaxy1_Etot, initial_t=t0, tsimulation=tsimulation, h=h)\n",
    "\n",
    "\n",
    "# plot the error of the total energy for Galaxy1\n",
    "plt.figure(figsize=(5,5))\n",
    "plt.plot(time, energy_error, label='Galaxy1')\n",
    "plt.xlabel('time')\n",
    "plt.ylabel('energy error')\n",
    "plt.title('Total energy error for the Galaxy1')\n",
    "plt.legend()\n",
    "plt.show()\n",
    "'''"
   ]
  },
  {
   "cell_type": "markdown",
   "metadata": {},
   "source": [
    "### Stability of the rotation curve"
   ]
  },
  {
   "cell_type": "code",
   "execution_count": null,
   "metadata": {},
   "outputs": [],
   "source": [
    "# intiial rotation curve\n",
    "Rcyl, vel_phi = rotation_curve(Galaxy1.pos[:, 0], Galaxy1.pos[:, 1], \n",
    "                               Galaxy1.pos[:, 2], Galaxy1.vel[:, 0], Galaxy1.vel[:, 1])\n",
    "\n",
    "# rotation curve after the simulation\n",
    "Rcyl_end, vel_phi_end = rotation_curve(Galaxy1_orbit[-1,:,0], Galaxy1_orbit[-1,:,1],\n",
    "                                        Galaxy1_orbit[-1,:,2], Galaxy1_stars_vel[-1,:,0], Galaxy1_stars_vel[-1,:,1])\n"
   ]
  },
  {
   "cell_type": "code",
   "execution_count": null,
   "metadata": {},
   "outputs": [],
   "source": [
    "plt.figure(figsize=(5,5))\n",
    "plt.plot(Rcyl_end, vel_phi_end, 'o', markersize=1, c='C1', label='final')\n",
    "plt.plot(Rcyl, vel_phi, 'o', markersize=1, c='C0', label='initial')\n",
    "plt.xlabel(\"Rcyl [Nbody]\")\n",
    "plt.ylabel(\"Vphi [Nbody]\")\n",
    "plt.title(\"Rotation Curve\")\n",
    "plt.legend()\n",
    "plt.show()\n"
   ]
  },
  {
   "cell_type": "code",
   "execution_count": null,
   "metadata": {},
   "outputs": [],
   "source": [
    "# intial surface density\n",
    "mid, H, area = surface_density(Rcyl)\n",
    "\n",
    "# final surface density\n",
    "mid_end, H_end, area_end = surface_density(Rcyl_end)"
   ]
  },
  {
   "cell_type": "code",
   "execution_count": null,
   "metadata": {},
   "outputs": [],
   "source": [
    "plt.figure(figsize=(5,5))\n",
    "plt.plot(mid, H / area, c='C0', label='initial')\n",
    "plt.plot(mid_end, H_end / area_end, c='C1', label='final')\n",
    "plt.yscale('log')\n",
    "plt.xlabel(\"Rcyl [Nbody]\")  \n",
    "plt.ylabel(\"Surface Number Density [Nbody]\")\n",
    "plt.title(\"Surface Density Profile\")\n",
    "plt.legend()\n",
    "plt.show()"
   ]
  }
 ],
 "metadata": {
  "kernelspec": {
   "display_name": "base",
   "language": "python",
   "name": "python3"
  },
  "language_info": {
   "codemirror_mode": {
    "name": "ipython",
    "version": 3
   },
   "file_extension": ".py",
   "mimetype": "text/x-python",
   "name": "python",
   "nbconvert_exporter": "python",
   "pygments_lexer": "ipython3",
   "version": "3.10.12"
  }
 },
 "nbformat": 4,
 "nbformat_minor": 2
}
