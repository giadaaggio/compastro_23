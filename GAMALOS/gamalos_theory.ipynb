{
 "cells": [
  {
   "cell_type": "markdown",
   "metadata": {},
   "source": [
    "# N-Body"
   ]
  },
  {
   "cell_type": "markdown",
   "metadata": {},
   "source": [
    "### N-body problem"
   ]
  },
  {
   "cell_type": "markdown",
   "metadata": {},
   "source": [
    "The N-body problem is the problem concerning the prediction of the motion of a group of objects interacting gravitationally with eachother. This puzzle is of paramount importance in astrophysics because is applied to a huge variety of astrophysical situations and scales (solar system, satellites, binary evolution, stars in a cluster or in a galaxy...). \\\n",
    "The N-body problem dates back to the XVII century when Isaac Newton came up with the intuition that two bodies with mass $m_1$ and $m_2$ at a distance $\\vec{r}_{12}$ from eachother are subjected to a mutual force\n",
    "$$\n",
    "\\begin{equation}\n",
    "    \\vec{F}_{1,2} = m_1 \\vec{a}_1 = - G \\frac{m_1 m_2}{r_{12}^2} \\frac{ \\vec{r}_{12} }{ r_{12} } .\n",
    "\\end{equation}\\tag{1}\n",
    "$$\n",
    "Then, extending this to a system of N-body, the acceleration of the body $i$ due to all the other bodies is expressed by \n",
    "$$\n",
    "\\begin{equation}\n",
    "    \\frac{ d^2 \\vec{x}_i } {dt^2} = - G \\sum^N_{j=1, j\\neq i} m_j \\frac{ \\vec{x}_i - \\vec{x}_j }{ | \\vec{x}_i - \\vec{x}_j |^3  } .\n",
    "\\end{equation}\\tag{2}\n",
    "$$\n",
    "\n",
    "It can be demonstrated that each N-body system has:\n",
    "- 6 costants of motion (the position and the velocity of the centre of mass);\n",
    "- 4 integrals of motion (the energy and the three components of the angular momentum).\n",
    "\n",
    "It exists an analitic solution for $N=2$ (Bernoulli was the first to derive it in 1710). The complete solution for a generic number of bodies had not been found yet (in 1991 Qiudong Wang found a convergent power series solution for a generic number of bodies, but it is too difficult to implement and has a slow convergence). In fact, by simply adding a third particle the unknowns become 18, and the constants/integrals of motion are not enough to reduce the complexity of the problem. Then constrains have to be added in order to achieve an analitic solution, and this analitic solution is known only for a small amount of cases (e.g. circular restricted three body problem). Therefore, numerical methods are used in order to integrate this system of differential equations. \n",
    "\n",
    "Another important thing to point out is the numerical complexity of this problem, which is nothing more than the number of computations (numerical iterations) required to complete the task. In the case examined the time complexity is $O(N^2)$: it grows rapidly as N increases, and this represents a major problem to overcome when building a model to describe the system. "
   ]
  },
  {
   "cell_type": "markdown",
   "metadata": {},
   "source": [
    "### N-body units"
   ]
  },
  {
   "cell_type": "markdown",
   "metadata": {},
   "source": [
    "N-body units are a very powerful and useful method when dealing with the N-body problem. They represent a convenient set of units for N-body simulations, based on the assumption that $G = 1$. \\\n",
    "The conversion to physical values can be done a-posteriori, inserting eventually some typical values of the astrophysical system of interest. \\\n",
    "It must be kept in mind that this treatment fails when adding to the simulation data about stars' proper mass and radius, or stellar evolution, or SN explosion, or when setting additional fields in order to reproduce a certan galactic physical configuration; on the other hand, when stars are considered as abstract point mass particles, the scale invariance of the N-body simulation can be exploited.\n",
    "\n",
    "In order to convert N-body units into physical units a scale lenght $L_{scale}$ and a scale mass $M_{scale}$ need to be defined. Then:\n",
    "$$\n",
    "\\begin{equation}\n",
    "    T_{scale} = \\sqrt{  \\frac{L_{scale}^3}{G M_{scale}}   }   ,\n",
    "\\end{equation}\\tag{3}\n",
    "$$\n",
    "$$\n",
    "\\begin{equation}\n",
    "    V_{scale} = \\frac{L_{scale}}{T_{scale}} = \\sqrt{  \\frac{G M_{scale}}{L_{scale}}   } ,\n",
    "\\end{equation}\\tag{4}\n",
    "$$\n",
    "and from here physical units can be recovered\n",
    "$$\n",
    "\\begin{gather}\n",
    "    L_{phys}= L_{Nbody} L_{scale}  ,     \\\\\n",
    "\n",
    "    M_{phys}= M_{Nbody} M_{scale}  ,     \\\\\n",
    "\n",
    "    T_{phys}= T_{Nbody} T_{scale}  ,     \\\\\n",
    "\n",
    "    V_{phys}= V_{Nbody} V_{scale} .\n",
    "\\end{gather}\\tag{5}\n",
    "$$\n",
    "\n",
    "\n",
    "Anyway, physical units can be easily recovered with the Fireworks package, in particular with the aid of the subpackage `nunits`."
   ]
  },
  {
   "cell_type": "markdown",
   "metadata": {},
   "source": [
    "# Collisional vs Collisionless Simulations"
   ]
  },
  {
   "cell_type": "markdown",
   "metadata": {},
   "source": [
    "The importance of close particle-particle interactions allows to distinguish between collisional and collisionless systems. To do so, the starting point would be an analysis of if and how much gravitational encounters between stars are able to change the kinematic status of themselves. \\\n",
    "Consider a test star with velocity $v$ which crosses the potential well of another star a rest. Both stars have the same mass $m$, and $b$ is their mutual distance. After some calculation it can be seen that the velocity change of the incoming star is $\\delta v = \\frac{2 G m}{b v}$. \\\n",
    "Extending now this reasoning considering all the stars in the galaxy, it is easy to prove that the average velocity change $\\delta v$ is zero, but the standard deviation $\\delta v^2$ is not. In particular one can find out that , being $N$ the number of stars in the system,\n",
    "$$\n",
    "\\begin{equation}\n",
    "    \\frac{ \\Delta v^2 }{v^2} \\approx 8 \\frac{1}{N} log\\frac{N}{2} .\n",
    "\\end{equation}\\tag{6}\n",
    "$$\n",
    "This implies that to produce a substantial change in the velocity the star needs to cross the galaxy a number of times $n_{relax}$ equal to \n",
    "$$\n",
    "\\begin{equation}\n",
    "    n_{relax} \\approx  \\frac{N}{ 8 log \\frac{N}{2} } ;\n",
    "\\end{equation}\\tag{7}\n",
    "$$\n",
    "from here, defining $t_{cross} \\approx \\frac{R}{v}$ as the time required approximately from the star to cross the whole cluster, the concept of relaxation time can be introduced\n",
    "$$\n",
    "\\begin{equation}\n",
    "    t_{relax} = n_{relax} t_{cross} ,\n",
    "\\end{equation}\\tag{8}\n",
    "$$\n",
    "and substituting in this equation the previous expression\n",
    "$$\n",
    "\\begin{equation}\n",
    "    t_{relax} \\approx 0.1 \\frac{N}{log N } t_{cross} .\n",
    "\\end{equation}\\tag{9}\n",
    "$$\n",
    "Overall, these times can be used to distinghish between collisional and collisionless systems. In particular:\n",
    "\n",
    "1) $t_{simulation} \\gtrsim t_{relax}$: _COLLISIONAL SYSTEMS_ \\\n",
    "In this case particle-particle interactions cannot be neglected in order to describe particles' motion: direct force extimate has to be used.\n",
    "2) $t_{simulation} \\ll t_{relax}$: _COLLISIONLESS SYSTEMS_ \\\n",
    "In this case particle-particle interactions do not have an important role, particles' trajectories can be tracked considering a smooth matter distribution: less computationally expensive tecniques are required to estimate the force."
   ]
  },
  {
   "cell_type": "markdown",
   "metadata": {},
   "source": [
    "Which category does the system in question belong to?"
   ]
  },
  {
   "cell_type": "code",
   "execution_count": 1,
   "metadata": {},
   "outputs": [],
   "source": [
    "import numpy as np\n",
    "import pandas as pd\n",
    "from fireworks.particles import Particles"
   ]
  },
  {
   "cell_type": "code",
   "execution_count": 2,
   "metadata": {},
   "outputs": [
    {
     "name": "stdout",
     "output_type": "stream",
     "text": [
      "0.02161794525105976\n"
     ]
    },
    {
     "name": "stderr",
     "output_type": "stream",
     "text": [
      "/tmp/ipykernel_84962/769051311.py:12: RuntimeWarning: invalid value encountered in divide\n",
      "  t_cross = np.nanmin(sys.radius()/sys.vel_mod())         # minimum crossing time; the minimum is used so to have the maximum crossing time and consequently the maximum relaxation time\n"
     ]
    }
   ],
   "source": [
    "df = pd.read_csv(\"data_cvs/Nbody_disc.csv\")         # data of the system\n",
    "N = df.shape[0]                                     # number of objects of our problem\n",
    "\n",
    "# creating a class with the mass, pos, vel of each element of the system\n",
    "masses = df[['mass']]\n",
    "positions = df[['x', 'y', 'z']]\n",
    "velocities = df[['vx', 'vy', 'vz']]\n",
    "masses = masses.values.reshape(-1)                                      # reshape mass array to 1D array (required by pyfalcon)\n",
    "sys = Particles(positions.values, velocities.values, masses)            # using the class particles to define our system and use some useful tools\n",
    "\n",
    "# applying our formulas written above\n",
    "t_cross = np.nanmin(sys.radius()/sys.vel_mod())         # minimum crossing time; the minimum is used so to have the maximum crossing time and consequently the maximum relaxation time\n",
    "t_simulation = 210                                      # given\n",
    "n_relax = 0.1 * N/np.log(N)                             # n_relax\n",
    "t_relax = n_relax * t_cross                             # t_relax for the minimum crossing time\n",
    "\n",
    "# taking the ratio to compare\n",
    "ratio = t_simulation/t_relax\n",
    "\n",
    "print(ratio)\n"
   ]
  },
  {
   "cell_type": "markdown",
   "metadata": {},
   "source": [
    "Therefore, $\\min \\left( \\frac{t_{simulation}}{t_{relax}} \\right) = 0.0216 \\ll 1 \\implies t_{simulation} \\ll t_{relax} \\implies$ COLLISIONLESS SYSTEM. \\\n",
    "Consequently it is possible to reduce the complexity of the simulation treating the system as a fluid moving in phase space and neglecting collisions (and formation of binaries as well)."
   ]
  },
  {
   "cell_type": "markdown",
   "metadata": {},
   "source": [
    "# Force Estimate in Collisionless Simulations Based on Tree Algorithms"
   ]
  },
  {
   "cell_type": "markdown",
   "metadata": {},
   "source": [
    "As moving toward the description of collisionless systems, one of the things that will come in handly are the tree codes, in particular the Barnes & Hut algoritm and the Dehen algoritm. These approaches are based on the approximation of long range forces so to make force estimate easier and faster.  \n",
    "A brief discussion of these two is presented in the following."
   ]
  },
  {
   "cell_type": "markdown",
   "metadata": {},
   "source": [
    "### Barnes & Hut Algorithm"
   ]
  },
  {
   "cell_type": "markdown",
   "metadata": {},
   "source": [
    "This procedure consists in grouping, clustering together distant particles so to create a super-particle. This super-particle is then considered as a single particle and assimilated to its centre of mass: it has $M = \\sum m_i$, $\\vec{r} = \\frac{ \\sum {m_i \\vec{r}_i} } { M } $, $\\vec{v} = \\frac{ \\sum {m_i \\vec{v}_i } } { M } $. In this way it is possible to compute the force of all the particles in the cluster in a single step, greatly speeding up the whole process.  The crucial part of this algorithm is the clustering procedure adopted.  \n",
    "\n",
    "Barnes & Hut (1986) proposed to use an oct-tree: the 3D volume considered in the simulation is recursively divided into cubic cells until each cell hosts one particle at most. In this way only particles from nearby cells need to be treated individually, whereas particles from distant cells can be assimilated with the super-particle described before. In this way the complexity of the problem is reduced from $O(N^2)$ to $O(N logN)$.\\\n",
    "In order to discriminate nearby from far-away particles the concept of opening angle can be introduced. In fact, calling $S_{branch}$ the dimension of the considered tree branch and $D_{i, branch}$ the distance between the particle considered and the centre of mass of the branch, opening angle is defined as\n",
    "$$\n",
    "\\begin{equation}\n",
    "    \\theta = \\frac{ S_{branch} } { D_{i, branch} } .\n",
    "\\end{equation}\\tag{10}\n",
    "$$\n",
    "Two scenarios emerge from here:\n",
    "1) if $\\theta < \\theta_{crit}$: the branch is distant enough, and the force can be calculated;\n",
    "2) if $\\theta > \\theta_{crit}$: the branch is too close, and its sub-branches sould be studied, iterating this reasoning.\n",
    "\n",
    "$\\theta_{crit}$ is arbitraty chosen; a commonly used value is 0.5."
   ]
  },
  {
   "cell_type": "markdown",
   "metadata": {},
   "source": [
    "### Dehen Algorithm"
   ]
  },
  {
   "cell_type": "markdown",
   "metadata": {},
   "source": [
    "Generally, a potential can be written as a  series of successive terms, called multipole expansion. In particular\n",
    "$$\n",
    "\\begin{equation}\n",
    "    \\Phi_B( \\vec{r} ) = \\sum \\Phi( \\vec{r} - \\vec{r_i} ) = \n",
    "    \\frac{ M }{| \\vec{r} | }      +   \n",
    "    \\frac{ D }{| \\vec{r} |^3 }    +  \n",
    "    \\frac{ Q }{| \\vec{r} |^5 }    + ... ,\n",
    "\\end{equation}\\tag{11}\n",
    "$$\n",
    "where the first term indicates the Monopole component, the second term the Dipole component and the third term the Quadrupole component. \\\n",
    "The multiple moments of each cube can be determined iteratively during the construction of the tree. \\\n",
    "Now, while the Barnes & Hut algoritm stops at the monopole whithout considering successive terms, the Dehen algoritm exploits the multipole approximation and other things (for example mutual interaction between branches) to develop a faster and more efficient tree code. \n",
    "\n",
    "This algorithm is used in the Fireworks package, in particular in the `acceleration_pyfalcon` extimate for the acceleration."
   ]
  },
  {
   "cell_type": "markdown",
   "metadata": {},
   "source": [
    "# Short Description of the Fireworks Package and its Implementation"
   ]
  },
  {
   "cell_type": "markdown",
   "metadata": {},
   "source": [
    "### Fireworks"
   ]
  },
  {
   "cell_type": "markdown",
   "metadata": {},
   "source": [
    "Fireworks is the python package used to run the simulations. It is a library that contains tools to initialize and evolve N-body systems, and it can be used to simulate collisionless systems, collisional systems and orbit integration. The basic skeleton of the function is already provided, so to make the implementation straightforward. It also contains some other useful tool as `pyfalcon` and `TSUNAMI`. \\\n",
    "The raw version of Fireworks contains the following submodules: \n",
    "- `particles`: it contains the class `Particles` in which all the information about the particles can be stored (position, velocity, mass), getting some useful tool for the simulations (e.g.radius, velocity module);\n",
    "- `ic`: it contains some function through which initial conditions can be generated. The subpackage contains two functions: `ic_random_normal`, which draws initial contitions from a normal distrubution, and `ic_two_body`, which generates initial conditions for the case of a two-body system;\n",
    "- `Version`: it contains the variable `_version_` in the format MAJOR.MINOR:PATH ;\n",
    "- `Nbodylib`: it contains functions so to estimate the gravitational forces and acceleration. It is in turn subdivided into other four cathegories:\n",
    "    - `dynamics`: it contains functions to estimate accelerations due to gravitational forces. `acceleration_pyfalcon` (discussed above when introducing the Dehen algorithm) is present;\n",
    "    - `integrators`: it contains integrators used to integrate the ODE equations of the motion and evolve the system in time. The `TSUNAMI` integrator is in there;\n",
    "    - `nunits`: it contains the class `Nbody_units`, necessary to transform the data from physical units to nbody units or viceversa;\n",
    "    - `potentials`: it contains functions to estimate the acceleration due to a smooth potential. In this subpackage we can find some classes: `Potential_Base` (used to initialize new potentials), `Multipotential` (can be used to combine different potentials), `Point_Mass`, `MyamotoNagai`, `Plummer`, `Hernquist`, `Jaffe`, `LogHalo`, `TruncatedPLaw`, `NFW`. These are all potential to describe some specific component of the galaxy;\n",
    "    - `timesteps`: it contains functions to estimate the timestep for the N-body integrations. This naturally depends on the current properties of the system. `adaptive_timestep_simple`, which uses the formula $t_s = \\min \\left( \\frac{r}{v} \\right)$ is present."
   ]
  },
  {
   "cell_type": "markdown",
   "metadata": {},
   "source": [
    "### Implementation"
   ]
  },
  {
   "cell_type": "markdown",
   "metadata": {},
   "source": [
    "To run the simulation it was necessary to implement the code. Here a brief summary of this implementation is presented. As done before, the modules are listed one by one, and the main changes are highlighted.\n",
    "- `particles`: a method to compute the potential and the kinetic energy was added;\n",
    "- `ic`: a funcion `ic_random_uniform` was written using the template of the previous ones, to generate initial conditions from a uniform distribution. \n",
    "- `Version`: no implementations for this subpackage;\n",
    "- `Nbodylib`: this is where the most of the work was focused (obviously). Going into details:\n",
    "    - `dynamics`: using the template, three functions were created: `acceleration_direct`, which uses two for cycles, `acceleration vectorized`, which uses vectorial operations (faster), and `acceleration_jerk_direct`, which computes the acceleration with pyfalcon and the jerk with two for cycles;\n",
    "    - `integrators`: the template was used to build the `Euler` integrator, the `Leapfrog` integrator and the `Runge-Kuta` integrator;\n",
    "    - `nunits`: no implementations for this subpackage;\n",
    "    - `potentials`: no implementations for this subpackage;\n",
    "    - `timesteps`: a new function `adaptive_timestep_r` was implemented, which adds a factor $\\eta=0.1$ to the previous formula. This value was chosen  so to have a good balance between resolution and computational time.\n"
   ]
  },
  {
   "cell_type": "markdown",
   "metadata": {},
   "source": []
  },
  {
   "cell_type": "markdown",
   "metadata": {},
   "source": []
  },
  {
   "cell_type": "markdown",
   "metadata": {},
   "source": []
  },
  {
   "cell_type": "markdown",
   "metadata": {},
   "source": [
    "# CORRECTIONS\n"
   ]
  },
  {
   "cell_type": "markdown",
   "metadata": {},
   "source": [
    "# Galaxy alone"
   ]
  },
  {
   "cell_type": "markdown",
   "metadata": {},
   "source": [
    "Here we can see that both the rotation curve and the surface density profile remain stable over the selected timescale, equal to one period. \n",
    "Naturally, if we increase the number of stars the surface density profile of the galaxy would have a more linear decay even at larger radii; anyway we had to work  with $10^3$ particles because otherwise the kernel crushed. \\\n",
    "Naturally, we can follow the same procedure for the other galaxy, obtaining the same results. "
   ]
  },
  {
   "cell_type": "markdown",
   "metadata": {},
   "source": [
    "# Encounter"
   ]
  },
  {
   "cell_type": "markdown",
   "metadata": {},
   "source": [
    "### Evolution of radial and vertical velocity"
   ]
  },
  {
   "cell_type": "markdown",
   "metadata": {},
   "source": [
    "In the following plot we can see the evolution of the radial and vertical components of the velocity, knowing that at the beginning they are zero by construction. \n",
    "\n",
    "<div class='alert alert-block alert-danger'>\n",
    "IL TESTO SUCCESSIVO È STATO INSERITO NEL POSTO SBAGLIATO SECONDO ME; IO A QUESTO PUNTO ANDREI SOTTO\n",
    "</div> \n",
    "\n",
    "From the simulation we can notice that after the encounter:\n",
    "\n",
    "- The radial velocity starts from $v_r = 0$ for both galaxies and ends with a very scattered plot, in which we have $R_{cyl} \\lesssim 5 \\implies v_r \\lesssim 0$, and  $R_{cyl} \\gtrsim 5 \\implies v_r \\gtrsim 0$. This was expected because tidal interactions act mostly on the outer part of the galaxy, where the potential well is weaker: after a certain radius stars of both galaxies are stripped out from the potential well of the central mass. \n",
    "- On the other hand the vertical velocity starts from $v_z = 0$ and ends at $v_z = 0$. This is straightforward because in this simulation we considered a planar encounter confined in the $(x-y)$ plane, and from the conservation of the angular momentum all the motion has to be confined in the same plane. The only difference between the initial and the final situation is the smearing of the velocity at larger radii. This is can be intuitively understood with the considerations done previously: since the outer stars are stripper out, at the end of the simulations they will be located at larger radii, even if keeping a null vertical velocity.\n",
    "\n",
    "We will address the problem of the change of inclination of the two galaxies in the following."
   ]
  },
  {
   "cell_type": "markdown",
   "metadata": {},
   "source": [
    "###"
   ]
  },
  {
   "cell_type": "markdown",
   "metadata": {},
   "source": [
    "# Encounter with different $i$"
   ]
  },
  {
   "cell_type": "markdown",
   "metadata": {},
   "source": [
    "<div class='aler alert-block alert-danger'>\n",
    "WRONG: the rotation is around the y axis!\n",
    "</div>\n",
    "\n",
    "Let us call $(x,y,z)$ the starting reference frame, and $(x',y',z')$ the one in which we want to put ourselves. The second one is obtained through a rotation about the y-axis by an arbitrary angle $\\alpha$. In reality we should account for two angles: the angle that the z axis forms with the disk plane ($i$) and the angle by which the plane is rotated in the $(x-y)$ plane ($\\phi$). Anyway, to make things simpler, we can just use the cylindrical symmetry of our problem and consider $\\phi = 0$. \\\n",
    "Furthermore, in order to go back to astrophysical cases, in which we usually use the inclination $i$, we can just use the fact that $i$ is simply the complementary angle of $\\alpha$: $i = 90 \\degree - \\alpha$. \n",
    "Then, we have \n",
    "$$\n",
    "\\begin{cases}\n",
    "    x' = x cos (\\alpha) = x sin (i) \\\\\n",
    "    y' = y \\\\\n",
    "    z' = x sin (\\alpha) = x cos (i) \n",
    "\n",
    "\\end{cases}\n",
    "$$\n",
    "Putting this in matricial form\n",
    "$$\n",
    "\\begin{pmatrix}\n",
    "\n",
    "     \\cos(\\alpha) & 0 & -\\sin(\\alpha) \\\\\n",
    "    1 & 0 & 0 \\\\\n",
    "     \\sin(\\alpha) &0 & \\cos(\\alpha)\n",
    "\\end{pmatrix}\n",
    "$$\n",
    "So that, being R this matrix, $\\vec{r}' = R \\cdot \\vec{r}$. \\\n",
    "We can now re-define our dataframe so to account for this rotation."
   ]
  },
  {
   "cell_type": "markdown",
   "metadata": {},
   "source": [
    "## Conclusions\n"
   ]
  },
  {
   "cell_type": "markdown",
   "metadata": {},
   "source": [
    "# TOTAL CONCLUSIONS"
   ]
  },
  {
   "cell_type": "markdown",
   "metadata": {},
   "source": [
    "With this project it was possible to have a very simplified overview of how two galaxies mutually interacting evolve with time. After checking the stability of one galaxy alone, its rotation curve and its surface density profile, we created a second galaxy, equal to the second one but translated and with an initial velocity different from zero. Then, we simulated three galactic encounters. The first one was an encounter between two galaxies rotating in the same direction and laying in the same plane; the second was an encounter between two galaxies rotating in opposite directions, and the third one was an encounter between two galaxies rotating in the same direction and laying in different planes. All the simulation was integrated in a time equal to two times the rotation period of the galaxy itself. \\\n",
    "From these simulations we obtained the formation of well defined structures in all the three cases, that we associated with stellar currents. The counter-rotating case highlighted a more complicated structure; in particular, while one galaxies still shows two well defined elongated structures, for the second galaxy structures are not straightforward to recognize. Finally, in the inclined case, beside the formation of clear structures the most noticeable thing was the appearence of a new component for the velocity along z, since the problem passed from being 2D to being 3D. \n",
    "\n",
    "We can finally think of some implementation to this problem that can be done. In particular:\n",
    "- we could think of considering an additional velocity gaussian component due to random motions when generating the initial condition; this should be quite straightforward to implement;\n",
    "- we could think of adding some new components to the galaxies, for example a NFW potential for the DM halo, an Hernquist potential for the bulge and a Miyamoto-Nagai potential for the disk. Anyway, This is a trifle more complicated because we also have to account that the potential is moving with the galaxy, so we need to implement a potential which position is varying in time. Furthermore, I have to insert these potentials both in the initial conditions generator and in the algoritm to compute the acceleration. \n",
    "\n",
    "Overall, we recognize that this is a very simplified model for a galaxy for many reasons, for example that considers the all mass centered in the centre, which is the source of a plummer potential, or that we did not consider any other component (dark matter halo, ulge, bars...) ecc...; anyway, whith all this in mind, the outcomes of the simulations still gives some first idea of how a galactic encounter works. "
   ]
  },
  {
   "cell_type": "markdown",
   "metadata": {},
   "source": []
  }
 ],
 "metadata": {
  "kernelspec": {
   "display_name": "base",
   "language": "python",
   "name": "python3"
  },
  "language_info": {
   "codemirror_mode": {
    "name": "ipython",
    "version": 3
   },
   "file_extension": ".py",
   "mimetype": "text/x-python",
   "name": "python",
   "nbconvert_exporter": "python",
   "pygments_lexer": "ipython3",
   "version": "3.10.12"
  }
 },
 "nbformat": 4,
 "nbformat_minor": 2
}
