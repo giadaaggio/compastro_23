{
 "cells": [
  {
   "cell_type": "code",
   "execution_count": 17,
   "metadata": {},
   "outputs": [],
   "source": [
    "import numpy as np\n",
    "import pandas as pd\n",
    "import matplotlib.pyplot as plt\n",
    "import matplotlib.animation as animation\n",
    "\n",
    "from fireworks.nbodylib.integrators import integrator_leapfrog, integrator_leapfrog_galaxy, integrator_rungekutta, integrator_tsunami\n",
    "from fireworks.nbodylib.dynamics import acceleration_pyfalcon, acceleration_jerk_direct\n",
    "from fireworks.nbodylib.timesteps import adaptive_timestep_r\n",
    "from fireworks.particles import Particles\n",
    "from typing import Optional, Tuple, Callable, Union\n",
    "import time\n",
    "\n",
    "#from mpl_toolkits.mplot3d import Axes3D\n",
    "\n",
    "%matplotlib widget"
   ]
  },
  {
   "cell_type": "markdown",
   "metadata": {},
   "source": [
    "# N-Body"
   ]
  },
  {
   "cell_type": "markdown",
   "metadata": {},
   "source": [
    "### N-body problem"
   ]
  },
  {
   "cell_type": "markdown",
   "metadata": {},
   "source": [
    "The N-body problem is the problem concerning the prediction of the motion of a group of objects interacting gravitationally with eachother. This conudrum [problem] is of paramount importance in astrophysics because is applied to a huge plethora of astrophysical situations and scales (Solar system, satellites, binary evolution, stars in a cluster or in a galaxy...). \\\n",
    "It dates back to the XVII century when Isaac Newton came up with the intuition that two bodies with mass $m_1$ and $m_2$ at a distance $r_{12}$ from eachother are subjected to a mutual force\n",
    "\\begin{equation}\n",
    "    \\vec{F}_{1,2} = m_1 \\vec{a}_1 = - G \\frac{m_1 m_2}{r_{12}^2} \\frac{ \\vec{r}_{12} }{ r_{12} } \n",
    "\\end{equation}\n",
    "Then, extending this to a system of N-body, the acceleration of the body $i$ due to all the other bodies is expressed by \n",
    "\\begin{equation}\n",
    "    \\frac{ d^2 \\vec{x}_i } {dt^2} = - G \\sum^N_{j=1, j\\neq i} m_j \\frac{ \\vec{x}_i - \\vec{x}_j }{ | \\vec{x}_i - \\vec{x}_j |^3  }\n",
    "\\end{equation}\n",
    "\n",
    "It exists an analitic solution for $N=2$ (Bernoulli was the first to derive it in 1710). The complete solution for a generic number of bodies had not been found yet (in 1991 Qiudong Wang found a convergent power series solution for a generic number of bodies, but is too difficult to implement and has a slow convergence). Therefore, we use numerical methods in order to integrate this system of differential equation. \n",
    "\n",
    "Another important thing to point out is the numeical complexity of this problem, which is nothing but the number of calculations (numerical iterations) needed to perform the task. In the case examined the time complecity is $O(N^2)$: it grows fastly as N increases, and this represent a big problem do tackle when constructing a model for the system. "
   ]
  },
  {
   "cell_type": "markdown",
   "metadata": {},
   "source": [
    "### N-Body units\n"
   ]
  },
  {
   "cell_type": "markdown",
   "metadata": {},
   "source": [
    "N-body units are a very powerful and useful method when dealing with the N-body problem. They represent a convenient set of units for N-body simulations, based on the assumption that $G = 1$. \\\n",
    "The conversion to physical values can be done a-posteriori, inserving eventually some typical values of the astrophysical system of interest. \\\n",
    "It must be kept in mind that this treatment fails when adding to the simulation data about stars' proper mass and radius, or stellar evolution, or SN explosion, or when setting additional fields in order to reproduce a certan galactic physical configuration; nevertheless, in our code we treat particles as abstract point mass stars, and therefore the scale invariance of our N-body simulation can be exploited.\n",
    "\n",
    "In order to convert N-body units into physical units we have to define a scale lenght $L_{scale}$ and a scale mass $M_{scale}$. Then I have:\n",
    "\\begin{equation}\n",
    "    T_{scale} = \\sqrt{  \\frac{L_{scale}^3}{G M_{scale}}   }   ,\n",
    "\\end{equation}\n",
    "\n",
    "\\begin{equation}\n",
    "    V_{scale} = \\frac{L_{scale}}{T_{scale}} = \\sqrt{  \\frac{G M_{scale}}{L_{scale}}   } \n",
    "\\end{equation}\n",
    "And from here we can ecover the physical units\n",
    "\n",
    "\\begin{equation}\n",
    "    L_{phys}= L_{Nbody} L_{scale}\n",
    "\\end{equation}\n",
    "\n",
    "\\begin{equation}\n",
    "    M_{phys}= M_{Nbody} M_{scale}\n",
    "\\end{equation}\n",
    "\n",
    "\\begin{equation}\n",
    "    T_{phys}= T_{Nbody} T_{scale}\n",
    "\\end{equation}\n",
    "\n",
    "\\begin{equation}\n",
    "    V_{phys}= V_{Nbody} V_{scale}\n",
    "\\end{equation}\n",
    "\n",
    "\n",
    "Anyway, we can easily recover physical units with the Fireworks package."
   ]
  },
  {
   "cell_type": "markdown",
   "metadata": {},
   "source": [
    "# Collisional vs Collisionless Simulations"
   ]
  },
  {
   "cell_type": "markdown",
   "metadata": {},
   "source": [
    "The importance of close particle-particle interactions allow us to distinguish between Collisional and Collisionless systems. In particular we start analyzing if and how much gravitational encounters between stars are able to change the kinematic status of themselves. \\\n",
    "To tackle this problem we consider a test star with velocity $v$ which crosses the potential well of another star a rest. Both the stars have the same mass $m$, and the mutual distance is $b$. After some calculation, the velocity change of the incoming star is $\\delta v = \\frac{2 G m}{b v}$. If we consider all the stars in the galaxy we can easily see that the average change $\\delta v$ is zero, but the standard deviation is not. In particular one can find out that \n",
    "\\begin{equation}\n",
    "    \\frac{ \\Delta v^2 }{v^2} \\approx 8 \\frac{1}{N} log\\frac{N}{2}\n",
    "\\end{equation}\n",
    "This implies that to produce a substantial change in the velocity the star needs to cross the galaxy a number of times $n_{relax}$ equal to \n",
    "\\begin{equation}\n",
    "    n_{relax} \\approx  \\frac{N}{ 8 log \\frac{N}{2} } \n",
    "\\end{equation}\n",
    "From here, defining $t_{cross} \\approx \\frac{R}{v}$ as the time required approximately from the star to cross the whole cluster, we can define the relaxation time scale as \n",
    "\\begin{equation}\n",
    "    t_{relax} = n_{relax} t_{cross}\n",
    "\\end{equation}\n",
    "Substituting in this equation the previous expressions I finally get \n",
    "\\begin{equation}\n",
    "    t_{relax} \\approx 0.1 \\frac{N}{log N } t_{cross}\n",
    "\\end{equation}\n",
    "Overall, we can use this time to distinghish between collisional and collisionless systems. In particular:\n",
    "\n",
    "1) $t_{simulation} \\gtrsim t_{relax}$: COLLISIONAL SYSTEMS \\\n",
    "In this case particle-particle interactions cannot be neglected if we want to describe particles' motion: we have to go through a direct force extimate.\n",
    "2) $t_{simulation} \\ll t_{relax}$: COLLISIONLESS SYSTEMS \\\n",
    "In this case particle-particle interactions do not have an important role, and we can track particles' trajectories considering a smooth matter distribution: we can use less computationally expensive tecniques to estimate the force."
   ]
  },
  {
   "cell_type": "markdown",
   "metadata": {},
   "source": [
    "Let us now see in which category our system falls. "
   ]
  },
  {
   "cell_type": "code",
   "execution_count": 16,
   "metadata": {},
   "outputs": [
    {
     "name": "stdout",
     "output_type": "stream",
     "text": [
      "0.2417692270710541\n"
     ]
    },
    {
     "name": "stderr",
     "output_type": "stream",
     "text": [
      "/tmp/ipykernel_45994/1889176282.py:12: RuntimeWarning: invalid value encountered in divide\n",
      "  t_cross = np.max(sys.radius()/sys.vel_mod())        # maximum crossing time\n"
     ]
    }
   ],
   "source": [
    "df = pd.read_csv(\"data_cvs/Nbody_disc.csv\")         # data of the system\n",
    "N = df.shape[0]                                     # number of objects of our problem\n",
    "\n",
    "# creating a class with the mass, pos, vel of each element of the system\n",
    "masses = df[['mass']]\n",
    "positions = df[['x', 'y', 'z']]\n",
    "velocities = df[['vx', 'vy', 'vz']]\n",
    "masses = masses.values.reshape(-1)                                      # reshape mass array to 1D array (required by pyfalcon)\n",
    "sys = Particles(positions.values, velocities.values, masses)            # using the class particles to define our system and use some useful tools\n",
    "\n",
    "# applying our formulas written above\n",
    "t_cross = np.max(sys.radius()/sys.vel_mod())        # maximum crossing time\n",
    "t_simulation = 210                                  # given\n",
    "t_relax = 0.1 * N/np.log(N)\n",
    "\n",
    "# taking the ratio to compare\n",
    "ratio = t_simulation/t_relax\n",
    "print(ratio)"
   ]
  },
  {
   "cell_type": "markdown",
   "metadata": {},
   "source": [
    "Therefore, we have $\\frac{t_{simulation}}{t_{relax}} = 0.2418 \\ll 1 \\implies t_{simulation} \\ll t_{relax} \\implies$ COLLISIONLESS SYSTEM. \\\n",
    "Consequently it is possivle to reduce the complexity of the simulation treating the system as a fluid moving in phase space and neglecting collision (and formation of binaries as well)."
   ]
  },
  {
   "cell_type": "markdown",
   "metadata": {},
   "source": [
    "# Force Estimate in Collisionless Simulations Based on Tree Algorithms"
   ]
  },
  {
   "cell_type": "markdown",
   "metadata": {},
   "source": [
    "# Short Description of the Fireworks Package and its Implementation."
   ]
  },
  {
   "cell_type": "markdown",
   "metadata": {},
   "source": []
  }
 ],
 "metadata": {
  "kernelspec": {
   "display_name": "base",
   "language": "python",
   "name": "python3"
  },
  "language_info": {
   "codemirror_mode": {
    "name": "ipython",
    "version": 3
   },
   "file_extension": ".py",
   "mimetype": "text/x-python",
   "name": "python",
   "nbconvert_exporter": "python",
   "pygments_lexer": "ipython3",
   "version": "3.10.12"
  }
 },
 "nbformat": 4,
 "nbformat_minor": 2
}
