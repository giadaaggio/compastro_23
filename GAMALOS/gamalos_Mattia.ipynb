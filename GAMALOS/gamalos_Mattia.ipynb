{
 "cells": [
  {
   "cell_type": "markdown",
   "metadata": {},
   "source": [
    "# N-Body"
   ]
  },
  {
   "cell_type": "markdown",
   "metadata": {},
   "source": [
    "### N-body problem"
   ]
  },
  {
   "cell_type": "markdown",
   "metadata": {},
   "source": []
  },
  {
   "cell_type": "markdown",
   "metadata": {},
   "source": [
    "### N-Body units\n"
   ]
  },
  {
   "cell_type": "markdown",
   "metadata": {},
   "source": [
    "N-body units are a very powerful and useful method when dealing with the N-body problem. They represent a convenient set of units for N-body simulations, based on the assumption that $G = 1$. \\\n",
    "The conversion to physical values can be done a-posteriori, inserving eventually some typical values of the astrophysical system of interest. \\\n",
    "It must be kept in mind that this treatment fails when adding to the simulation data about stars' proper mass and radius, or stellar evolution, or SN explosion, or when setting additional fields in order to reproduce a certan galactic physical configuration; nevertheless, in our code we treat particles as abstract point mass stars, and therefore the scale invariance of our N-body simulation can be exploited.\n",
    "\n",
    "In order to convert N-body units into physical units we have to define a scale lenght $L_{scale}$ and a scale mass $M_{scale}$. Then I have:\n",
    "\\begin{equation}\n",
    "    T_{scale} = \\sqrt{  \\frac{L_{scale}^3}{G M_{scale}}   }   ,\n",
    "\\end{equation}\n",
    "\n",
    "\\begin{equation}\n",
    "    V_{scale} = \\frac{L_{scale}}{T_{scale}} = \\sqrt{  \\frac{G M_{scale}}{L_{scale}}   } \n",
    "\\end{equation}\n",
    "And from here we can ecover the physical units\n",
    "\n",
    "\\begin{equation}\n",
    "    L_{phys}= L_{Nbody} L_{scale}\n",
    "\\end{equation}\n",
    "\n",
    "\\begin{equation}\n",
    "    M_{phys}= M_{Nbody} M_{scale}\n",
    "\\end{equation}\n",
    "\n",
    "\\begin{equation}\n",
    "    T_{phys}= T_{Nbody} T_{scale}\n",
    "\\end{equation}\n",
    "\n",
    "\\begin{equation}\n",
    "    V_{phys}= V_{Nbody} V_{scale}\n",
    "\\end{equation}\n",
    "\n",
    "\n",
    "Anyway, we can easily recover physical units with the Fireworks package."
   ]
  },
  {
   "cell_type": "markdown",
   "metadata": {},
   "source": [
    "# Collisional vs Collisionless Simulations"
   ]
  },
  {
   "cell_type": "markdown",
   "metadata": {},
   "source": [
    "# Force Estimate in Collisionless Simulations Based on Tree Algorithms"
   ]
  },
  {
   "cell_type": "markdown",
   "metadata": {},
   "source": [
    "# Short Description of the Fireworks Package and its Implementation."
   ]
  },
  {
   "cell_type": "markdown",
   "metadata": {},
   "source": []
  }
 ],
 "metadata": {
  "language_info": {
   "name": "python"
  }
 },
 "nbformat": 4,
 "nbformat_minor": 2
}
