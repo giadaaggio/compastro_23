{
 "cells": [
  {
   "cell_type": "code",
   "execution_count": 2,
   "metadata": {},
   "outputs": [],
   "source": [
    "import numpy as np\n",
    "import pandas as pd\n",
    "import matplotlib.pyplot as plt\n",
    "import matplotlib.animation as animation\n",
    "\n",
    "from fireworks.nbodylib.integrators import integrator_leapfrog, integrator_leapfrog_galaxy, integrator_rungekutta, integrator_tsunami\n",
    "from fireworks.nbodylib.dynamics import acceleration_pyfalcon, acceleration_jerk_direct\n",
    "from fireworks.nbodylib.timesteps import adaptive_timestep_r\n",
    "from fireworks.particles import Particles\n",
    "from typing import Optional, Tuple, Callable, Union\n",
    "import time\n",
    "\n",
    "#from mpl_toolkits.mplot3d import Axes3D\n",
    "\n",
    "%matplotlib widget"
   ]
  },
  {
   "cell_type": "markdown",
   "metadata": {},
   "source": [
    "# N-Body"
   ]
  },
  {
   "cell_type": "markdown",
   "metadata": {},
   "source": [
    "### N-body problem"
   ]
  },
  {
   "cell_type": "markdown",
   "metadata": {},
   "source": [
    "The N-body problem is the problem concerning the prediction of the motion of a group of objects interacting gravitationally with eachother. This conudrum [problem] is of paramount importance in astrophysics because is applied to a huge plethora of astrophysical situations and scales (Solar system, satellites, binary evolution, stars in a cluster or in a galaxy...). \\\n",
    "It dates back to the XVII century when Isaac Newton came up with the intuition that two bodies with mass $m_1$ and $m_2$ at a distance $r_{12}$ from eachother are subjected to a mutual force\n",
    "$$\n",
    "\\begin{equation}\n",
    "    \\vec{F}_{1,2} = m_1 \\vec{a}_1 = - G \\frac{m_1 m_2}{r_{12}^2} \\frac{ \\vec{r}_{12} }{ r_{12} } \n",
    "\\end{equation}\\tag{1}\n",
    "$$\n",
    "Then, extending this to a system of N-body, the acceleration of the body $i$ due to all the other bodies is expressed by \n",
    "$$\n",
    "\\begin{equation}\n",
    "    \\frac{ d^2 \\vec{x}_i } {dt^2} = - G \\sum^N_{j=1, j\\neq i} m_j \\frac{ \\vec{x}_i - \\vec{x}_j }{ | \\vec{x}_i - \\vec{x}_j |^3  }\n",
    "\\end{equation}\\tag{2}\n",
    "$$\n",
    "\n",
    "It can be demonstrated that each N-body system has:\n",
    "- 6 costants of motion (the position and the velocity of the centre of mass);\n",
    "- 4 integrals of motion (the energy and the three components of the angular momentum).\n",
    "\n",
    "It exists an analitic solution for $N=2$ (Bernoulli was the first to derive it in 1710). The complete solution for a generic number of bodies had not been found yet (in 1991 Qiudong Wang found a convergent power series solution for a generic number of bodies, but is too difficult to implement and has a slow convergence). In fact, by simply adding a third particle the unknowns become 18, and the constants/integrals of motion are not enough to reduce the complexity of the problem. We have then to add constraints in order to achieve an analitic solution, and this analitic solution is known only for a small amount of cases (e.g. circular restricted three body problem). Therefore, we use numerical methods in order to integrate this system of differential equation. \n",
    "\n",
    "Another important thing to point out is the numeical complexity of this problem, which is nothing but the number of calculations (numerical iterations) needed to perform the task. In the case examined the time complecity is $O(N^2)$: it grows fastly as N increases, and this represent a big problem do tackle when constructing a model for the system. "
   ]
  },
  {
   "cell_type": "markdown",
   "metadata": {},
   "source": [
    "### N-body units"
   ]
  },
  {
   "cell_type": "markdown",
   "metadata": {},
   "source": [
    "N-body units are a very powerful and useful method when dealing with the N-body problem. They represent a convenient set of units for N-body simulations, based on the assumption that $G = 1$. \\\n",
    "The conversion to physical values can be done a-posteriori, inserving eventually some typical values of the astrophysical system of interest. \\\n",
    "It must be kept in mind that this treatment fails when adding to the simulation data about stars' proper mass and radius, or stellar evolution, or SN explosion, or when setting additional fields in order to reproduce a certan galactic physical configuration; nevertheless, in our code we treat particles as abstract point mass stars, and therefore the scale invariance of our N-body simulation can be exploited.\n",
    "\n",
    "In order to convert N-body units into physical units we have to define a scale lenght $L_{scale}$ and a scale mass $M_{scale}$. Then I have:\n",
    "$$\n",
    "\\begin{equation}\n",
    "    T_{scale} = \\sqrt{  \\frac{L_{scale}^3}{G M_{scale}}   }   ,\n",
    "\\end{equation}\\tag{3}\n",
    "$$\n",
    "$$\n",
    "\\begin{equation}\n",
    "    V_{scale} = \\frac{L_{scale}}{T_{scale}} = \\sqrt{  \\frac{G M_{scale}}{L_{scale}}   } \n",
    "\\end{equation}\\tag{4}\n",
    "$$\n",
    "And from here we can ecover the physical units\n",
    "$$\n",
    "\\begin{gather}\n",
    "    L_{phys}= L_{Nbody} L_{scale} \\\\\n",
    "\n",
    "    M_{phys}= M_{Nbody} M_{scale} \\\\\n",
    "\n",
    "    T_{phys}= T_{Nbody} T_{scale} \\\\\n",
    "\n",
    "    V_{phys}= V_{Nbody} V_{scale}\n",
    "\\end{gather}\\tag{5}\n",
    "$$\n",
    "\n",
    "\n",
    "Anyway, we can easily recover physical units with the Fireworks package."
   ]
  },
  {
   "cell_type": "markdown",
   "metadata": {},
   "source": [
    "# Collisional vs Collisionless Simulations"
   ]
  },
  {
   "cell_type": "markdown",
   "metadata": {},
   "source": [
    "The importance of close particle-particle interactions allow us to distinguish between Collisional and Collisionless systems. In particular we start analyzing if and how much gravitational encounters between stars are able to change the kinematic status of themselves. \\\n",
    "To tackle this problem we consider a test star with velocity $v$ which crosses the potential well of another star a rest. Both the stars have the same mass $m$, and the mutual distance is $b$. After some calculation, the velocity change of the incoming star is $\\delta v = \\frac{2 G m}{b v}$. If we consider all the stars in the galaxy we can easily see that the average change $\\delta v$ is zero, but the standard deviation is not. In particular one can find out that \n",
    "$$\n",
    "\\begin{equation}\n",
    "    \\frac{ \\Delta v^2 }{v^2} \\approx 8 \\frac{1}{N} log\\frac{N}{2}\n",
    "\\end{equation}\\tag{6}\n",
    "$$\n",
    "This implies that to produce a substantial change in the velocity the star needs to cross the galaxy a number of times $n_{relax}$ equal to \n",
    "$$\n",
    "\\begin{equation}\n",
    "    n_{relax} \\approx  \\frac{N}{ 8 log \\frac{N}{2} } \n",
    "\\end{equation}\\tag{7}\n",
    "$$\n",
    "From here, defining $t_{cross} \\approx \\frac{R}{v}$ as the time required approximately from the star to cross the whole cluster, we can define the relaxation time scale as \n",
    "$$\n",
    "\\begin{equation}\n",
    "    t_{relax} = n_{relax} t_{cross}\n",
    "\\end{equation}\\tag{8}\n",
    "$$\n",
    "Substituting in this equation the previous expressions I finally get \n",
    "$$\n",
    "\\begin{equation}\n",
    "    t_{relax} \\approx 0.1 \\frac{N}{log N } t_{cross}\n",
    "\\end{equation}\\tag{9}\n",
    "$$\n",
    "Overall, we can use this time to distinghish between collisional and collisionless systems. In particular:\n",
    "\n",
    "1) $t_{simulation} \\gtrsim t_{relax}$: COLLISIONAL SYSTEMS \\\n",
    "In this case particle-particle interactions cannot be neglected if we want to describe particles' motion: we have to go through a direct force extimate.\n",
    "2) $t_{simulation} \\ll t_{relax}$: COLLISIONLESS SYSTEMS \\\n",
    "In this case particle-particle interactions do not have an important role, and we can track particles' trajectories considering a smooth matter distribution: we can use less computationally expensive tecniques to estimate the force."
   ]
  },
  {
   "cell_type": "markdown",
   "metadata": {},
   "source": [
    "Let us now see in which category our system falls. "
   ]
  },
  {
   "cell_type": "code",
   "execution_count": 3,
   "metadata": {},
   "outputs": [
    {
     "name": "stdout",
     "output_type": "stream",
     "text": [
      "0.2417692270710541\n"
     ]
    },
    {
     "name": "stderr",
     "output_type": "stream",
     "text": [
      "/tmp/ipykernel_84042/1889176282.py:12: RuntimeWarning: invalid value encountered in divide\n",
      "  t_cross = np.max(sys.radius()/sys.vel_mod())        # maximum crossing time\n"
     ]
    }
   ],
   "source": [
    "df = pd.read_csv(\"data_cvs/Nbody_disc.csv\")         # data of the system\n",
    "N = df.shape[0]                                     # number of objects of our problem\n",
    "\n",
    "# creating a class with the mass, pos, vel of each element of the system\n",
    "masses = df[['mass']]\n",
    "positions = df[['x', 'y', 'z']]\n",
    "velocities = df[['vx', 'vy', 'vz']]\n",
    "masses = masses.values.reshape(-1)                                      # reshape mass array to 1D array (required by pyfalcon)\n",
    "sys = Particles(positions.values, velocities.values, masses)            # using the class particles to define our system and use some useful tools\n",
    "\n",
    "# applying our formulas written above\n",
    "t_cross = np.max(sys.radius()/sys.vel_mod())        # maximum crossing time\n",
    "t_simulation = 210                                  # given\n",
    "t_relax = 0.1 * N/np.log(N)\n",
    "\n",
    "# taking the ratio to compare\n",
    "ratio = t_simulation/t_relax\n",
    "print(ratio)"
   ]
  },
  {
   "cell_type": "markdown",
   "metadata": {},
   "source": [
    "Therefore, we have $\\frac{t_{simulation}}{t_{relax}} = 0.2418 \\ll 1 \\implies t_{simulation} \\ll t_{relax} \\implies$ COLLISIONLESS SYSTEM. \\\n",
    "Consequently it is possivle to reduce the complexity of the simulation treating the system as a fluid moving in phase space and neglecting collision (and formation of binaries as well)."
   ]
  },
  {
   "cell_type": "markdown",
   "metadata": {},
   "source": [
    "# Force Estimate in Collisionless Simulations Based on Tree Algorithms"
   ]
  },
  {
   "cell_type": "markdown",
   "metadata": {},
   "source": [
    "When going toward the description of collisionless systems one thing that comes in our aid are the tree codes, in particular the Barnes & Hut algoritm and the Dehen algoritm. These approaches are based on the approximation of long range forces so to make force estimate easier and faster. We are going to brieafly discuss the two in the following."
   ]
  },
  {
   "cell_type": "markdown",
   "metadata": {},
   "source": [
    "### Barnes & Hut Algorithm"
   ]
  },
  {
   "cell_type": "markdown",
   "metadata": {},
   "source": [
    "This procedure consists in grouping, clustering together distant particles so to create a super-particle and compute their force in a ingle step. This super-particle is then considered as a single particle and assimilated to its centre of mass: it has $M = \\sum m_i$, $\\vec{r} = \\frac{ \\sum {m_i \\vec{r}_i} } { M } $, $\\vec{v} = \\frac{ \\sum {m_i \\vec{v}_i } } { M } $. \\\n",
    "The crucial part of this process is the clustering procedure adopted. We are going to discuss the one proposed by Barnes & Hut (1986). They proposed to use oct-tree: the 3D volume conidered in the simulation is recursively divided into cubic cells until each cell hosts one particle at most. In this way only particles from nearby cells need to be treated individually, whereas particles from distant cells can be assimilated with the super-particle described before. In this way the complexity of the problem is reduced from $O(N^2)$ to $O(N logN)$. In order to discriminate nearby from far-away particles we can introduce the concept of opening angle. In fact, calling $S_{branch}$ the dimension of the considered tree branch and $D_{i, branch}$ the distance between the particle considered and the centre of mass of the branch, we can define the opening angle as\n",
    "$$\n",
    "\\begin{equation}\n",
    "    \\theta = \\frac{ S_{branch} } { D_{i, branch} }\n",
    "\\end{equation}\\tag{10}\n",
    "$$\n",
    "Two scenarios emerge from here:\n",
    "1) if $\\theta < \\theta_{crit}$: the branch is distant enough, and we can to calculate the force;\n",
    "2) if $\\theta > \\theta_{crit}$: the branch is too close, and we have to study its sub-branches and iterate this reasoning.\n",
    "\n",
    "$\\theta_{crit}$ is arbitraty chosen; a commonly used value is 0.5."
   ]
  },
  {
   "cell_type": "markdown",
   "metadata": {},
   "source": [
    "### Dehen Algorithm"
   ]
  },
  {
   "cell_type": "markdown",
   "metadata": {},
   "source": [
    "Generally, a potential can be written as a  series of successive terms, called multipole expansion. In particular, we have\n",
    "$$\n",
    "\\begin{equation}\n",
    "    \\Phi_B( \\vec{r} ) = \\sum \\Phi( \\vec{r} - \\vec{r_i} ) = \\frac{ M }{| \\vec{r} | }   +   \\frac{ D }{| \\vec{r} |^3 }  +  \\frac{ Q }{| \\vec{r} |^5 } + ...\n",
    "\\end{equation}\\tag{11}\n",
    "$$\n",
    "The multiple moments of each cube can be determined iteratively during the contruction of the tree. \\\n",
    "Now, while the Barnes & Hut algoritm stopped at the monopole whithout considering successive terms, the Dehen algoritm exploited the multipole approximation and other things (for example mutual interaction between branches) to develop a faster and more efficient tree code. \n",
    "\n",
    "This algorithm is used in the Fireworks package, in particular in the pyfalcon extimate for the acceleration."
   ]
  },
  {
   "cell_type": "markdown",
   "metadata": {},
   "source": [
    "# Short Description of the Fireworks Package and its Implementation"
   ]
  },
  {
   "cell_type": "markdown",
   "metadata": {},
   "source": [
    "Fireworks is the python package that we used to run our simulations. It is a library that contains tools to initialize and evolve N-body systems, and it can be used to simulate collisionless systems, collisional systems and orbit integration. The basic skeleton of the function is already provided, so to make the implementation straightforward. It also contains some other useful tool as pyfalcon and TSUNAMI. \\\n",
    "the raw version of Fireworks contains the following submodules: \n",
    "- particles\n",
    "- ic\n",
    "- Version\n",
    "- Nbodylib \n",
    "    - dynamics\n",
    "    - nunits\n",
    "    - potentials\n",
    "    - timesteps"
   ]
  },
  {
   "cell_type": "markdown",
   "metadata": {},
   "source": []
  }
 ],
 "metadata": {
  "kernelspec": {
   "display_name": "base",
   "language": "python",
   "name": "python3"
  },
  "language_info": {
   "codemirror_mode": {
    "name": "ipython",
    "version": 3
   },
   "file_extension": ".py",
   "mimetype": "text/x-python",
   "name": "python",
   "nbconvert_exporter": "python",
   "pygments_lexer": "ipython3",
   "version": "3.10.12"
  }
 },
 "nbformat": 4,
 "nbformat_minor": 2
}
