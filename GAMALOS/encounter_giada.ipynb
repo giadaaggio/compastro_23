{
 "cells": [
  {
   "cell_type": "code",
   "execution_count": null,
   "metadata": {},
   "outputs": [],
   "source": [
    "def integration_leapfrog_encounter(galaxy1: Particles, galaxy2: Particles, h: float, tsimulation: float, t: float, soft: float):\n",
    "    path1 = [galaxy1.pos]\n",
    "    path2 = [galaxy2.pos]\n",
    "    velocity1 = [galaxy1.vel]\n",
    "    velocity2 = [galaxy2.vel]\n",
    "    time = [t]\n",
    "    timestep = [h]\n",
    "    \n",
    "    Etot_leapfrog = []\n",
    "    Ekin_leapfrog = []\n",
    "    Epot_leapfrog = []\n",
    "\n",
    "    while t < tsimulation:\n",
    "        result1, result2 = integrator_leapfrog_galaxy_encounter(particles1=galaxy1, particles2=galaxy2, tstep=h, acceleration_estimator=acceleration_pyfalcon, softening=soft)\n",
    "        updated_galaxy1, _, _, _ = result1\n",
    "        updated_galaxy2, _, _, _ = result2\n",
    "        updated_galaxy2.pos -= updated_galaxy2.pos[0]\n",
    "        updated_galaxy2.vel -= updated_galaxy2.vel[0]\n",
    "        path1.append(updated_galaxy1.pos)\n",
    "        path2.append(updated_galaxy2.pos)\n",
    "        velocity1.append(updated_galaxy1.vel)\n",
    "        velocity2.append(updated_galaxy2.vel)\n",
    "            \n",
    "        Etot_n1, Ekin_n1, Epot_n1 = updated_galaxy1.Etot_vett()\n",
    "        Etot_n2, Ekin_n2, Epot_n2 = updated_galaxy2.Etot_vett()\n",
    "        Etot_leapfrog.append(Etot_n1 + Etot_n2)\n",
    "        Ekin_leapfrog.append(Ekin_n1 + Ekin_n2)\n",
    "        Epot_leapfrog.append(Epot_n1 + Epot_n2)\n",
    "        \n",
    "        timestep.append(h)\n",
    "        t += h\n",
    "        time.append(t)\n",
    "\n",
    "    path1 = np.array(path1)\n",
    "    path2 = np.array(path2)\n",
    "    velocity1 = np.array(velocity1)\n",
    "    velocity2 = np.array(velocity2)\n",
    "    time   = np.array(time)\n",
    "    timestep  = np.array(timestep)\n",
    "\n",
    "    Etot_leapfrog = np.array(Etot_leapfrog)\n",
    "    Ekin_leapfrog = np.array(Ekin_leapfrog)\n",
    "    Epot_leapfrog = np.array(Epot_leapfrog)\n",
    "\n",
    "    return path1, path2, velocity1, velocity2 #, time, timestep, Etot_leapfrog, Ekin_leapfrog, Epot_leapfrog"
   ]
  },
  {
   "cell_type": "code",
   "execution_count": null,
   "metadata": {},
   "outputs": [],
   "source": [
    "\n",
    "def plot_galaxies(galaxy1_orbit, galaxy2_orbit):\n",
    "    plt.figure()\n",
    "\n",
    "    # Plot the positions of the particles in each galaxy\n",
    "    plt.scatter(galaxy1_orbit[:, :, 0], galaxy1_orbit[:, :, 1], s=5, label='Galaxy 1', alpha=0.2)\n",
    "    plt.scatter(galaxy2_orbit[:, :, 0], galaxy2_orbit[:, :, 1], s=1, label='Galaxy 2', alpha=0.2)\n",
    "\n",
    "    plt.xlabel('x')\n",
    "    plt.ylabel('y')\n",
    "    plt.title('Galaxy Encounter')\n",
    "    plt.legend()\n",
    "    plt.show()\n"
   ]
  },
  {
   "cell_type": "code",
   "execution_count": null,
   "metadata": {},
   "outputs": [],
   "source": [
    "# Run the encounter simulation\n",
    "galaxy1 = Galaxy1.copy()\n",
    "galaxy2 = Galaxy2.copy()\n",
    "\n",
    "softening = 5\n",
    "t0 = 0.                         # initial time\n",
    "tsimulation = 210               # time of simulation (one period)\n",
    "N = int(1e2)                    # number of steps\n",
    "h = (tsimulation - t0)/N        # time steps\n",
    "\n",
    "galaxy1_orbit, galaxy2_orbit, galaxy1_vel, galaxy2_vel = integration_leapfrog_encounter(galaxy1, galaxy2, h, tsimulation, t0, softening)\n",
    "\n",
    "# Plot the final positions\n",
    "plot_galaxies(galaxy1_orbit, galaxy2_orbit)"
   ]
  }
 ],
 "metadata": {
  "language_info": {
   "name": "python"
  }
 },
 "nbformat": 4,
 "nbformat_minor": 2
}
