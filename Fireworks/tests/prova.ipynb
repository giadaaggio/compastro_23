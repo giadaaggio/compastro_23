{
 "cells": [
  {
   "cell_type": "markdown",
   "metadata": {},
   "source": [
    "LET'S TRY"
   ]
  },
  {
   "cell_type": "code",
   "execution_count": 29,
   "metadata": {},
   "outputs": [],
   "source": [
    "import numpy as np\n",
    "import matplotlib.pyplot as plt\n",
    "import fireworks.ic as fic\n",
    "import pytest\n",
    "from numpy.random import seed"
   ]
  },
  {
   "cell_type": "code",
   "execution_count": 60,
   "metadata": {},
   "outputs": [
    {
     "name": "stdout",
     "output_type": "stream",
     "text": [
      "pos= [[ 0.49671415 -0.1382643   0.64768854]\n",
      " [ 1.52302986 -0.23415337 -0.23413696]\n",
      " [ 1.57921282  0.76743473 -0.46947439]\n",
      " [ 0.54256004 -0.46341769 -0.46572975]]\n",
      "vel= [[ 0.24196227 -1.91328024 -1.72491783]\n",
      " [-0.56228753 -1.01283112  0.31424733]\n",
      " [-0.90802408 -1.4123037   1.46564877]\n",
      " [-0.2257763   0.0675282  -1.42474819]]\n",
      "mass= [1. 1. 1. 1.]\n"
     ]
    }
   ],
   "source": [
    "seed(42)\n",
    "N    = 4\n",
    "mass = 1\n",
    "pos  = np.random.normal(size=3*N).reshape(N,3) # Generate 3xN 1D array and then reshape as a Nx3 array\n",
    "vel  = np.random.normal(size=3*N).reshape(N,3) # Generate 3xN 1D array and then reshape as a Nx3 array\n",
    "mass = np.ones(N)*mass\n",
    "\n",
    "print ('pos=', pos)\n",
    "print('vel=', vel)\n",
    "print('mass=', mass)\n"
   ]
  },
  {
   "cell_type": "code",
   "execution_count": 86,
   "metadata": {},
   "outputs": [
    {
     "name": "stdout",
     "output_type": "stream",
     "text": [
      "(4,)\n",
      "[0.49671415 1.52302986 1.57921282 0.54256004]\n",
      "(4, 1)\n",
      "[[0.49671415]\n",
      " [1.52302986]\n",
      " [1.57921282]\n",
      " [0.54256004]]\n",
      "[[ 0.         -1.0263157  -1.08249866 -0.04584589]\n",
      " [ 1.0263157   0.         -0.05618296  0.98046981]\n",
      " [ 1.08249866  0.05618296  0.          1.03665277]\n",
      " [ 0.04584589 -0.98046981 -1.03665277  0.        ]]\n",
      "(4,)\n",
      "[-0.1382643  -0.23415337  0.76743473 -0.46341769]\n",
      "(4, 1)\n",
      "[[-0.1382643 ]\n",
      " [-0.23415337]\n",
      " [ 0.76743473]\n",
      " [-0.46341769]]\n",
      "[[ 0.          0.09588907 -0.90569903  0.32515339]\n",
      " [-0.09588907  0.         -1.0015881   0.22926432]\n",
      " [ 0.90569903  1.0015881   0.          1.23085242]\n",
      " [-0.32515339 -0.22926432 -1.23085242  0.        ]]\n",
      "(4,)\n",
      "[ 0.64768854 -0.23413696 -0.46947439 -0.46572975]\n",
      "(4, 1)\n",
      "[[ 0.64768854]\n",
      " [-0.23413696]\n",
      " [-0.46947439]\n",
      " [-0.46572975]]\n",
      "[[ 0.          0.8818255   1.11716292  1.11341829]\n",
      " [-0.8818255   0.          0.23533743  0.2315928 ]\n",
      " [-1.11716292 -0.23533743  0.         -0.00374463]\n",
      " [-1.11341829 -0.2315928   0.00374463  0.        ]]\n"
     ]
    },
    {
     "data": {
      "text/plain": [
       "''"
      ]
     },
     "execution_count": 86,
     "metadata": {},
     "output_type": "execute_result"
    }
   ],
   "source": [
    "#x\n",
    "\n",
    "ax = pos[:,0]\n",
    "bx = ax.reshape((N,1))\n",
    "print(ax.shape)\n",
    "print(ax)\n",
    "print(bx.shape)\n",
    "print(bx)\n",
    "\n",
    "cx = bx - ax\n",
    "print(cx)\n",
    "\n",
    "#y\n",
    "\n",
    "ay = pos[:,1]\n",
    "by = ay.reshape((N,1))\n",
    "print(ay.shape)\n",
    "print(ay)\n",
    "print(by.shape)\n",
    "print(by)\n",
    "\n",
    "cy = by - ay\n",
    "print(cy)\n",
    "\n",
    "#y\n",
    "\n",
    "az = pos[:,2]\n",
    "bz = az.reshape((N,1))\n",
    "print(az.shape)\n",
    "print(az)\n",
    "print(bz.shape)\n",
    "print(bz)\n",
    "\n",
    "cz = bz - az\n",
    "print(cz)\n",
    "\n",
    ";"
   ]
  },
  {
   "cell_type": "code",
   "execution_count": 93,
   "metadata": {},
   "outputs": [
    {
     "name": "stdout",
     "output_type": "stream",
     "text": [
      "(3, 4, 4)\n",
      "[[[ 0.         -1.0263157  -1.08249866 -0.04584589]\n",
      "  [ 1.0263157   0.         -0.05618296  0.98046981]\n",
      "  [ 1.08249866  0.05618296  0.          1.03665277]\n",
      "  [ 0.04584589 -0.98046981 -1.03665277  0.        ]]\n",
      "\n",
      " [[ 0.          0.09588907 -0.90569903  0.32515339]\n",
      "  [-0.09588907  0.         -1.0015881   0.22926432]\n",
      "  [ 0.90569903  1.0015881   0.          1.23085242]\n",
      "  [-0.32515339 -0.22926432 -1.23085242  0.        ]]\n",
      "\n",
      " [[ 0.          0.8818255   1.11716292  1.11341829]\n",
      "  [-0.8818255   0.          0.23533743  0.2315928 ]\n",
      "  [-1.11716292 -0.23533743  0.         -0.00374463]\n",
      "  [-1.11341829 -0.2315928   0.00374463  0.        ]]]\n",
      "[-1.0263157   0.09588907  0.8818255 ]\n",
      "-1.0263157033967927 0.09588907355215132 0.8818254950498731\n"
     ]
    }
   ],
   "source": [
    "r = np.array((cx, cy, cz))\n",
    "print(r.shape)\n",
    "print(r)\n",
    "\n",
    "#r1-r2\n",
    "\n",
    "prova = r[:,0,1]\n",
    "print(prova)\n",
    "print(cx[0,1],cy[0,1],cz[0,1])\n"
   ]
  },
  {
   "cell_type": "code",
   "execution_count": 95,
   "metadata": {},
   "outputs": [
    {
     "name": "stdout",
     "output_type": "stream",
     "text": [
      "2.496171800041165\n"
     ]
    }
   ],
   "source": [
    "print((np.linalg.norm(prova))**3.)"
   ]
  },
  {
   "cell_type": "code",
   "execution_count": 52,
   "metadata": {},
   "outputs": [
    {
     "name": "stdout",
     "output_type": "stream",
     "text": [
      "(4, 1)\n",
      "[[1 2 3 4]]\n",
      "(4,)\n",
      "[1 2 3 4]\n",
      "[[ 0 -1 -2 -3]\n",
      " [ 1  0 -1 -2]\n",
      " [ 2  1  0 -1]\n",
      " [ 3  2  1  0]]\n"
     ]
    }
   ],
   "source": [
    "a = [1,2,3,4]\n",
    "a = np.array(a).reshape((4,1))\n",
    "print(a.shape)\n",
    "print(a.T)\n",
    "b = [1,2,3,4]\n",
    "b = np.array(b)\n",
    "print(b.shape)\n",
    "print(b)\n",
    "\n",
    "c = a - b\n",
    "\n",
    "print(c)"
   ]
  }
 ],
 "metadata": {
  "kernelspec": {
   "display_name": "Python 3",
   "language": "python",
   "name": "python3"
  },
  "language_info": {
   "codemirror_mode": {
    "name": "ipython",
    "version": 3
   },
   "file_extension": ".py",
   "mimetype": "text/x-python",
   "name": "python",
   "nbconvert_exporter": "python",
   "pygments_lexer": "ipython3",
   "version": "3.10.12"
  }
 },
 "nbformat": 4,
 "nbformat_minor": 2
}
