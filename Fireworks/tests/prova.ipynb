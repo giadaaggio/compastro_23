{
 "cells": [
  {
   "cell_type": "markdown",
   "metadata": {},
   "source": [
    "LET'S TRY"
   ]
  },
  {
   "cell_type": "code",
   "execution_count": 107,
   "metadata": {},
   "outputs": [],
   "source": [
    "import numpy as np\n",
    "import matplotlib.pyplot as plt\n",
    "import fireworks.ic as fic\n",
    "import pytest\n",
    "from numpy.random import seed"
   ]
  },
  {
   "cell_type": "code",
   "execution_count": 108,
   "metadata": {},
   "outputs": [
    {
     "name": "stdout",
     "output_type": "stream",
     "text": [
      "pos= [[ 1  0  0]\n",
      " [-1  0  0]\n",
      " [ 0  1  0]\n",
      " [ 0 -1  0]]\n",
      "vel= [[0 0 0]\n",
      " [0 0 0]\n",
      " [0 0 0]\n",
      " [0 0 0]]\n",
      "mass= [1. 1. 1. 1.]\n"
     ]
    }
   ],
   "source": [
    "seed(42)\n",
    "N    = 4\n",
    "mass = 1\n",
    "p    = [1,0,0], [-1,0,0],[0,1,0],[0,-1,0]\n",
    "pos  = np.array(p)\n",
    "v    = [0,0,0], [0,0,0],[0,0,0],[0,0,0]\n",
    "vel  = np.array(v)\n",
    "#pos  = np.random.normal(size=3*N).reshape(N,3) # Generate 3xN 1D array and then reshape as a Nx3 array\n",
    "#vel  = np.random.normal(size=3*N).reshape(N,3) # Generate 3xN 1D array and then reshape as a Nx3 array\n",
    "mass = np.ones(N)*mass\n",
    "\n",
    "print ('pos=', pos)\n",
    "print('vel=', vel)\n",
    "print('mass=', mass)\n"
   ]
  },
  {
   "cell_type": "code",
   "execution_count": 109,
   "metadata": {},
   "outputs": [
    {
     "name": "stdout",
     "output_type": "stream",
     "text": [
      "(4,)\n",
      "[ 1 -1  0  0]\n",
      "(4, 1)\n",
      "[[ 1]\n",
      " [-1]\n",
      " [ 0]\n",
      " [ 0]]\n",
      "[[ 0  2  1  1]\n",
      " [-2  0 -1 -1]\n",
      " [-1  1  0  0]\n",
      " [-1  1  0  0]]\n"
     ]
    },
    {
     "data": {
      "text/plain": [
       "''"
      ]
     },
     "execution_count": 109,
     "metadata": {},
     "output_type": "execute_result"
    }
   ],
   "source": [
    "#x\n",
    "\n",
    "ax = pos[:,0]\n",
    "bx = ax.reshape((N,1))\n",
    "print(ax.shape)\n",
    "print(ax)\n",
    "print(bx.shape)\n",
    "print(bx)\n",
    "\n",
    "cx = bx - ax\n",
    "print(cx)\n",
    "\n",
    "#y\n",
    "\n",
    "ay = pos[:,1]\n",
    "by = ay.reshape((N,1))\n",
    "#print(ay.shape)\n",
    "#print(ay)\n",
    "#print(by.shape)\n",
    "#print(by)\n",
    "\n",
    "cy = by - ay\n",
    "#print(cy)\n",
    "\n",
    "#y\n",
    "\n",
    "az = pos[:,2]\n",
    "bz = az.reshape((N,1))\n",
    "#print(az.shape)\n",
    "#print(az)\n",
    "#print(bz.shape)\n",
    "#print(bz)\n",
    "\n",
    "cz = bz - az\n",
    "#print(cz)\n",
    "\n",
    ";"
   ]
  },
  {
   "cell_type": "code",
   "execution_count": 110,
   "metadata": {},
   "outputs": [
    {
     "name": "stdout",
     "output_type": "stream",
     "text": [
      "(3, 4, 4)\n",
      "[[[ 0  2  1  1]\n",
      "  [-2  0 -1 -1]\n",
      "  [-1  1  0  0]\n",
      "  [-1  1  0  0]]\n",
      "\n",
      " [[ 0  0 -1  1]\n",
      "  [ 0  0 -1  1]\n",
      "  [ 1  1  0  2]\n",
      "  [-1 -1 -2  0]]\n",
      "\n",
      " [[ 0  0  0  0]\n",
      "  [ 0  0  0  0]\n",
      "  [ 0  0  0  0]\n",
      "  [ 0  0  0  0]]]\n"
     ]
    }
   ],
   "source": [
    "r = np.array((cx, cy, cz))\n",
    "print(r.shape)\n",
    "print(r)\n",
    "\n",
    "\n",
    "#r3 = np.linalg.norm(r)\n",
    "#print(r3)\n",
    "#QUESTO NON FUNZIONA"
   ]
  },
  {
   "cell_type": "code",
   "execution_count": 111,
   "metadata": {},
   "outputs": [
    {
     "name": "stdout",
     "output_type": "stream",
     "text": [
      "(4, 4)\n",
      "[[0.         2.         1.41421356 1.41421356]\n",
      " [2.         0.         1.41421356 1.41421356]\n",
      " [1.41421356 1.41421356 0.         2.        ]\n",
      " [1.41421356 1.41421356 2.         0.        ]]\n",
      "[[0.         8.         2.82842712 2.82842712]\n",
      " [8.         0.         2.82842712 2.82842712]\n",
      " [2.82842712 2.82842712 0.         8.        ]\n",
      " [2.82842712 2.82842712 8.         0.        ]]\n"
     ]
    }
   ],
   "source": [
    "\n",
    "deltax2 = r[0,:,:]**2\n",
    "deltay2 = r[1,:,:]**2\n",
    "deltaz2 = r[2,:,:]**2\n",
    "#modr  = np.dot(r, r2)\n",
    "#print(deltax2.shape)\n",
    "#print(deltax2)\n",
    "normr  = np.sqrt(deltax2 + deltay2 + deltaz2 )\n",
    "normr3 = normr**3\n",
    "print(normr.shape)\n",
    "print(normr)\n",
    "print(normr3)"
   ]
  },
  {
   "cell_type": "code",
   "execution_count": 112,
   "metadata": {},
   "outputs": [
    {
     "name": "stdout",
     "output_type": "stream",
     "text": [
      "[[[        nan  0.25        0.35355339  0.35355339]\n",
      "  [-0.25               nan -0.35355339 -0.35355339]\n",
      "  [-0.35355339  0.35355339         nan  0.        ]\n",
      "  [-0.35355339  0.35355339  0.                 nan]]\n",
      "\n",
      " [[        nan  0.         -0.35355339  0.35355339]\n",
      "  [ 0.                 nan -0.35355339  0.35355339]\n",
      "  [ 0.35355339  0.35355339         nan  0.25      ]\n",
      "  [-0.35355339 -0.35355339 -0.25               nan]]\n",
      "\n",
      " [[        nan  0.          0.          0.        ]\n",
      "  [ 0.                 nan  0.          0.        ]\n",
      "  [ 0.          0.                 nan  0.        ]\n",
      "  [ 0.          0.          0.                 nan]]]\n"
     ]
    },
    {
     "name": "stderr",
     "output_type": "stream",
     "text": [
      "/tmp/ipykernel_419/2144248910.py:1: RuntimeWarning: invalid value encountered in divide\n",
      "  factor = r / normr3\n"
     ]
    }
   ],
   "source": [
    "factor = r / normr3\n",
    "print(factor)"
   ]
  },
  {
   "cell_type": "code",
   "execution_count": 113,
   "metadata": {},
   "outputs": [
    {
     "name": "stdout",
     "output_type": "stream",
     "text": [
      "[[[ 0.          0.25        0.35355339  0.35355339]\n",
      "  [-0.25        0.         -0.35355339 -0.35355339]\n",
      "  [-0.35355339  0.35355339  0.          0.        ]\n",
      "  [-0.35355339  0.35355339  0.          0.        ]]\n",
      "\n",
      " [[ 0.          0.         -0.35355339  0.35355339]\n",
      "  [ 0.          0.         -0.35355339  0.35355339]\n",
      "  [ 0.35355339  0.35355339  0.          0.25      ]\n",
      "  [-0.35355339 -0.35355339 -0.25        0.        ]]\n",
      "\n",
      " [[ 0.          0.          0.          0.        ]\n",
      "  [ 0.          0.          0.          0.        ]\n",
      "  [ 0.          0.          0.          0.        ]\n",
      "  [ 0.          0.          0.          0.        ]]]\n"
     ]
    }
   ],
   "source": [
    "addend = mass*factor\n",
    "addend[np.isnan(addend)] = 0\n",
    "print(addend)"
   ]
  },
  {
   "cell_type": "code",
   "execution_count": 114,
   "metadata": {},
   "outputs": [],
   "source": [
    "#addendx = np.triu(addend[0,:,:],1)\n",
    "#addendy = np.triu(addend[1,:,:],1)\n",
    "#addendz = np.triu(addend[2,:,:],1)\n",
    "#print(addendx)\n",
    "#print(addendy)\n",
    "#print(addendz)\n",
    "\n",
    "#NON FUNZIONA PERCHÈ NON BISOGNA FARE SOLO LA UPPER DIAG!"
   ]
  },
  {
   "cell_type": "code",
   "execution_count": 115,
   "metadata": {},
   "outputs": [
    {
     "name": "stdout",
     "output_type": "stream",
     "text": [
      "[[ 0.          0.25        0.35355339  0.35355339]\n",
      " [-0.25        0.         -0.35355339 -0.35355339]\n",
      " [-0.35355339  0.35355339  0.          0.        ]\n",
      " [-0.35355339  0.35355339  0.          0.        ]]\n",
      "[[ 0.          0.         -0.35355339  0.35355339]\n",
      " [ 0.          0.         -0.35355339  0.35355339]\n",
      " [ 0.35355339  0.35355339  0.          0.25      ]\n",
      " [-0.35355339 -0.35355339 -0.25        0.        ]]\n",
      "[[0. 0. 0. 0.]\n",
      " [0. 0. 0. 0.]\n",
      " [0. 0. 0. 0.]\n",
      " [0. 0. 0. 0.]]\n"
     ]
    }
   ],
   "source": [
    "addendx = addend[0,:,:]\n",
    "addendy = addend[1,:,:]\n",
    "addendz = addend[2,:,:]\n",
    "print(addendx)\n",
    "print(addendy)\n",
    "print(addendz)"
   ]
  },
  {
   "cell_type": "code",
   "execution_count": 116,
   "metadata": {},
   "outputs": [
    {
     "name": "stdout",
     "output_type": "stream",
     "text": [
      "[-0.95710678  0.95710678 -0.         -0.        ]\n",
      "[-0.         -0.         -0.95710678  0.95710678]\n",
      "[-0. -0. -0. -0.]\n"
     ]
    }
   ],
   "source": [
    "ax = - addendx.sum(axis=1)\n",
    "ay = - addendy.sum(axis=1)\n",
    "az = - addendz.sum(axis=1)\n",
    "print(ax)\n",
    "print(ay)\n",
    "print(az)"
   ]
  },
  {
   "cell_type": "code",
   "execution_count": 119,
   "metadata": {},
   "outputs": [
    {
     "name": "stdout",
     "output_type": "stream",
     "text": [
      "[[-0.95710678 -0.         -0.        ]\n",
      " [ 0.95710678 -0.         -0.        ]\n",
      " [-0.         -0.95710678 -0.        ]\n",
      " [-0.          0.95710678 -0.        ]]\n"
     ]
    }
   ],
   "source": [
    "acc = np.array((ax, ay, az))\n",
    "acc = acc.T\n",
    "print(acc)"
   ]
  },
  {
   "cell_type": "code",
   "execution_count": 118,
   "metadata": {},
   "outputs": [
    {
     "name": "stdout",
     "output_type": "stream",
     "text": [
      "[[-0.95710678  0.          0.        ]\n",
      " [ 0.95710678  0.          0.        ]\n",
      " [ 0.         -0.95710678  0.        ]\n",
      " [ 0.          0.95710678  0.        ]]\n"
     ]
    }
   ],
   "source": [
    "acc2     = np.zeros((N,3),float)\n",
    "force2   = np.zeros((N, 3),float)\n",
    "\n",
    "for i in range(N):\n",
    "    for j in range(N):\n",
    "        if i != j:\n",
    "            denom      = np.linalg.norm(pos[i] - pos[j])**3\n",
    "            temp       = - mass[j]*(pos[i] - pos[j]) / denom\n",
    "            acc2[i,:]   = acc2[i,:] + temp\n",
    "\n",
    "\n",
    "    force2[i,:]    = Force(mass[i], acc2[i,:])\n",
    "\n",
    "print(acc2)"
   ]
  }
 ],
 "metadata": {
  "kernelspec": {
   "display_name": "Python 3",
   "language": "python",
   "name": "python3"
  },
  "language_info": {
   "codemirror_mode": {
    "name": "ipython",
    "version": 3
   },
   "file_extension": ".py",
   "mimetype": "text/x-python",
   "name": "python",
   "nbconvert_exporter": "python",
   "pygments_lexer": "ipython3",
   "version": "3.10.12"
  }
 },
 "nbformat": 4,
 "nbformat_minor": 2
}
