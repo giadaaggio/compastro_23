{
 "cells": [
  {
   "cell_type": "markdown",
   "metadata": {},
   "source": [
    "LET'S TRY"
   ]
  },
  {
   "cell_type": "code",
   "execution_count": 69,
   "metadata": {},
   "outputs": [],
   "source": [
    "import numpy as np\n",
    "import matplotlib.pyplot as plt\n",
    "import fireworks.ic as fic\n",
    "import pytest\n",
    "from numpy.random import seed"
   ]
  },
  {
   "cell_type": "code",
   "execution_count": 70,
   "metadata": {},
   "outputs": [
    {
     "name": "stdout",
     "output_type": "stream",
     "text": [
      "pos= [[ 1  0  0]\n",
      " [-1  0  0]\n",
      " [ 0  1  0]\n",
      " [ 0 -1  0]]\n",
      "vel= [[0 0 0]\n",
      " [0 0 0]\n",
      " [0 0 0]\n",
      " [0 0 0]]\n",
      "mass= [1. 1. 1. 1.]\n"
     ]
    }
   ],
   "source": [
    "seed(42)\n",
    "N    = 4\n",
    "mass = 1\n",
    "p    = [1,0,0], [-1,0,0],[0,1,0],[0,-1,0]\n",
    "pos  = np.array(p)\n",
    "v    = [0,0,0], [0,0,0],[0,0,0],[0,0,0]\n",
    "vel  = np.array(v)\n",
    "#pos  = np.random.normal(size=3*N).reshape(N,3) # Generate 3xN 1D array and then reshape as a Nx3 array\n",
    "#vel  = np.random.normal(size=3*N).reshape(N,3) # Generate 3xN 1D array and then reshape as a Nx3 array\n",
    "mass = np.ones(N)*mass\n",
    "\n",
    "print ('pos=', pos)\n",
    "print('vel=', vel)\n",
    "print('mass=', mass)\n"
   ]
  },
  {
   "cell_type": "code",
   "execution_count": 71,
   "metadata": {},
   "outputs": [
    {
     "name": "stdout",
     "output_type": "stream",
     "text": [
      "(4,)\n",
      "[ 1 -1  0  0]\n",
      "(4, 1)\n",
      "[[ 1]\n",
      " [-1]\n",
      " [ 0]\n",
      " [ 0]]\n",
      "[[ 0 -2 -1 -1]\n",
      " [ 2  0  1  1]\n",
      " [ 1 -1  0  0]\n",
      " [ 1 -1  0  0]]\n"
     ]
    },
    {
     "data": {
      "text/plain": [
       "''"
      ]
     },
     "execution_count": 71,
     "metadata": {},
     "output_type": "execute_result"
    }
   ],
   "source": [
    "#x\n",
    "\n",
    "ax = pos[:,0]\n",
    "bx = ax.reshape((N,1))\n",
    "print(ax.shape)\n",
    "print(ax)\n",
    "print(bx.shape)\n",
    "print(bx)\n",
    "\n",
    "cx = ax - bx\n",
    "print(cx)\n",
    "\n",
    "#y\n",
    "\n",
    "ay = pos[:,1]\n",
    "by = ay.reshape((N,1))\n",
    "#print(ay.shape)\n",
    "#print(ay)\n",
    "#print(by.shape)\n",
    "#print(by)\n",
    "\n",
    "cy = ay - by\n",
    "#print(cy)\n",
    "\n",
    "#y\n",
    "\n",
    "az = pos[:,2]\n",
    "bz = az.reshape((N,1))\n",
    "#print(az.shape)\n",
    "#print(az)\n",
    "#print(bz.shape)\n",
    "#print(bz)\n",
    "\n",
    "cz = az - bz\n",
    "#print(cz)\n",
    "\n",
    ";"
   ]
  },
  {
   "cell_type": "code",
   "execution_count": 72,
   "metadata": {},
   "outputs": [
    {
     "name": "stdout",
     "output_type": "stream",
     "text": [
      "(3, 4, 4)\n",
      "[[[ 0 -2 -1 -1]\n",
      "  [ 2  0  1  1]\n",
      "  [ 1 -1  0  0]\n",
      "  [ 1 -1  0  0]]\n",
      "\n",
      " [[ 0  0  1 -1]\n",
      "  [ 0  0  1 -1]\n",
      "  [-1 -1  0 -2]\n",
      "  [ 1  1  2  0]]\n",
      "\n",
      " [[ 0  0  0  0]\n",
      "  [ 0  0  0  0]\n",
      "  [ 0  0  0  0]\n",
      "  [ 0  0  0  0]]]\n"
     ]
    }
   ],
   "source": [
    "r = np.array((cx, cy, cz))\n",
    "print(r.shape)\n",
    "print(r)\n",
    "\n",
    "#QUESTO NON FUNZIONA\n",
    "#r3 = np.linalg.norm(r)\n",
    "#print(r3)"
   ]
  },
  {
   "cell_type": "code",
   "execution_count": 73,
   "metadata": {},
   "outputs": [
    {
     "name": "stdout",
     "output_type": "stream",
     "text": [
      "(4, 4)\n",
      "[[0 4 2 2]\n",
      " [4 0 2 2]\n",
      " [2 2 0 4]\n",
      " [2 2 4 0]]\n"
     ]
    }
   ],
   "source": [
    "\n",
    "deltax2 = r[0,:,:]**2\n",
    "deltay2 = r[1,:,:]**2\n",
    "deltaz2 = r[2,:,:]**2\n",
    "#modr  = np.dot(r, r2)\n",
    "#print(deltax2.shape)\n",
    "#print(deltax2)\n",
    "normr  = deltax2 + deltay2 + deltaz2\n",
    "normr3 = normr**3\n",
    "print(normr.shape)\n",
    "print(normr)\n",
    "#print(normr3)"
   ]
  },
  {
   "cell_type": "code",
   "execution_count": 74,
   "metadata": {},
   "outputs": [
    {
     "name": "stdout",
     "output_type": "stream",
     "text": [
      "[[[     nan -0.03125 -0.125   -0.125  ]\n",
      "  [ 0.03125      nan  0.125    0.125  ]\n",
      "  [ 0.125   -0.125        nan  0.     ]\n",
      "  [ 0.125   -0.125    0.           nan]]\n",
      "\n",
      " [[     nan  0.       0.125   -0.125  ]\n",
      "  [ 0.           nan  0.125   -0.125  ]\n",
      "  [-0.125   -0.125        nan -0.03125]\n",
      "  [ 0.125    0.125    0.03125      nan]]\n",
      "\n",
      " [[     nan  0.       0.       0.     ]\n",
      "  [ 0.           nan  0.       0.     ]\n",
      "  [ 0.       0.           nan  0.     ]\n",
      "  [ 0.       0.       0.           nan]]]\n"
     ]
    },
    {
     "name": "stderr",
     "output_type": "stream",
     "text": [
      "/tmp/ipykernel_419/2144248910.py:1: RuntimeWarning: invalid value encountered in divide\n",
      "  factor = r / normr3\n"
     ]
    }
   ],
   "source": [
    "factor = r / normr3\n",
    "print(factor)"
   ]
  },
  {
   "cell_type": "code",
   "execution_count": 75,
   "metadata": {},
   "outputs": [
    {
     "name": "stdout",
     "output_type": "stream",
     "text": [
      "[[[ 0.      -0.03125 -0.125   -0.125  ]\n",
      "  [ 0.03125  0.       0.125    0.125  ]\n",
      "  [ 0.125   -0.125    0.       0.     ]\n",
      "  [ 0.125   -0.125    0.       0.     ]]\n",
      "\n",
      " [[ 0.       0.       0.125   -0.125  ]\n",
      "  [ 0.       0.       0.125   -0.125  ]\n",
      "  [-0.125   -0.125    0.      -0.03125]\n",
      "  [ 0.125    0.125    0.03125  0.     ]]\n",
      "\n",
      " [[ 0.       0.       0.       0.     ]\n",
      "  [ 0.       0.       0.       0.     ]\n",
      "  [ 0.       0.       0.       0.     ]\n",
      "  [ 0.       0.       0.       0.     ]]]\n"
     ]
    }
   ],
   "source": [
    "addend = mass*factor\n",
    "addend[np.isnan(addend)] = 0\n",
    "print(addend)"
   ]
  },
  {
   "cell_type": "code",
   "execution_count": 76,
   "metadata": {},
   "outputs": [],
   "source": [
    "#addendx = np.triu(addend[0,:,:],1)\n",
    "#addendy = np.triu(addend[1,:,:],1)\n",
    "#addendz = np.triu(addend[2,:,:],1)\n",
    "#print(addendx)\n",
    "#print(addendy)\n",
    "#print(addendz)\n",
    "\n",
    "#NON FUNZIONA PERCHÈ NON BISOGNA FARE SOLO LA UPPER DIAG!"
   ]
  },
  {
   "cell_type": "code",
   "execution_count": 77,
   "metadata": {},
   "outputs": [
    {
     "name": "stdout",
     "output_type": "stream",
     "text": [
      "[[ 0.      -0.03125 -0.125   -0.125  ]\n",
      " [ 0.03125  0.       0.125    0.125  ]\n",
      " [ 0.125   -0.125    0.       0.     ]\n",
      " [ 0.125   -0.125    0.       0.     ]]\n",
      "[[ 0.       0.       0.125   -0.125  ]\n",
      " [ 0.       0.       0.125   -0.125  ]\n",
      " [-0.125   -0.125    0.      -0.03125]\n",
      " [ 0.125    0.125    0.03125  0.     ]]\n",
      "[[0. 0. 0. 0.]\n",
      " [0. 0. 0. 0.]\n",
      " [0. 0. 0. 0.]\n",
      " [0. 0. 0. 0.]]\n"
     ]
    }
   ],
   "source": [
    "addendx = addend[0,:,:]\n",
    "addendy = addend[1,:,:]\n",
    "addendz = addend[2,:,:]\n",
    "print(addendx)\n",
    "print(addendy)\n",
    "print(addendz)"
   ]
  },
  {
   "cell_type": "code",
   "execution_count": 78,
   "metadata": {},
   "outputs": [
    {
     "name": "stdout",
     "output_type": "stream",
     "text": [
      "[-0.28125  0.28125  0.       0.     ]\n",
      "[ 0.       0.      -0.28125  0.28125]\n",
      "[0. 0. 0. 0.]\n"
     ]
    }
   ],
   "source": [
    "ax = addendx.sum(axis=1)\n",
    "ay = addendy.sum(axis=1)\n",
    "az = addendz.sum(axis=1)\n",
    "print(ax)\n",
    "print(ay)\n",
    "print(az)"
   ]
  },
  {
   "cell_type": "code",
   "execution_count": 82,
   "metadata": {},
   "outputs": [
    {
     "name": "stdout",
     "output_type": "stream",
     "text": [
      "[[-0.28125  0.28125  0.       0.     ]\n",
      " [ 0.       0.      -0.28125  0.28125]\n",
      " [ 0.       0.       0.       0.     ]]\n"
     ]
    }
   ],
   "source": [
    "a = np.array((ax, ay, az))\n",
    "print(a)"
   ]
  },
  {
   "cell_type": "code",
   "execution_count": 79,
   "metadata": {},
   "outputs": [
    {
     "name": "stdout",
     "output_type": "stream",
     "text": [
      "[-2  0  0]\n",
      "-2 0 0\n",
      "8.0\n"
     ]
    }
   ],
   "source": [
    "prova = r[:,0,1]\n",
    "print(prova)\n",
    "print(cx[0,1],cy[0,1],cz[0,1])\n",
    "print((np.linalg.norm(prova))**3.)"
   ]
  },
  {
   "cell_type": "code",
   "execution_count": 80,
   "metadata": {},
   "outputs": [
    {
     "name": "stdout",
     "output_type": "stream",
     "text": [
      "(4, 1)\n",
      "[[1 2 3 4]]\n",
      "(4,)\n",
      "[1 2 3 4]\n",
      "[[ 0 -1 -2 -3]\n",
      " [ 1  0 -1 -2]\n",
      " [ 2  1  0 -1]\n",
      " [ 3  2  1  0]]\n"
     ]
    }
   ],
   "source": [
    "a = [1,2,3,4]\n",
    "a = np.array(a).reshape((4,1))\n",
    "print(a.shape)\n",
    "print(a.T)\n",
    "b = [1,2,3,4]\n",
    "b = np.array(b)\n",
    "print(b.shape)\n",
    "print(b)\n",
    "\n",
    "c = a - b\n",
    "\n",
    "print(c)"
   ]
  }
 ],
 "metadata": {
  "kernelspec": {
   "display_name": "Python 3",
   "language": "python",
   "name": "python3"
  },
  "language_info": {
   "codemirror_mode": {
    "name": "ipython",
    "version": 3
   },
   "file_extension": ".py",
   "mimetype": "text/x-python",
   "name": "python",
   "nbconvert_exporter": "python",
   "pygments_lexer": "ipython3",
   "version": "3.10.12"
  }
 },
 "nbformat": 4,
 "nbformat_minor": 2
}
